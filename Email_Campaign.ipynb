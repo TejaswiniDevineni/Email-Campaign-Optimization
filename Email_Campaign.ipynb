{
  "cells": [
    {
      "cell_type": "markdown",
      "metadata": {
        "id": "view-in-github",
        "colab_type": "text"
      },
      "source": [
        "<a href=\"https://colab.research.google.com/github/TejaswiniDevineni/Email-Campaign-Optimization/blob/main/Email_Campaign.ipynb\" target=\"_parent\"><img src=\"https://colab.research.google.com/assets/colab-badge.svg\" alt=\"Open In Colab\"/></a>"
      ]
    },
    {
      "source": [
        "# Case Study - E-mail Campaign Optimization"
      ],
      "metadata": {
        "id": "194c47d7-fc9b-4fee-ba7c-b90ac262fb47"
      },
      "id": "194c47d7-fc9b-4fee-ba7c-b90ac262fb47",
      "cell_type": "markdown"
    },
    {
      "source": [
        "## Notebook Contents\n",
        "1. Data General Overview\n",
        "2. Data Wrangling & Cleaning\n",
        "3. Exploratory Analysis - Campaign Evaluation\n",
        "4. Predictive Analysis - Machine Learning Model\n",
        "5. Final Report & Findings"
      ],
      "metadata": {
        "id": "696fe0a8-b590-4fe6-90fd-dddc89222fea"
      },
      "id": "696fe0a8-b590-4fe6-90fd-dddc89222fea",
      "cell_type": "markdown"
    },
    {
      "source": [
        "### 1. Data General Overview"
      ],
      "metadata": {
        "id": "188c59a3-9cb9-4379-b114-42a905a3a1b4"
      },
      "id": "188c59a3-9cb9-4379-b114-42a905a3a1b4",
      "cell_type": "markdown"
    },
    {
      "source": [
        "# Import Needed Libraries \n",
        "import numpy as np \n",
        "import pandas as pd \n",
        "import matplotlib.pyplot as plt \n",
        "import seaborn as sns \n",
        "%matplotlib inline \n",
        "# Import other libraries \n",
        "import os, warnings, time, pickle"
      ],
      "metadata": {
        "id": "8f78115f-d084-4ebd-b93b-9357bd738f12"
      },
      "id": "8f78115f-d084-4ebd-b93b-9357bd738f12",
      "cell_type": "code",
      "execution_count": null,
      "outputs": []
    },
    {
      "source": [
        "# Load data and start overview\n",
        "df = pd.read_excel('data.xlsx')\n",
        "df.head()"
      ],
      "metadata": {
        "colab": {
          "base_uri": "https://localhost:8080/",
          "height": 206
        },
        "id": "397bc063-81fc-49c4-98f2-16108a86857a",
        "outputId": "912677b4-bc91-4554-f1c9-ac54da66141d"
      },
      "id": "397bc063-81fc-49c4-98f2-16108a86857a",
      "cell_type": "code",
      "execution_count": null,
      "outputs": [
        {
          "output_type": "execute_result",
          "data": {
            "text/plain": [
              "   recency history_segment  history  mens  womens   zip_code  newbie channel  \\\n",
              "0       10  2) $100 - $200   142.44     1       0  Surburban       0   Phone   \n",
              "1        6  3) $200 - $350   329.08     1       1      Rural       1     Web   \n",
              "2        7  2) $100 - $200   180.65     0       1  Surburban       1     Web   \n",
              "3        9  5) $500 - $750   675.83     1       0      Rural       1     Web   \n",
              "4        2    1) $0 - $100    45.34     1       0      Urban       0     Web   \n",
              "\n",
              "         segment  visit  conversion  spend  \n",
              "0  Womens E-Mail      0           0    0.0  \n",
              "1      No E-Mail      0           0    0.0  \n",
              "2  Womens E-Mail      0           0    0.0  \n",
              "3    Mens E-Mail      0           0    0.0  \n",
              "4  Womens E-Mail      0           0    0.0  "
            ],
            "text/html": [
              "\n",
              "  <div id=\"df-a651a7da-707e-46f2-962e-db1f67c18a89\">\n",
              "    <div class=\"colab-df-container\">\n",
              "      <div>\n",
              "<style scoped>\n",
              "    .dataframe tbody tr th:only-of-type {\n",
              "        vertical-align: middle;\n",
              "    }\n",
              "\n",
              "    .dataframe tbody tr th {\n",
              "        vertical-align: top;\n",
              "    }\n",
              "\n",
              "    .dataframe thead th {\n",
              "        text-align: right;\n",
              "    }\n",
              "</style>\n",
              "<table border=\"1\" class=\"dataframe\">\n",
              "  <thead>\n",
              "    <tr style=\"text-align: right;\">\n",
              "      <th></th>\n",
              "      <th>recency</th>\n",
              "      <th>history_segment</th>\n",
              "      <th>history</th>\n",
              "      <th>mens</th>\n",
              "      <th>womens</th>\n",
              "      <th>zip_code</th>\n",
              "      <th>newbie</th>\n",
              "      <th>channel</th>\n",
              "      <th>segment</th>\n",
              "      <th>visit</th>\n",
              "      <th>conversion</th>\n",
              "      <th>spend</th>\n",
              "    </tr>\n",
              "  </thead>\n",
              "  <tbody>\n",
              "    <tr>\n",
              "      <th>0</th>\n",
              "      <td>10</td>\n",
              "      <td>2) $100 - $200</td>\n",
              "      <td>142.44</td>\n",
              "      <td>1</td>\n",
              "      <td>0</td>\n",
              "      <td>Surburban</td>\n",
              "      <td>0</td>\n",
              "      <td>Phone</td>\n",
              "      <td>Womens E-Mail</td>\n",
              "      <td>0</td>\n",
              "      <td>0</td>\n",
              "      <td>0.0</td>\n",
              "    </tr>\n",
              "    <tr>\n",
              "      <th>1</th>\n",
              "      <td>6</td>\n",
              "      <td>3) $200 - $350</td>\n",
              "      <td>329.08</td>\n",
              "      <td>1</td>\n",
              "      <td>1</td>\n",
              "      <td>Rural</td>\n",
              "      <td>1</td>\n",
              "      <td>Web</td>\n",
              "      <td>No E-Mail</td>\n",
              "      <td>0</td>\n",
              "      <td>0</td>\n",
              "      <td>0.0</td>\n",
              "    </tr>\n",
              "    <tr>\n",
              "      <th>2</th>\n",
              "      <td>7</td>\n",
              "      <td>2) $100 - $200</td>\n",
              "      <td>180.65</td>\n",
              "      <td>0</td>\n",
              "      <td>1</td>\n",
              "      <td>Surburban</td>\n",
              "      <td>1</td>\n",
              "      <td>Web</td>\n",
              "      <td>Womens E-Mail</td>\n",
              "      <td>0</td>\n",
              "      <td>0</td>\n",
              "      <td>0.0</td>\n",
              "    </tr>\n",
              "    <tr>\n",
              "      <th>3</th>\n",
              "      <td>9</td>\n",
              "      <td>5) $500 - $750</td>\n",
              "      <td>675.83</td>\n",
              "      <td>1</td>\n",
              "      <td>0</td>\n",
              "      <td>Rural</td>\n",
              "      <td>1</td>\n",
              "      <td>Web</td>\n",
              "      <td>Mens E-Mail</td>\n",
              "      <td>0</td>\n",
              "      <td>0</td>\n",
              "      <td>0.0</td>\n",
              "    </tr>\n",
              "    <tr>\n",
              "      <th>4</th>\n",
              "      <td>2</td>\n",
              "      <td>1) $0 - $100</td>\n",
              "      <td>45.34</td>\n",
              "      <td>1</td>\n",
              "      <td>0</td>\n",
              "      <td>Urban</td>\n",
              "      <td>0</td>\n",
              "      <td>Web</td>\n",
              "      <td>Womens E-Mail</td>\n",
              "      <td>0</td>\n",
              "      <td>0</td>\n",
              "      <td>0.0</td>\n",
              "    </tr>\n",
              "  </tbody>\n",
              "</table>\n",
              "</div>\n",
              "      <button class=\"colab-df-convert\" onclick=\"convertToInteractive('df-a651a7da-707e-46f2-962e-db1f67c18a89')\"\n",
              "              title=\"Convert this dataframe to an interactive table.\"\n",
              "              style=\"display:none;\">\n",
              "        \n",
              "  <svg xmlns=\"http://www.w3.org/2000/svg\" height=\"24px\"viewBox=\"0 0 24 24\"\n",
              "       width=\"24px\">\n",
              "    <path d=\"M0 0h24v24H0V0z\" fill=\"none\"/>\n",
              "    <path d=\"M18.56 5.44l.94 2.06.94-2.06 2.06-.94-2.06-.94-.94-2.06-.94 2.06-2.06.94zm-11 1L8.5 8.5l.94-2.06 2.06-.94-2.06-.94L8.5 2.5l-.94 2.06-2.06.94zm10 10l.94 2.06.94-2.06 2.06-.94-2.06-.94-.94-2.06-.94 2.06-2.06.94z\"/><path d=\"M17.41 7.96l-1.37-1.37c-.4-.4-.92-.59-1.43-.59-.52 0-1.04.2-1.43.59L10.3 9.45l-7.72 7.72c-.78.78-.78 2.05 0 2.83L4 21.41c.39.39.9.59 1.41.59.51 0 1.02-.2 1.41-.59l7.78-7.78 2.81-2.81c.8-.78.8-2.07 0-2.86zM5.41 20L4 18.59l7.72-7.72 1.47 1.35L5.41 20z\"/>\n",
              "  </svg>\n",
              "      </button>\n",
              "      \n",
              "  <style>\n",
              "    .colab-df-container {\n",
              "      display:flex;\n",
              "      flex-wrap:wrap;\n",
              "      gap: 12px;\n",
              "    }\n",
              "\n",
              "    .colab-df-convert {\n",
              "      background-color: #E8F0FE;\n",
              "      border: none;\n",
              "      border-radius: 50%;\n",
              "      cursor: pointer;\n",
              "      display: none;\n",
              "      fill: #1967D2;\n",
              "      height: 32px;\n",
              "      padding: 0 0 0 0;\n",
              "      width: 32px;\n",
              "    }\n",
              "\n",
              "    .colab-df-convert:hover {\n",
              "      background-color: #E2EBFA;\n",
              "      box-shadow: 0px 1px 2px rgba(60, 64, 67, 0.3), 0px 1px 3px 1px rgba(60, 64, 67, 0.15);\n",
              "      fill: #174EA6;\n",
              "    }\n",
              "\n",
              "    [theme=dark] .colab-df-convert {\n",
              "      background-color: #3B4455;\n",
              "      fill: #D2E3FC;\n",
              "    }\n",
              "\n",
              "    [theme=dark] .colab-df-convert:hover {\n",
              "      background-color: #434B5C;\n",
              "      box-shadow: 0px 1px 3px 1px rgba(0, 0, 0, 0.15);\n",
              "      filter: drop-shadow(0px 1px 2px rgba(0, 0, 0, 0.3));\n",
              "      fill: #FFFFFF;\n",
              "    }\n",
              "  </style>\n",
              "\n",
              "      <script>\n",
              "        const buttonEl =\n",
              "          document.querySelector('#df-a651a7da-707e-46f2-962e-db1f67c18a89 button.colab-df-convert');\n",
              "        buttonEl.style.display =\n",
              "          google.colab.kernel.accessAllowed ? 'block' : 'none';\n",
              "\n",
              "        async function convertToInteractive(key) {\n",
              "          const element = document.querySelector('#df-a651a7da-707e-46f2-962e-db1f67c18a89');\n",
              "          const dataTable =\n",
              "            await google.colab.kernel.invokeFunction('convertToInteractive',\n",
              "                                                     [key], {});\n",
              "          if (!dataTable) return;\n",
              "\n",
              "          const docLinkHtml = 'Like what you see? Visit the ' +\n",
              "            '<a target=\"_blank\" href=https://colab.research.google.com/notebooks/data_table.ipynb>data table notebook</a>'\n",
              "            + ' to learn more about interactive tables.';\n",
              "          element.innerHTML = '';\n",
              "          dataTable['output_type'] = 'display_data';\n",
              "          await google.colab.output.renderOutput(dataTable, element);\n",
              "          const docLink = document.createElement('div');\n",
              "          docLink.innerHTML = docLinkHtml;\n",
              "          element.appendChild(docLink);\n",
              "        }\n",
              "      </script>\n",
              "    </div>\n",
              "  </div>\n",
              "  "
            ]
          },
          "metadata": {},
          "execution_count": 3
        }
      ]
    },
    {
      "source": [
        "# more overview of the data \n",
        "df.info()"
      ],
      "metadata": {
        "colab": {
          "base_uri": "https://localhost:8080/"
        },
        "id": "836a648d-a587-4478-abf7-632856564b1f",
        "outputId": "6b06eee8-788e-4cf4-e01b-b505e12f4f03"
      },
      "id": "836a648d-a587-4478-abf7-632856564b1f",
      "cell_type": "code",
      "execution_count": null,
      "outputs": [
        {
          "output_type": "stream",
          "name": "stdout",
          "text": [
            "<class 'pandas.core.frame.DataFrame'>\n",
            "RangeIndex: 64000 entries, 0 to 63999\n",
            "Data columns (total 12 columns):\n",
            " #   Column           Non-Null Count  Dtype  \n",
            "---  ------           --------------  -----  \n",
            " 0   recency          64000 non-null  int64  \n",
            " 1   history_segment  64000 non-null  object \n",
            " 2   history          64000 non-null  float64\n",
            " 3   mens             64000 non-null  int64  \n",
            " 4   womens           64000 non-null  int64  \n",
            " 5   zip_code         64000 non-null  object \n",
            " 6   newbie           64000 non-null  int64  \n",
            " 7   channel          64000 non-null  object \n",
            " 8   segment          64000 non-null  object \n",
            " 9   visit            64000 non-null  int64  \n",
            " 10  conversion       64000 non-null  int64  \n",
            " 11  spend            64000 non-null  float64\n",
            "dtypes: float64(2), int64(6), object(4)\n",
            "memory usage: 5.9+ MB\n"
          ]
        }
      ]
    },
    {
      "source": [
        "df.describe()"
      ],
      "metadata": {
        "id": "3dd468e0-84b7-4fb3-8438-167629ee78b6",
        "outputId": "56bfe676-009a-40d5-be2c-413592dedad4"
      },
      "id": "3dd468e0-84b7-4fb3-8438-167629ee78b6",
      "cell_type": "code",
      "execution_count": null,
      "outputs": [
        {
          "execution_count": 4,
          "output_type": "execute_result",
          "data": {
            "application/com.datacamp.data-table.v1+json": {
              "table": {
                "schema": {
                  "fields": [
                    {
                      "name": "index",
                      "type": "string"
                    },
                    {
                      "name": "recency",
                      "type": "number"
                    },
                    {
                      "name": "history",
                      "type": "number"
                    },
                    {
                      "name": "mens",
                      "type": "number"
                    },
                    {
                      "name": "womens",
                      "type": "number"
                    },
                    {
                      "name": "newbie",
                      "type": "number"
                    },
                    {
                      "name": "visit",
                      "type": "number"
                    },
                    {
                      "name": "conversion",
                      "type": "number"
                    },
                    {
                      "name": "spend",
                      "type": "number"
                    }
                  ],
                  "primaryKey": [
                    "index"
                  ],
                  "pandas_version": "0.20.0"
                },
                "data": [
                  {
                    "index": "count",
                    "recency": 64000,
                    "history": 64000,
                    "mens": 64000,
                    "womens": 64000,
                    "newbie": 64000,
                    "visit": 64000,
                    "conversion": 64000,
                    "spend": 64000
                  },
                  {
                    "index": "mean",
                    "recency": 5.763734375,
                    "history": 242.0856557812,
                    "mens": 0.55103125,
                    "womens": 0.54971875,
                    "newbie": 0.50225,
                    "visit": 0.14678125,
                    "conversion": 0.00903125,
                    "spend": 1.0509082812
                  },
                  {
                    "index": "std",
                    "recency": 3.5075916121,
                    "history": 256.1586082923,
                    "mens": 0.4973928801,
                    "womens": 0.4975257919,
                    "newbie": 0.4999988437,
                    "visit": 0.3538904795,
                    "conversion": 0.0946035219,
                    "spend": 15.0364481161
                  },
                  {
                    "index": "min",
                    "recency": 1,
                    "history": 29.99,
                    "mens": 0,
                    "womens": 0,
                    "newbie": 0,
                    "visit": 0,
                    "conversion": 0,
                    "spend": 0
                  },
                  {
                    "index": "25%",
                    "recency": 2,
                    "history": 64.66,
                    "mens": 0,
                    "womens": 0,
                    "newbie": 0,
                    "visit": 0,
                    "conversion": 0,
                    "spend": 0
                  },
                  {
                    "index": "50%",
                    "recency": 6,
                    "history": 158.11,
                    "mens": 1,
                    "womens": 1,
                    "newbie": 1,
                    "visit": 0,
                    "conversion": 0,
                    "spend": 0
                  },
                  {
                    "index": "75%",
                    "recency": 9,
                    "history": 325.6575,
                    "mens": 1,
                    "womens": 1,
                    "newbie": 1,
                    "visit": 0,
                    "conversion": 0,
                    "spend": 0
                  },
                  {
                    "index": "max",
                    "recency": 12,
                    "history": 3345.93,
                    "mens": 1,
                    "womens": 1,
                    "newbie": 1,
                    "visit": 1,
                    "conversion": 1,
                    "spend": 499
                  }
                ]
              },
              "total_rows": 8,
              "truncation_type": null
            },
            "text/plain": "            recency       history          mens        womens        newbie  \\\ncount  64000.000000  64000.000000  64000.000000  64000.000000  64000.000000   \nmean       5.763734    242.085656      0.551031      0.549719      0.502250   \nstd        3.507592    256.158608      0.497393      0.497526      0.499999   \nmin        1.000000     29.990000      0.000000      0.000000      0.000000   \n25%        2.000000     64.660000      0.000000      0.000000      0.000000   \n50%        6.000000    158.110000      1.000000      1.000000      1.000000   \n75%        9.000000    325.657500      1.000000      1.000000      1.000000   \nmax       12.000000   3345.930000      1.000000      1.000000      1.000000   \n\n              visit    conversion         spend  \ncount  64000.000000  64000.000000  64000.000000  \nmean       0.146781      0.009031      1.050908  \nstd        0.353890      0.094604     15.036448  \nmin        0.000000      0.000000      0.000000  \n25%        0.000000      0.000000      0.000000  \n50%        0.000000      0.000000      0.000000  \n75%        0.000000      0.000000      0.000000  \nmax        1.000000      1.000000    499.000000  ",
            "text/html": "<div>\n<style scoped>\n    .dataframe tbody tr th:only-of-type {\n        vertical-align: middle;\n    }\n\n    .dataframe tbody tr th {\n        vertical-align: top;\n    }\n\n    .dataframe thead th {\n        text-align: right;\n    }\n</style>\n<table border=\"1\" class=\"dataframe\">\n  <thead>\n    <tr style=\"text-align: right;\">\n      <th></th>\n      <th>recency</th>\n      <th>history</th>\n      <th>mens</th>\n      <th>womens</th>\n      <th>newbie</th>\n      <th>visit</th>\n      <th>conversion</th>\n      <th>spend</th>\n    </tr>\n  </thead>\n  <tbody>\n    <tr>\n      <th>count</th>\n      <td>64000.000000</td>\n      <td>64000.000000</td>\n      <td>64000.000000</td>\n      <td>64000.000000</td>\n      <td>64000.000000</td>\n      <td>64000.000000</td>\n      <td>64000.000000</td>\n      <td>64000.000000</td>\n    </tr>\n    <tr>\n      <th>mean</th>\n      <td>5.763734</td>\n      <td>242.085656</td>\n      <td>0.551031</td>\n      <td>0.549719</td>\n      <td>0.502250</td>\n      <td>0.146781</td>\n      <td>0.009031</td>\n      <td>1.050908</td>\n    </tr>\n    <tr>\n      <th>std</th>\n      <td>3.507592</td>\n      <td>256.158608</td>\n      <td>0.497393</td>\n      <td>0.497526</td>\n      <td>0.499999</td>\n      <td>0.353890</td>\n      <td>0.094604</td>\n      <td>15.036448</td>\n    </tr>\n    <tr>\n      <th>min</th>\n      <td>1.000000</td>\n      <td>29.990000</td>\n      <td>0.000000</td>\n      <td>0.000000</td>\n      <td>0.000000</td>\n      <td>0.000000</td>\n      <td>0.000000</td>\n      <td>0.000000</td>\n    </tr>\n    <tr>\n      <th>25%</th>\n      <td>2.000000</td>\n      <td>64.660000</td>\n      <td>0.000000</td>\n      <td>0.000000</td>\n      <td>0.000000</td>\n      <td>0.000000</td>\n      <td>0.000000</td>\n      <td>0.000000</td>\n    </tr>\n    <tr>\n      <th>50%</th>\n      <td>6.000000</td>\n      <td>158.110000</td>\n      <td>1.000000</td>\n      <td>1.000000</td>\n      <td>1.000000</td>\n      <td>0.000000</td>\n      <td>0.000000</td>\n      <td>0.000000</td>\n    </tr>\n    <tr>\n      <th>75%</th>\n      <td>9.000000</td>\n      <td>325.657500</td>\n      <td>1.000000</td>\n      <td>1.000000</td>\n      <td>1.000000</td>\n      <td>0.000000</td>\n      <td>0.000000</td>\n      <td>0.000000</td>\n    </tr>\n    <tr>\n      <th>max</th>\n      <td>12.000000</td>\n      <td>3345.930000</td>\n      <td>1.000000</td>\n      <td>1.000000</td>\n      <td>1.000000</td>\n      <td>1.000000</td>\n      <td>1.000000</td>\n      <td>499.000000</td>\n    </tr>\n  </tbody>\n</table>\n</div>"
          },
          "metadata": {}
        }
      ]
    },
    {
      "source": [
        "# getting if there are any outliers in data \n",
        "sns.distplot(df['history']);"
      ],
      "metadata": {
        "id": "699ed1c6-a740-426d-bc3b-da2f9bc1ef70",
        "outputId": "64b175e2-efcd-41bb-b0a1-60af87d14351"
      },
      "id": "699ed1c6-a740-426d-bc3b-da2f9bc1ef70",
      "cell_type": "code",
      "execution_count": null,
      "outputs": [
        {
          "output_type": "display_data",
          "data": {
            "text/plain": "<Figure size 432x288 with 1 Axes>",
            "image/png": "[encoded data removed]"
          },
          "metadata": {
            "needs_background": "light"
          }
        }
      ]
    },
    {
      "source": [
        "#### Main Findings in data that needs modification \n",
        "1. No missing values were found in data\n",
        "2. No outliers, box plot isn't showing outliers. Actually data is right skewed. \n",
        "3. Need to transform object data types into string\n",
        "4. men & women merchandise columns to be merged into one column\n",
        "\n",
        "#### More transformation would be needed in Predictive model building phase \n",
        "1. convert string data types into numerical (1/0)\n",
        "2. remove useless columns such as history_segment & one of one-hot encoded new columns\n",
        "3. It would be very obvious to remove conversion column as it's already noted from spend value. "
      ],
      "metadata": {
        "id": "28a8a05d-71c0-43e1-8600-8af2674049a0"
      },
      "id": "28a8a05d-71c0-43e1-8600-8af2674049a0",
      "cell_type": "markdown"
    },
    {
      "source": [
        "### 2. Data Wrangling & Cleaning "
      ],
      "metadata": {
        "id": "464b72f8-ec83-4552-9432-247f3a608044"
      },
      "id": "464b72f8-ec83-4552-9432-247f3a608044",
      "cell_type": "markdown"
    },
    {
      "source": [
        "# Convert object data types into string values\n",
        "for column in df.columns : \n",
        "    if df[column].dtype == 'O':\n",
        "        df[column] = df[column].astype('string')\n",
        "df.info()"
      ],
      "metadata": {
        "colab": {
          "base_uri": "https://localhost:8080/"
        },
        "id": "bb6846ac-8145-445e-8d66-ffd1a3ab23ec",
        "outputId": "9b955232-8953-4b85-eff6-bfd1e2e0aed4"
      },
      "id": "bb6846ac-8145-445e-8d66-ffd1a3ab23ec",
      "cell_type": "code",
      "execution_count": null,
      "outputs": [
        {
          "output_type": "stream",
          "name": "stdout",
          "text": [
            "<class 'pandas.core.frame.DataFrame'>\n",
            "RangeIndex: 64000 entries, 0 to 63999\n",
            "Data columns (total 12 columns):\n",
            " #   Column           Non-Null Count  Dtype  \n",
            "---  ------           --------------  -----  \n",
            " 0   recency          64000 non-null  int64  \n",
            " 1   history_segment  64000 non-null  string \n",
            " 2   history          64000 non-null  float64\n",
            " 3   mens             64000 non-null  int64  \n",
            " 4   womens           64000 non-null  int64  \n",
            " 5   zip_code         64000 non-null  string \n",
            " 6   newbie           64000 non-null  int64  \n",
            " 7   channel          64000 non-null  string \n",
            " 8   segment          64000 non-null  string \n",
            " 9   visit            64000 non-null  int64  \n",
            " 10  conversion       64000 non-null  int64  \n",
            " 11  spend            64000 non-null  float64\n",
            "dtypes: float64(2), int64(6), string(4)\n",
            "memory usage: 5.9 MB\n"
          ]
        }
      ]
    },
    {
      "source": [
        "# for data used in predictive analysis - ML Model \n",
        "df_ml = df.copy()\n",
        "df_ml = pd.get_dummies(df_ml, columns=['zip_code', 'channel', 'segment'], dtype='int64')\n",
        "df_ml = df_ml.drop(['history_segment', 'zip_code_Surburban', 'channel_Multichannel', 'segment_No E-Mail', 'conversion'], axis=1)\n",
        "df_ml.info()"
      ],
      "metadata": {
        "colab": {
          "base_uri": "https://localhost:8080/"
        },
        "id": "2728e2de-c09c-452c-91e6-8ca7633c0464",
        "outputId": "6f6704c6-bee2-48f4-f90b-eedb722d0b86"
      },
      "id": "2728e2de-c09c-452c-91e6-8ca7633c0464",
      "cell_type": "code",
      "execution_count": null,
      "outputs": [
        {
          "output_type": "stream",
          "name": "stdout",
          "text": [
            "<class 'pandas.core.frame.DataFrame'>\n",
            "RangeIndex: 64000 entries, 0 to 63999\n",
            "Data columns (total 13 columns):\n",
            " #   Column                 Non-Null Count  Dtype  \n",
            "---  ------                 --------------  -----  \n",
            " 0   recency                64000 non-null  int64  \n",
            " 1   history                64000 non-null  float64\n",
            " 2   mens                   64000 non-null  int64  \n",
            " 3   womens                 64000 non-null  int64  \n",
            " 4   newbie                 64000 non-null  int64  \n",
            " 5   visit                  64000 non-null  int64  \n",
            " 6   spend                  64000 non-null  float64\n",
            " 7   zip_code_Rural         64000 non-null  int64  \n",
            " 8   zip_code_Urban         64000 non-null  int64  \n",
            " 9   channel_Phone          64000 non-null  int64  \n",
            " 10  channel_Web            64000 non-null  int64  \n",
            " 11  segment_Mens E-Mail    64000 non-null  int64  \n",
            " 12  segment_Womens E-Mail  64000 non-null  int64  \n",
            "dtypes: float64(2), int64(11)\n",
            "memory usage: 6.3 MB\n"
          ]
        }
      ]
    },
    {
      "source": [
        "# rename columns in ML-dataset \n",
        "df_ml.rename(str.lower, axis='columns', inplace=True)\n",
        "df_ml.columns = df_ml.columns.str.replace(' ', '_')\n",
        "df_ml.info()"
      ],
      "metadata": {
        "colab": {
          "base_uri": "https://localhost:8080/"
        },
        "id": "0f91ffc1-4d04-4cb0-864d-cee3d729433d",
        "outputId": "9ef40a1c-f46e-447c-d109-aeac2064470e"
      },
      "id": "0f91ffc1-4d04-4cb0-864d-cee3d729433d",
      "cell_type": "code",
      "execution_count": null,
      "outputs": [
        {
          "output_type": "stream",
          "name": "stdout",
          "text": [
            "<class 'pandas.core.frame.DataFrame'>\n",
            "RangeIndex: 64000 entries, 0 to 63999\n",
            "Data columns (total 13 columns):\n",
            " #   Column                 Non-Null Count  Dtype  \n",
            "---  ------                 --------------  -----  \n",
            " 0   recency                64000 non-null  int64  \n",
            " 1   history                64000 non-null  float64\n",
            " 2   mens                   64000 non-null  int64  \n",
            " 3   womens                 64000 non-null  int64  \n",
            " 4   newbie                 64000 non-null  int64  \n",
            " 5   visit                  64000 non-null  int64  \n",
            " 6   spend                  64000 non-null  float64\n",
            " 7   zip_code_rural         64000 non-null  int64  \n",
            " 8   zip_code_urban         64000 non-null  int64  \n",
            " 9   channel_phone          64000 non-null  int64  \n",
            " 10  channel_web            64000 non-null  int64  \n",
            " 11  segment_mens_e-mail    64000 non-null  int64  \n",
            " 12  segment_womens_e-mail  64000 non-null  int64  \n",
            "dtypes: float64(2), int64(11)\n",
            "memory usage: 6.3 MB\n"
          ]
        }
      ]
    },
    {
      "source": [
        "### 3. Exploratory Analysis - Campaign Evaluation"
      ],
      "metadata": {
        "id": "e6595b0c-da28-456d-b03c-80047c3dd87f"
      },
      "id": "e6595b0c-da28-456d-b03c-80047c3dd87f",
      "cell_type": "markdown"
    },
    {
      "source": [
        "In this Section, we would work though main dataset after modification. \n",
        "\n",
        "Work would be to drive main insights helpful in predictive analysis and creating final analysis report. "
      ],
      "metadata": {
        "id": "37b54595-1c26-4901-b944-e3d9eac2d050"
      },
      "id": "37b54595-1c26-4901-b944-e3d9eac2d050",
      "cell_type": "markdown"
    },
    {
      "source": [
        "# data overview \n",
        "df.head()"
      ],
      "metadata": {
        "id": "81f080d8-ec0d-459c-8336-09c003276561",
        "outputId": "0cb4ea12-7f19-44a8-f28f-53ca588f6e0a"
      },
      "id": "81f080d8-ec0d-459c-8336-09c003276561",
      "cell_type": "code",
      "execution_count": null,
      "outputs": [
        {
          "execution_count": 9,
          "output_type": "execute_result",
          "data": {
            "application/com.datacamp.data-table.v1+json": {
              "table": {
                "schema": {
                  "fields": [
                    {
                      "name": "index",
                      "type": "integer"
                    },
                    {
                      "name": "recency",
                      "type": "integer"
                    },
                    {
                      "name": "history_segment",
                      "type": "string"
                    },
                    {
                      "name": "history",
                      "type": "number"
                    },
                    {
                      "name": "mens",
                      "type": "integer"
                    },
                    {
                      "name": "womens",
                      "type": "integer"
                    },
                    {
                      "name": "zip_code",
                      "type": "string"
                    },
                    {
                      "name": "newbie",
                      "type": "integer"
                    },
                    {
                      "name": "channel",
                      "type": "string"
                    },
                    {
                      "name": "segment",
                      "type": "string"
                    },
                    {
                      "name": "visit",
                      "type": "integer"
                    },
                    {
                      "name": "conversion",
                      "type": "integer"
                    },
                    {
                      "name": "spend",
                      "type": "number"
                    }
                  ],
                  "primaryKey": [
                    "index"
                  ],
                  "pandas_version": "0.20.0"
                },
                "data": [
                  {
                    "index": 0,
                    "recency": 10,
                    "history_segment": "2) $100 - $200",
                    "history": 142.44,
                    "mens": 1,
                    "womens": 0,
                    "zip_code": "Surburban",
                    "newbie": 0,
                    "channel": "Phone",
                    "segment": "Womens E-Mail",
                    "visit": 0,
                    "conversion": 0,
                    "spend": 0
                  },
                  {
                    "index": 1,
                    "recency": 6,
                    "history_segment": "3) $200 - $350",
                    "history": 329.08,
                    "mens": 1,
                    "womens": 1,
                    "zip_code": "Rural",
                    "newbie": 1,
                    "channel": "Web",
                    "segment": "No E-Mail",
                    "visit": 0,
                    "conversion": 0,
                    "spend": 0
                  },
                  {
                    "index": 2,
                    "recency": 7,
                    "history_segment": "2) $100 - $200",
                    "history": 180.65,
                    "mens": 0,
                    "womens": 1,
                    "zip_code": "Surburban",
                    "newbie": 1,
                    "channel": "Web",
                    "segment": "Womens E-Mail",
                    "visit": 0,
                    "conversion": 0,
                    "spend": 0
                  },
                  {
                    "index": 3,
                    "recency": 9,
                    "history_segment": "5) $500 - $750",
                    "history": 675.83,
                    "mens": 1,
                    "womens": 0,
                    "zip_code": "Rural",
                    "newbie": 1,
                    "channel": "Web",
                    "segment": "Mens E-Mail",
                    "visit": 0,
                    "conversion": 0,
                    "spend": 0
                  },
                  {
                    "index": 4,
                    "recency": 2,
                    "history_segment": "1) $0 - $100",
                    "history": 45.34,
                    "mens": 1,
                    "womens": 0,
                    "zip_code": "Urban",
                    "newbie": 0,
                    "channel": "Web",
                    "segment": "Womens E-Mail",
                    "visit": 0,
                    "conversion": 0,
                    "spend": 0
                  }
                ]
              },
              "total_rows": 5,
              "truncation_type": null
            },
            "text/plain": "   recency history_segment  history  mens  womens   zip_code  newbie channel  \\\n0       10  2) $100 - $200   142.44     1       0  Surburban       0   Phone   \n1        6  3) $200 - $350   329.08     1       1      Rural       1     Web   \n2        7  2) $100 - $200   180.65     0       1  Surburban       1     Web   \n3        9  5) $500 - $750   675.83     1       0      Rural       1     Web   \n4        2    1) $0 - $100    45.34     1       0      Urban       0     Web   \n\n         segment  visit  conversion  spend  \n0  Womens E-Mail      0           0    0.0  \n1      No E-Mail      0           0    0.0  \n2  Womens E-Mail      0           0    0.0  \n3    Mens E-Mail      0           0    0.0  \n4  Womens E-Mail      0           0    0.0  ",
            "text/html": "<div>\n<style scoped>\n    .dataframe tbody tr th:only-of-type {\n        vertical-align: middle;\n    }\n\n    .dataframe tbody tr th {\n        vertical-align: top;\n    }\n\n    .dataframe thead th {\n        text-align: right;\n    }\n</style>\n<table border=\"1\" class=\"dataframe\">\n  <thead>\n    <tr style=\"text-align: right;\">\n      <th></th>\n      <th>recency</th>\n      <th>history_segment</th>\n      <th>history</th>\n      <th>mens</th>\n      <th>womens</th>\n      <th>zip_code</th>\n      <th>newbie</th>\n      <th>channel</th>\n      <th>segment</th>\n      <th>visit</th>\n      <th>conversion</th>\n      <th>spend</th>\n    </tr>\n  </thead>\n  <tbody>\n    <tr>\n      <th>0</th>\n      <td>10</td>\n      <td>2) $100 - $200</td>\n      <td>142.44</td>\n      <td>1</td>\n      <td>0</td>\n      <td>Surburban</td>\n      <td>0</td>\n      <td>Phone</td>\n      <td>Womens E-Mail</td>\n      <td>0</td>\n      <td>0</td>\n      <td>0.0</td>\n    </tr>\n    <tr>\n      <th>1</th>\n      <td>6</td>\n      <td>3) $200 - $350</td>\n      <td>329.08</td>\n      <td>1</td>\n      <td>1</td>\n      <td>Rural</td>\n      <td>1</td>\n      <td>Web</td>\n      <td>No E-Mail</td>\n      <td>0</td>\n      <td>0</td>\n      <td>0.0</td>\n    </tr>\n    <tr>\n      <th>2</th>\n      <td>7</td>\n      <td>2) $100 - $200</td>\n      <td>180.65</td>\n      <td>0</td>\n      <td>1</td>\n      <td>Surburban</td>\n      <td>1</td>\n      <td>Web</td>\n      <td>Womens E-Mail</td>\n      <td>0</td>\n      <td>0</td>\n      <td>0.0</td>\n    </tr>\n    <tr>\n      <th>3</th>\n      <td>9</td>\n      <td>5) $500 - $750</td>\n      <td>675.83</td>\n      <td>1</td>\n      <td>0</td>\n      <td>Rural</td>\n      <td>1</td>\n      <td>Web</td>\n      <td>Mens E-Mail</td>\n      <td>0</td>\n      <td>0</td>\n      <td>0.0</td>\n    </tr>\n    <tr>\n      <th>4</th>\n      <td>2</td>\n      <td>1) $0 - $100</td>\n      <td>45.34</td>\n      <td>1</td>\n      <td>0</td>\n      <td>Urban</td>\n      <td>0</td>\n      <td>Web</td>\n      <td>Womens E-Mail</td>\n      <td>0</td>\n      <td>0</td>\n      <td>0.0</td>\n    </tr>\n  </tbody>\n</table>\n</div>"
          },
          "metadata": {}
        }
      ]
    },
    {
      "source": [
        "# Starting with heatmap to view correlations \n",
        "fig, ax = plt.subplots(figsize=(20, 10))\n",
        "ax = sns.heatmap(df.corr(), annot=True, fmt='.2f', linewidth=0.5);"
      ],
      "metadata": {
        "id": "a223655f-3174-4884-934e-422bfbdf1832",
        "outputId": "2d48b58c-e11a-4737-b247-a87ff61cfee0"
      },
      "id": "a223655f-3174-4884-934e-422bfbdf1832",
      "cell_type": "code",
      "execution_count": null,
      "outputs": [
        {
          "output_type": "display_data",
          "data": {
            "text/plain": "<Figure size 1440x720 with 2 Axes>",
            "image/png": "[encoded data removed]"
          },
          "metadata": {
            "needs_background": "light"
          }
        }
      ]
    },
    {
      "source": [
        "#### To study each campaign segment, I will convert dataset into 3 datasets each to be studied separately"
      ],
      "metadata": {
        "id": "709f5af8-f81b-4008-9186-76ff1d8d0a79"
      },
      "id": "709f5af8-f81b-4008-9186-76ff1d8d0a79",
      "cell_type": "markdown"
    },
    {
      "source": [
        "df_men = df[df['segment']=='Mens E-Mail']\n",
        "df_women = df[df['segment']=='Womens E-Mail']\n",
        "df_nocamp = df[df['segment']=='No E-Mail']"
      ],
      "metadata": {
        "id": "95a2aaa9-eefd-48cf-a4b4-54cb9b8a7ead"
      },
      "id": "95a2aaa9-eefd-48cf-a4b4-54cb9b8a7ead",
      "cell_type": "code",
      "execution_count": null,
      "outputs": []
    },
    {
      "source": [
        "df_men.describe()"
      ],
      "metadata": {
        "colab": {
          "base_uri": "https://localhost:8080/",
          "height": 300
        },
        "id": "eec3e8ad-06e5-4e52-9aa2-275da6a0d0f2",
        "outputId": "1f27379a-f652-4ec2-f9cc-e87bdc2ab205"
      },
      "id": "eec3e8ad-06e5-4e52-9aa2-275da6a0d0f2",
      "cell_type": "code",
      "execution_count": null,
      "outputs": [
        {
          "output_type": "execute_result",
          "data": {
            "text/plain": [
              "            recency       history          mens        womens        newbie  \\\n",
              "count  21307.000000  21307.000000  21307.000000  21307.000000  21307.000000   \n",
              "mean       5.773642    242.835931      0.550946      0.551415      0.501525   \n",
              "std        3.513350    260.355685      0.497409      0.497361      0.500009   \n",
              "min        1.000000     29.990000      0.000000      0.000000      0.000000   \n",
              "25%        2.000000     63.580000      0.000000      0.000000      0.000000   \n",
              "50%        6.000000    157.220000      1.000000      1.000000      1.000000   \n",
              "75%        9.000000    325.215000      1.000000      1.000000      1.000000   \n",
              "max       12.000000   3215.970000      1.000000      1.000000      1.000000   \n",
              "\n",
              "              visit    conversion         spend  \n",
              "count  21307.000000  21307.000000  21307.000000  \n",
              "mean       0.182757      0.012531      1.422617  \n",
              "std        0.386476      0.111241     17.754205  \n",
              "min        0.000000      0.000000      0.000000  \n",
              "25%        0.000000      0.000000      0.000000  \n",
              "50%        0.000000      0.000000      0.000000  \n",
              "75%        0.000000      0.000000      0.000000  \n",
              "max        1.000000      1.000000    499.000000  "
            ],
            "text/html": [
              "\n",
              "  <div id=\"df-3921bf2b-6e41-4c91-bc79-cd6b2faa4b01\">\n",
              "    <div class=\"colab-df-container\">\n",
              "      <div>\n",
              "<style scoped>\n",
              "    .dataframe tbody tr th:only-of-type {\n",
              "        vertical-align: middle;\n",
              "    }\n",
              "\n",
              "    .dataframe tbody tr th {\n",
              "        vertical-align: top;\n",
              "    }\n",
              "\n",
              "    .dataframe thead th {\n",
              "        text-align: right;\n",
              "    }\n",
              "</style>\n",
              "<table border=\"1\" class=\"dataframe\">\n",
              "  <thead>\n",
              "    <tr style=\"text-align: right;\">\n",
              "      <th></th>\n",
              "      <th>recency</th>\n",
              "      <th>history</th>\n",
              "      <th>mens</th>\n",
              "      <th>womens</th>\n",
              "      <th>newbie</th>\n",
              "      <th>visit</th>\n",
              "      <th>conversion</th>\n",
              "      <th>spend</th>\n",
              "    </tr>\n",
              "  </thead>\n",
              "  <tbody>\n",
              "    <tr>\n",
              "      <th>count</th>\n",
              "      <td>21307.000000</td>\n",
              "      <td>21307.000000</td>\n",
              "      <td>21307.000000</td>\n",
              "      <td>21307.000000</td>\n",
              "      <td>21307.000000</td>\n",
              "      <td>21307.000000</td>\n",
              "      <td>21307.000000</td>\n",
              "      <td>21307.000000</td>\n",
              "    </tr>\n",
              "    <tr>\n",
              "      <th>mean</th>\n",
              "      <td>5.773642</td>\n",
              "      <td>242.835931</td>\n",
              "      <td>0.550946</td>\n",
              "      <td>0.551415</td>\n",
              "      <td>0.501525</td>\n",
              "      <td>0.182757</td>\n",
              "      <td>0.012531</td>\n",
              "      <td>1.422617</td>\n",
              "    </tr>\n",
              "    <tr>\n",
              "      <th>std</th>\n",
              "      <td>3.513350</td>\n",
              "      <td>260.355685</td>\n",
              "      <td>0.497409</td>\n",
              "      <td>0.497361</td>\n",
              "      <td>0.500009</td>\n",
              "      <td>0.386476</td>\n",
              "      <td>0.111241</td>\n",
              "      <td>17.754205</td>\n",
              "    </tr>\n",
              "    <tr>\n",
              "      <th>min</th>\n",
              "      <td>1.000000</td>\n",
              "      <td>29.990000</td>\n",
              "      <td>0.000000</td>\n",
              "      <td>0.000000</td>\n",
              "      <td>0.000000</td>\n",
              "      <td>0.000000</td>\n",
              "      <td>0.000000</td>\n",
              "      <td>0.000000</td>\n",
              "    </tr>\n",
              "    <tr>\n",
              "      <th>25%</th>\n",
              "      <td>2.000000</td>\n",
              "      <td>63.580000</td>\n",
              "      <td>0.000000</td>\n",
              "      <td>0.000000</td>\n",
              "      <td>0.000000</td>\n",
              "      <td>0.000000</td>\n",
              "      <td>0.000000</td>\n",
              "      <td>0.000000</td>\n",
              "    </tr>\n",
              "    <tr>\n",
              "      <th>50%</th>\n",
              "      <td>6.000000</td>\n",
              "      <td>157.220000</td>\n",
              "      <td>1.000000</td>\n",
              "      <td>1.000000</td>\n",
              "      <td>1.000000</td>\n",
              "      <td>0.000000</td>\n",
              "      <td>0.000000</td>\n",
              "      <td>0.000000</td>\n",
              "    </tr>\n",
              "    <tr>\n",
              "      <th>75%</th>\n",
              "      <td>9.000000</td>\n",
              "      <td>325.215000</td>\n",
              "      <td>1.000000</td>\n",
              "      <td>1.000000</td>\n",
              "      <td>1.000000</td>\n",
              "      <td>0.000000</td>\n",
              "      <td>0.000000</td>\n",
              "      <td>0.000000</td>\n",
              "    </tr>\n",
              "    <tr>\n",
              "      <th>max</th>\n",
              "      <td>12.000000</td>\n",
              "      <td>3215.970000</td>\n",
              "      <td>1.000000</td>\n",
              "      <td>1.000000</td>\n",
              "      <td>1.000000</td>\n",
              "      <td>1.000000</td>\n",
              "      <td>1.000000</td>\n",
              "      <td>499.000000</td>\n",
              "    </tr>\n",
              "  </tbody>\n",
              "</table>\n",
              "</div>\n",
              "      <button class=\"colab-df-convert\" onclick=\"convertToInteractive('df-3921bf2b-6e41-4c91-bc79-cd6b2faa4b01')\"\n",
              "              title=\"Convert this dataframe to an interactive table.\"\n",
              "              style=\"display:none;\">\n",
              "        \n",
              "  <svg xmlns=\"http://www.w3.org/2000/svg\" height=\"24px\"viewBox=\"0 0 24 24\"\n",
              "       width=\"24px\">\n",
              "    <path d=\"M0 0h24v24H0V0z\" fill=\"none\"/>\n",
              "    <path d=\"M18.56 5.44l.94 2.06.94-2.06 2.06-.94-2.06-.94-.94-2.06-.94 2.06-2.06.94zm-11 1L8.5 8.5l.94-2.06 2.06-.94-2.06-.94L8.5 2.5l-.94 2.06-2.06.94zm10 10l.94 2.06.94-2.06 2.06-.94-2.06-.94-.94-2.06-.94 2.06-2.06.94z\"/><path d=\"M17.41 7.96l-1.37-1.37c-.4-.4-.92-.59-1.43-.59-.52 0-1.04.2-1.43.59L10.3 9.45l-7.72 7.72c-.78.78-.78 2.05 0 2.83L4 21.41c.39.39.9.59 1.41.59.51 0 1.02-.2 1.41-.59l7.78-7.78 2.81-2.81c.8-.78.8-2.07 0-2.86zM5.41 20L4 18.59l7.72-7.72 1.47 1.35L5.41 20z\"/>\n",
              "  </svg>\n",
              "      </button>\n",
              "      \n",
              "  <style>\n",
              "    .colab-df-container {\n",
              "      display:flex;\n",
              "      flex-wrap:wrap;\n",
              "      gap: 12px;\n",
              "    }\n",
              "\n",
              "    .colab-df-convert {\n",
              "      background-color: #E8F0FE;\n",
              "      border: none;\n",
              "      border-radius: 50%;\n",
              "      cursor: pointer;\n",
              "      display: none;\n",
              "      fill: #1967D2;\n",
              "      height: 32px;\n",
              "      padding: 0 0 0 0;\n",
              "      width: 32px;\n",
              "    }\n",
              "\n",
              "    .colab-df-convert:hover {\n",
              "      background-color: #E2EBFA;\n",
              "      box-shadow: 0px 1px 2px rgba(60, 64, 67, 0.3), 0px 1px 3px 1px rgba(60, 64, 67, 0.15);\n",
              "      fill: #174EA6;\n",
              "    }\n",
              "\n",
              "    [theme=dark] .colab-df-convert {\n",
              "      background-color: #3B4455;\n",
              "      fill: #D2E3FC;\n",
              "    }\n",
              "\n",
              "    [theme=dark] .colab-df-convert:hover {\n",
              "      background-color: #434B5C;\n",
              "      box-shadow: 0px 1px 3px 1px rgba(0, 0, 0, 0.15);\n",
              "      filter: drop-shadow(0px 1px 2px rgba(0, 0, 0, 0.3));\n",
              "      fill: #FFFFFF;\n",
              "    }\n",
              "  </style>\n",
              "\n",
              "      <script>\n",
              "        const buttonEl =\n",
              "          document.querySelector('#df-3921bf2b-6e41-4c91-bc79-cd6b2faa4b01 button.colab-df-convert');\n",
              "        buttonEl.style.display =\n",
              "          google.colab.kernel.accessAllowed ? 'block' : 'none';\n",
              "\n",
              "        async function convertToInteractive(key) {\n",
              "          const element = document.querySelector('#df-3921bf2b-6e41-4c91-bc79-cd6b2faa4b01');\n",
              "          const dataTable =\n",
              "            await google.colab.kernel.invokeFunction('convertToInteractive',\n",
              "                                                     [key], {});\n",
              "          if (!dataTable) return;\n",
              "\n",
              "          const docLinkHtml = 'Like what you see? Visit the ' +\n",
              "            '<a target=\"_blank\" href=https://colab.research.google.com/notebooks/data_table.ipynb>data table notebook</a>'\n",
              "            + ' to learn more about interactive tables.';\n",
              "          element.innerHTML = '';\n",
              "          dataTable['output_type'] = 'display_data';\n",
              "          await google.colab.output.renderOutput(dataTable, element);\n",
              "          const docLink = document.createElement('div');\n",
              "          docLink.innerHTML = docLinkHtml;\n",
              "          element.appendChild(docLink);\n",
              "        }\n",
              "      </script>\n",
              "    </div>\n",
              "  </div>\n",
              "  "
            ]
          },
          "metadata": {},
          "execution_count": 5
        }
      ]
    },
    {
      "source": [
        "df_women.describe()"
      ],
      "metadata": {
        "colab": {
          "base_uri": "https://localhost:8080/",
          "height": 300
        },
        "id": "04b22ec3-8d09-4c81-a980-55cb1e52e719",
        "outputId": "6ba80a78-6db6-4c3f-d4b3-17f8e4d53194"
      },
      "id": "04b22ec3-8d09-4c81-a980-55cb1e52e719",
      "cell_type": "code",
      "execution_count": null,
      "outputs": [
        {
          "output_type": "execute_result",
          "data": {
            "text/plain": [
              "            recency       history          mens        womens        newbie  \\\n",
              "count  21387.000000  21387.000000  21387.000000  21387.000000  21387.000000   \n",
              "mean       5.767850    242.536633      0.548932      0.550101      0.503250   \n",
              "std        3.511989    255.332880      0.497612      0.497495      0.500001   \n",
              "min        1.000000     29.990000      0.000000      0.000000      0.000000   \n",
              "25%        2.000000     65.040000      0.000000      0.000000      0.000000   \n",
              "50%        6.000000    160.090000      1.000000      1.000000      1.000000   \n",
              "75%        9.000000    326.820000      1.000000      1.000000      1.000000   \n",
              "max       12.000000   3040.200000      1.000000      1.000000      1.000000   \n",
              "\n",
              "              visit    conversion         spend  \n",
              "count  21387.000000  21387.000000  21387.000000  \n",
              "mean       0.151400      0.008837      1.077202  \n",
              "std        0.358447      0.093592     15.116106  \n",
              "min        0.000000      0.000000      0.000000  \n",
              "25%        0.000000      0.000000      0.000000  \n",
              "50%        0.000000      0.000000      0.000000  \n",
              "75%        0.000000      0.000000      0.000000  \n",
              "max        1.000000      1.000000    499.000000  "
            ],
            "text/html": [
              "\n",
              "  <div id=\"df-90187500-00e9-4b39-b43a-f51e1ddcc260\">\n",
              "    <div class=\"colab-df-container\">\n",
              "      <div>\n",
              "<style scoped>\n",
              "    .dataframe tbody tr th:only-of-type {\n",
              "        vertical-align: middle;\n",
              "    }\n",
              "\n",
              "    .dataframe tbody tr th {\n",
              "        vertical-align: top;\n",
              "    }\n",
              "\n",
              "    .dataframe thead th {\n",
              "        text-align: right;\n",
              "    }\n",
              "</style>\n",
              "<table border=\"1\" class=\"dataframe\">\n",
              "  <thead>\n",
              "    <tr style=\"text-align: right;\">\n",
              "      <th></th>\n",
              "      <th>recency</th>\n",
              "      <th>history</th>\n",
              "      <th>mens</th>\n",
              "      <th>womens</th>\n",
              "      <th>newbie</th>\n",
              "      <th>visit</th>\n",
              "      <th>conversion</th>\n",
              "      <th>spend</th>\n",
              "    </tr>\n",
              "  </thead>\n",
              "  <tbody>\n",
              "    <tr>\n",
              "      <th>count</th>\n",
              "      <td>21387.000000</td>\n",
              "      <td>21387.000000</td>\n",
              "      <td>21387.000000</td>\n",
              "      <td>21387.000000</td>\n",
              "      <td>21387.000000</td>\n",
              "      <td>21387.000000</td>\n",
              "      <td>21387.000000</td>\n",
              "      <td>21387.000000</td>\n",
              "    </tr>\n",
              "    <tr>\n",
              "      <th>mean</th>\n",
              "      <td>5.767850</td>\n",
              "      <td>242.536633</td>\n",
              "      <td>0.548932</td>\n",
              "      <td>0.550101</td>\n",
              "      <td>0.503250</td>\n",
              "      <td>0.151400</td>\n",
              "      <td>0.008837</td>\n",
              "      <td>1.077202</td>\n",
              "    </tr>\n",
              "    <tr>\n",
              "      <th>std</th>\n",
              "      <td>3.511989</td>\n",
              "      <td>255.332880</td>\n",
              "      <td>0.497612</td>\n",
              "      <td>0.497495</td>\n",
              "      <td>0.500001</td>\n",
              "      <td>0.358447</td>\n",
              "      <td>0.093592</td>\n",
              "      <td>15.116106</td>\n",
              "    </tr>\n",
              "    <tr>\n",
              "      <th>min</th>\n",
              "      <td>1.000000</td>\n",
              "      <td>29.990000</td>\n",
              "      <td>0.000000</td>\n",
              "      <td>0.000000</td>\n",
              "      <td>0.000000</td>\n",
              "      <td>0.000000</td>\n",
              "      <td>0.000000</td>\n",
              "      <td>0.000000</td>\n",
              "    </tr>\n",
              "    <tr>\n",
              "      <th>25%</th>\n",
              "      <td>2.000000</td>\n",
              "      <td>65.040000</td>\n",
              "      <td>0.000000</td>\n",
              "      <td>0.000000</td>\n",
              "      <td>0.000000</td>\n",
              "      <td>0.000000</td>\n",
              "      <td>0.000000</td>\n",
              "      <td>0.000000</td>\n",
              "    </tr>\n",
              "    <tr>\n",
              "      <th>50%</th>\n",
              "      <td>6.000000</td>\n",
              "      <td>160.090000</td>\n",
              "      <td>1.000000</td>\n",
              "      <td>1.000000</td>\n",
              "      <td>1.000000</td>\n",
              "      <td>0.000000</td>\n",
              "      <td>0.000000</td>\n",
              "      <td>0.000000</td>\n",
              "    </tr>\n",
              "    <tr>\n",
              "      <th>75%</th>\n",
              "      <td>9.000000</td>\n",
              "      <td>326.820000</td>\n",
              "      <td>1.000000</td>\n",
              "      <td>1.000000</td>\n",
              "      <td>1.000000</td>\n",
              "      <td>0.000000</td>\n",
              "      <td>0.000000</td>\n",
              "      <td>0.000000</td>\n",
              "    </tr>\n",
              "    <tr>\n",
              "      <th>max</th>\n",
              "      <td>12.000000</td>\n",
              "      <td>3040.200000</td>\n",
              "      <td>1.000000</td>\n",
              "      <td>1.000000</td>\n",
              "      <td>1.000000</td>\n",
              "      <td>1.000000</td>\n",
              "      <td>1.000000</td>\n",
              "      <td>499.000000</td>\n",
              "    </tr>\n",
              "  </tbody>\n",
              "</table>\n",
              "</div>\n",
              "      <button class=\"colab-df-convert\" onclick=\"convertToInteractive('df-90187500-00e9-4b39-b43a-f51e1ddcc260')\"\n",
              "              title=\"Convert this dataframe to an interactive table.\"\n",
              "              style=\"display:none;\">\n",
              "        \n",
              "  <svg xmlns=\"http://www.w3.org/2000/svg\" height=\"24px\"viewBox=\"0 0 24 24\"\n",
              "       width=\"24px\">\n",
              "    <path d=\"M0 0h24v24H0V0z\" fill=\"none\"/>\n",
              "    <path d=\"M18.56 5.44l.94 2.06.94-2.06 2.06-.94-2.06-.94-.94-2.06-.94 2.06-2.06.94zm-11 1L8.5 8.5l.94-2.06 2.06-.94-2.06-.94L8.5 2.5l-.94 2.06-2.06.94zm10 10l.94 2.06.94-2.06 2.06-.94-2.06-.94-.94-2.06-.94 2.06-2.06.94z\"/><path d=\"M17.41 7.96l-1.37-1.37c-.4-.4-.92-.59-1.43-.59-.52 0-1.04.2-1.43.59L10.3 9.45l-7.72 7.72c-.78.78-.78 2.05 0 2.83L4 21.41c.39.39.9.59 1.41.59.51 0 1.02-.2 1.41-.59l7.78-7.78 2.81-2.81c.8-.78.8-2.07 0-2.86zM5.41 20L4 18.59l7.72-7.72 1.47 1.35L5.41 20z\"/>\n",
              "  </svg>\n",
              "      </button>\n",
              "      \n",
              "  <style>\n",
              "    .colab-df-container {\n",
              "      display:flex;\n",
              "      flex-wrap:wrap;\n",
              "      gap: 12px;\n",
              "    }\n",
              "\n",
              "    .colab-df-convert {\n",
              "      background-color: #E8F0FE;\n",
              "      border: none;\n",
              "      border-radius: 50%;\n",
              "      cursor: pointer;\n",
              "      display: none;\n",
              "      fill: #1967D2;\n",
              "      height: 32px;\n",
              "      padding: 0 0 0 0;\n",
              "      width: 32px;\n",
              "    }\n",
              "\n",
              "    .colab-df-convert:hover {\n",
              "      background-color: #E2EBFA;\n",
              "      box-shadow: 0px 1px 2px rgba(60, 64, 67, 0.3), 0px 1px 3px 1px rgba(60, 64, 67, 0.15);\n",
              "      fill: #174EA6;\n",
              "    }\n",
              "\n",
              "    [theme=dark] .colab-df-convert {\n",
              "      background-color: #3B4455;\n",
              "      fill: #D2E3FC;\n",
              "    }\n",
              "\n",
              "    [theme=dark] .colab-df-convert:hover {\n",
              "      background-color: #434B5C;\n",
              "      box-shadow: 0px 1px 3px 1px rgba(0, 0, 0, 0.15);\n",
              "      filter: drop-shadow(0px 1px 2px rgba(0, 0, 0, 0.3));\n",
              "      fill: #FFFFFF;\n",
              "    }\n",
              "  </style>\n",
              "\n",
              "      <script>\n",
              "        const buttonEl =\n",
              "          document.querySelector('#df-90187500-00e9-4b39-b43a-f51e1ddcc260 button.colab-df-convert');\n",
              "        buttonEl.style.display =\n",
              "          google.colab.kernel.accessAllowed ? 'block' : 'none';\n",
              "\n",
              "        async function convertToInteractive(key) {\n",
              "          const element = document.querySelector('#df-90187500-00e9-4b39-b43a-f51e1ddcc260');\n",
              "          const dataTable =\n",
              "            await google.colab.kernel.invokeFunction('convertToInteractive',\n",
              "                                                     [key], {});\n",
              "          if (!dataTable) return;\n",
              "\n",
              "          const docLinkHtml = 'Like what you see? Visit the ' +\n",
              "            '<a target=\"_blank\" href=https://colab.research.google.com/notebooks/data_table.ipynb>data table notebook</a>'\n",
              "            + ' to learn more about interactive tables.';\n",
              "          element.innerHTML = '';\n",
              "          dataTable['output_type'] = 'display_data';\n",
              "          await google.colab.output.renderOutput(dataTable, element);\n",
              "          const docLink = document.createElement('div');\n",
              "          docLink.innerHTML = docLinkHtml;\n",
              "          element.appendChild(docLink);\n",
              "        }\n",
              "      </script>\n",
              "    </div>\n",
              "  </div>\n",
              "  "
            ]
          },
          "metadata": {},
          "execution_count": 6
        }
      ]
    },
    {
      "source": [
        "df_nocamp.describe()"
      ],
      "metadata": {
        "colab": {
          "base_uri": "https://localhost:8080/",
          "height": 300
        },
        "id": "d16a408b-205a-46fa-81a7-ee3618989fe4",
        "outputId": "50cee64d-942c-4570-e098-fc6a256f784e"
      },
      "id": "d16a408b-205a-46fa-81a7-ee3618989fe4",
      "cell_type": "code",
      "execution_count": null,
      "outputs": [
        {
          "output_type": "execute_result",
          "data": {
            "text/plain": [
              "            recency       history          mens        womens        newbie  \\\n",
              "count  21306.000000  21306.000000  21306.000000  21306.000000  21306.000000   \n",
              "mean       5.749695    240.882653      0.553224      0.547639      0.501971   \n",
              "std        3.497517    252.739362      0.497171      0.497737      0.500008   \n",
              "min        1.000000     29.990000      0.000000      0.000000      0.000000   \n",
              "25%        2.000000     65.300000      0.000000      0.000000      0.000000   \n",
              "50%        5.000000    156.655000      1.000000      1.000000      1.000000   \n",
              "75%        9.000000    325.167500      1.000000      1.000000      1.000000   \n",
              "max       12.000000   3345.930000      1.000000      1.000000      1.000000   \n",
              "\n",
              "              visit    conversion         spend  \n",
              "count  21306.000000  21306.000000  21306.000000  \n",
              "mean       0.106167      0.005726      0.652789  \n",
              "std        0.308059      0.075456     11.588200  \n",
              "min        0.000000      0.000000      0.000000  \n",
              "25%        0.000000      0.000000      0.000000  \n",
              "50%        0.000000      0.000000      0.000000  \n",
              "75%        0.000000      0.000000      0.000000  \n",
              "max        1.000000      1.000000    499.000000  "
            ],
            "text/html": [
              "\n",
              "  <div id=\"df-fa70e4b1-84f9-4a81-9851-26e0bb41cc2e\">\n",
              "    <div class=\"colab-df-container\">\n",
              "      <div>\n",
              "<style scoped>\n",
              "    .dataframe tbody tr th:only-of-type {\n",
              "        vertical-align: middle;\n",
              "    }\n",
              "\n",
              "    .dataframe tbody tr th {\n",
              "        vertical-align: top;\n",
              "    }\n",
              "\n",
              "    .dataframe thead th {\n",
              "        text-align: right;\n",
              "    }\n",
              "</style>\n",
              "<table border=\"1\" class=\"dataframe\">\n",
              "  <thead>\n",
              "    <tr style=\"text-align: right;\">\n",
              "      <th></th>\n",
              "      <th>recency</th>\n",
              "      <th>history</th>\n",
              "      <th>mens</th>\n",
              "      <th>womens</th>\n",
              "      <th>newbie</th>\n",
              "      <th>visit</th>\n",
              "      <th>conversion</th>\n",
              "      <th>spend</th>\n",
              "    </tr>\n",
              "  </thead>\n",
              "  <tbody>\n",
              "    <tr>\n",
              "      <th>count</th>\n",
              "      <td>21306.000000</td>\n",
              "      <td>21306.000000</td>\n",
              "      <td>21306.000000</td>\n",
              "      <td>21306.000000</td>\n",
              "      <td>21306.000000</td>\n",
              "      <td>21306.000000</td>\n",
              "      <td>21306.000000</td>\n",
              "      <td>21306.000000</td>\n",
              "    </tr>\n",
              "    <tr>\n",
              "      <th>mean</th>\n",
              "      <td>5.749695</td>\n",
              "      <td>240.882653</td>\n",
              "      <td>0.553224</td>\n",
              "      <td>0.547639</td>\n",
              "      <td>0.501971</td>\n",
              "      <td>0.106167</td>\n",
              "      <td>0.005726</td>\n",
              "      <td>0.652789</td>\n",
              "    </tr>\n",
              "    <tr>\n",
              "      <th>std</th>\n",
              "      <td>3.497517</td>\n",
              "      <td>252.739362</td>\n",
              "      <td>0.497171</td>\n",
              "      <td>0.497737</td>\n",
              "      <td>0.500008</td>\n",
              "      <td>0.308059</td>\n",
              "      <td>0.075456</td>\n",
              "      <td>11.588200</td>\n",
              "    </tr>\n",
              "    <tr>\n",
              "      <th>min</th>\n",
              "      <td>1.000000</td>\n",
              "      <td>29.990000</td>\n",
              "      <td>0.000000</td>\n",
              "      <td>0.000000</td>\n",
              "      <td>0.000000</td>\n",
              "      <td>0.000000</td>\n",
              "      <td>0.000000</td>\n",
              "      <td>0.000000</td>\n",
              "    </tr>\n",
              "    <tr>\n",
              "      <th>25%</th>\n",
              "      <td>2.000000</td>\n",
              "      <td>65.300000</td>\n",
              "      <td>0.000000</td>\n",
              "      <td>0.000000</td>\n",
              "      <td>0.000000</td>\n",
              "      <td>0.000000</td>\n",
              "      <td>0.000000</td>\n",
              "      <td>0.000000</td>\n",
              "    </tr>\n",
              "    <tr>\n",
              "      <th>50%</th>\n",
              "      <td>5.000000</td>\n",
              "      <td>156.655000</td>\n",
              "      <td>1.000000</td>\n",
              "      <td>1.000000</td>\n",
              "      <td>1.000000</td>\n",
              "      <td>0.000000</td>\n",
              "      <td>0.000000</td>\n",
              "      <td>0.000000</td>\n",
              "    </tr>\n",
              "    <tr>\n",
              "      <th>75%</th>\n",
              "      <td>9.000000</td>\n",
              "      <td>325.167500</td>\n",
              "      <td>1.000000</td>\n",
              "      <td>1.000000</td>\n",
              "      <td>1.000000</td>\n",
              "      <td>0.000000</td>\n",
              "      <td>0.000000</td>\n",
              "      <td>0.000000</td>\n",
              "    </tr>\n",
              "    <tr>\n",
              "      <th>max</th>\n",
              "      <td>12.000000</td>\n",
              "      <td>3345.930000</td>\n",
              "      <td>1.000000</td>\n",
              "      <td>1.000000</td>\n",
              "      <td>1.000000</td>\n",
              "      <td>1.000000</td>\n",
              "      <td>1.000000</td>\n",
              "      <td>499.000000</td>\n",
              "    </tr>\n",
              "  </tbody>\n",
              "</table>\n",
              "</div>\n",
              "      <button class=\"colab-df-convert\" onclick=\"convertToInteractive('df-fa70e4b1-84f9-4a81-9851-26e0bb41cc2e')\"\n",
              "              title=\"Convert this dataframe to an interactive table.\"\n",
              "              style=\"display:none;\">\n",
              "        \n",
              "  <svg xmlns=\"http://www.w3.org/2000/svg\" height=\"24px\"viewBox=\"0 0 24 24\"\n",
              "       width=\"24px\">\n",
              "    <path d=\"M0 0h24v24H0V0z\" fill=\"none\"/>\n",
              "    <path d=\"M18.56 5.44l.94 2.06.94-2.06 2.06-.94-2.06-.94-.94-2.06-.94 2.06-2.06.94zm-11 1L8.5 8.5l.94-2.06 2.06-.94-2.06-.94L8.5 2.5l-.94 2.06-2.06.94zm10 10l.94 2.06.94-2.06 2.06-.94-2.06-.94-.94-2.06-.94 2.06-2.06.94z\"/><path d=\"M17.41 7.96l-1.37-1.37c-.4-.4-.92-.59-1.43-.59-.52 0-1.04.2-1.43.59L10.3 9.45l-7.72 7.72c-.78.78-.78 2.05 0 2.83L4 21.41c.39.39.9.59 1.41.59.51 0 1.02-.2 1.41-.59l7.78-7.78 2.81-2.81c.8-.78.8-2.07 0-2.86zM5.41 20L4 18.59l7.72-7.72 1.47 1.35L5.41 20z\"/>\n",
              "  </svg>\n",
              "      </button>\n",
              "      \n",
              "  <style>\n",
              "    .colab-df-container {\n",
              "      display:flex;\n",
              "      flex-wrap:wrap;\n",
              "      gap: 12px;\n",
              "    }\n",
              "\n",
              "    .colab-df-convert {\n",
              "      background-color: #E8F0FE;\n",
              "      border: none;\n",
              "      border-radius: 50%;\n",
              "      cursor: pointer;\n",
              "      display: none;\n",
              "      fill: #1967D2;\n",
              "      height: 32px;\n",
              "      padding: 0 0 0 0;\n",
              "      width: 32px;\n",
              "    }\n",
              "\n",
              "    .colab-df-convert:hover {\n",
              "      background-color: #E2EBFA;\n",
              "      box-shadow: 0px 1px 2px rgba(60, 64, 67, 0.3), 0px 1px 3px 1px rgba(60, 64, 67, 0.15);\n",
              "      fill: #174EA6;\n",
              "    }\n",
              "\n",
              "    [theme=dark] .colab-df-convert {\n",
              "      background-color: #3B4455;\n",
              "      fill: #D2E3FC;\n",
              "    }\n",
              "\n",
              "    [theme=dark] .colab-df-convert:hover {\n",
              "      background-color: #434B5C;\n",
              "      box-shadow: 0px 1px 3px 1px rgba(0, 0, 0, 0.15);\n",
              "      filter: drop-shadow(0px 1px 2px rgba(0, 0, 0, 0.3));\n",
              "      fill: #FFFFFF;\n",
              "    }\n",
              "  </style>\n",
              "\n",
              "      <script>\n",
              "        const buttonEl =\n",
              "          document.querySelector('#df-fa70e4b1-84f9-4a81-9851-26e0bb41cc2e button.colab-df-convert');\n",
              "        buttonEl.style.display =\n",
              "          google.colab.kernel.accessAllowed ? 'block' : 'none';\n",
              "\n",
              "        async function convertToInteractive(key) {\n",
              "          const element = document.querySelector('#df-fa70e4b1-84f9-4a81-9851-26e0bb41cc2e');\n",
              "          const dataTable =\n",
              "            await google.colab.kernel.invokeFunction('convertToInteractive',\n",
              "                                                     [key], {});\n",
              "          if (!dataTable) return;\n",
              "\n",
              "          const docLinkHtml = 'Like what you see? Visit the ' +\n",
              "            '<a target=\"_blank\" href=https://colab.research.google.com/notebooks/data_table.ipynb>data table notebook</a>'\n",
              "            + ' to learn more about interactive tables.';\n",
              "          element.innerHTML = '';\n",
              "          dataTable['output_type'] = 'display_data';\n",
              "          await google.colab.output.renderOutput(dataTable, element);\n",
              "          const docLink = document.createElement('div');\n",
              "          docLink.innerHTML = docLinkHtml;\n",
              "          element.appendChild(docLink);\n",
              "        }\n",
              "      </script>\n",
              "    </div>\n",
              "  </div>\n",
              "  "
            ]
          },
          "metadata": {},
          "execution_count": 7
        }
      ]
    },
    {
      "source": [
        "#### Now, I'll add note about performance for each dataset (E-mail campaign)"
      ],
      "metadata": {
        "id": "65d6e2ad-0149-4701-98ee-e31c78bc80b9"
      },
      "id": "65d6e2ad-0149-4701-98ee-e31c78bc80b9",
      "cell_type": "markdown"
    },
    {
      "source": [
        "camps = {'Men':df_men, 'Women':df_women, 'No':df_nocamp}\n",
        "for item, camp in camps.items(): \n",
        "    print (f\"Evaluation Statement for {item} E-mail campaign \")\n",
        "    print (f\"    Visits Percentage in last two weeks : {camp['visit'].mean()*100:.2f} %\")\n",
        "    print (f\"    Conversion Percentage in last two weeks : {camp['conversion'].mean()*100:.2f} %\")\n",
        "    print (f\"    Total Spent Dollars due to campaign in last two weeks : {camp['spend'].sum():,.2f} $\")\n",
        "    print (\"----------------------------------------------------------------------------------------\")"
      ],
      "metadata": {
        "id": "7d2dc2ad-a695-4957-9f1a-fd5e9f90546a",
        "outputId": "e1ab650f-75e4-4e91-8e41-f95fc061ff8a"
      },
      "id": "7d2dc2ad-a695-4957-9f1a-fd5e9f90546a",
      "cell_type": "code",
      "execution_count": null,
      "outputs": [
        {
          "name": "stdout",
          "text": "Evaluation Statement for Men E-mail campaign \n    Visits Percentage in last two weeks : 18.28 %\n    Conversion Percentage in last two weeks : 1.25 %\n    Total Spent Dollars due to campaign in last two weeks : 30,311.69 $\n----------------------------------------------------------------------------------------\nEvaluation Statement for Women E-mail campaign \n    Visits Percentage in last two weeks : 15.14 %\n    Conversion Percentage in last two weeks : 0.88 %\n    Total Spent Dollars due to campaign in last two weeks : 23,038.11 $\n----------------------------------------------------------------------------------------\nEvaluation Statement for No E-mail campaign \n    Visits Percentage in last two weeks : 10.62 %\n    Conversion Percentage in last two weeks : 0.57 %\n    Total Spent Dollars due to campaign in last two weeks : 13,908.33 $\n----------------------------------------------------------------------------------------\n",
          "output_type": "stream"
        }
      ]
    },
    {
      "source": [
        "#### From previous statement, it would be clear that Men E-mail campaign is outperforming other campaigns : \n",
        "- More than 1.3 of women campaign in spending and more than 2 times that of no campaign at all \n",
        "- nearly same results with visits rate affected with campaign"
      ],
      "metadata": {
        "id": "324bd21f-20b4-4340-aab7-a0a8949061a6"
      },
      "id": "324bd21f-20b4-4340-aab7-a0a8949061a6",
      "cell_type": "markdown"
    },
    {
      "source": [
        "#### For more exploration, we would have to view effect of other attributes on visits, spending \n",
        "- Recency\n",
        "- History Segment \n",
        "- gender merchandise \n",
        "- zip_code\n",
        "- channel "
      ],
      "metadata": {
        "id": "1f978db8-5e1c-47d6-8c11-324df052548e"
      },
      "id": "1f978db8-5e1c-47d6-8c11-324df052548e",
      "cell_type": "markdown"
    },
    {
      "source": [
        "##### In here I would go with creation of gender merchandise column described in date overview section"
      ],
      "metadata": {
        "id": "cd825325-a87e-4fe0-8a41-3797df623927"
      },
      "id": "cd825325-a87e-4fe0-8a41-3797df623927",
      "cell_type": "markdown"
    },
    {
      "source": [
        "filters = [\n",
        "    (df.mens==1) & (df.womens==0),\n",
        "    (df.mens==0) & (df.womens==1),\n",
        "    (df.mens==1) & (df.womens==1)\n",
        "]\n",
        "values = ['Men', 'Women', 'Both Genders']\n",
        "df['gender_merchandise'] = np.select(filters, values)\n",
        "df = df.drop(['mens', 'womens'], axis=1)\n",
        "df.head()"
      ],
      "metadata": {
        "colab": {
          "base_uri": "https://localhost:8080/",
          "height": 206
        },
        "id": "de43496b-9332-4f74-b1cf-e87a8f5fe139",
        "outputId": "274b3e8f-86cf-4453-be1a-d90dae385a3c"
      },
      "id": "de43496b-9332-4f74-b1cf-e87a8f5fe139",
      "cell_type": "code",
      "execution_count": null,
      "outputs": [
        {
          "output_type": "execute_result",
          "data": {
            "text/plain": [
              "   recency history_segment  history   zip_code  newbie channel        segment  \\\n",
              "0       10  2) $100 - $200   142.44  Surburban       0   Phone  Womens E-Mail   \n",
              "1        6  3) $200 - $350   329.08      Rural       1     Web      No E-Mail   \n",
              "2        7  2) $100 - $200   180.65  Surburban       1     Web  Womens E-Mail   \n",
              "3        9  5) $500 - $750   675.83      Rural       1     Web    Mens E-Mail   \n",
              "4        2    1) $0 - $100    45.34      Urban       0     Web  Womens E-Mail   \n",
              "\n",
              "   visit  conversion  spend gender_merchandise  \n",
              "0      0           0    0.0                Men  \n",
              "1      0           0    0.0       Both Genders  \n",
              "2      0           0    0.0              Women  \n",
              "3      0           0    0.0                Men  \n",
              "4      0           0    0.0                Men  "
            ],
            "text/html": [
              "\n",
              "  <div id=\"df-f796d026-d24f-42e6-81d5-ba723a4165a9\">\n",
              "    <div class=\"colab-df-container\">\n",
              "      <div>\n",
              "<style scoped>\n",
              "    .dataframe tbody tr th:only-of-type {\n",
              "        vertical-align: middle;\n",
              "    }\n",
              "\n",
              "    .dataframe tbody tr th {\n",
              "        vertical-align: top;\n",
              "    }\n",
              "\n",
              "    .dataframe thead th {\n",
              "        text-align: right;\n",
              "    }\n",
              "</style>\n",
              "<table border=\"1\" class=\"dataframe\">\n",
              "  <thead>\n",
              "    <tr style=\"text-align: right;\">\n",
              "      <th></th>\n",
              "      <th>recency</th>\n",
              "      <th>history_segment</th>\n",
              "      <th>history</th>\n",
              "      <th>zip_code</th>\n",
              "      <th>newbie</th>\n",
              "      <th>channel</th>\n",
              "      <th>segment</th>\n",
              "      <th>visit</th>\n",
              "      <th>conversion</th>\n",
              "      <th>spend</th>\n",
              "      <th>gender_merchandise</th>\n",
              "    </tr>\n",
              "  </thead>\n",
              "  <tbody>\n",
              "    <tr>\n",
              "      <th>0</th>\n",
              "      <td>10</td>\n",
              "      <td>2) $100 - $200</td>\n",
              "      <td>142.44</td>\n",
              "      <td>Surburban</td>\n",
              "      <td>0</td>\n",
              "      <td>Phone</td>\n",
              "      <td>Womens E-Mail</td>\n",
              "      <td>0</td>\n",
              "      <td>0</td>\n",
              "      <td>0.0</td>\n",
              "      <td>Men</td>\n",
              "    </tr>\n",
              "    <tr>\n",
              "      <th>1</th>\n",
              "      <td>6</td>\n",
              "      <td>3) $200 - $350</td>\n",
              "      <td>329.08</td>\n",
              "      <td>Rural</td>\n",
              "      <td>1</td>\n",
              "      <td>Web</td>\n",
              "      <td>No E-Mail</td>\n",
              "      <td>0</td>\n",
              "      <td>0</td>\n",
              "      <td>0.0</td>\n",
              "      <td>Both Genders</td>\n",
              "    </tr>\n",
              "    <tr>\n",
              "      <th>2</th>\n",
              "      <td>7</td>\n",
              "      <td>2) $100 - $200</td>\n",
              "      <td>180.65</td>\n",
              "      <td>Surburban</td>\n",
              "      <td>1</td>\n",
              "      <td>Web</td>\n",
              "      <td>Womens E-Mail</td>\n",
              "      <td>0</td>\n",
              "      <td>0</td>\n",
              "      <td>0.0</td>\n",
              "      <td>Women</td>\n",
              "    </tr>\n",
              "    <tr>\n",
              "      <th>3</th>\n",
              "      <td>9</td>\n",
              "      <td>5) $500 - $750</td>\n",
              "      <td>675.83</td>\n",
              "      <td>Rural</td>\n",
              "      <td>1</td>\n",
              "      <td>Web</td>\n",
              "      <td>Mens E-Mail</td>\n",
              "      <td>0</td>\n",
              "      <td>0</td>\n",
              "      <td>0.0</td>\n",
              "      <td>Men</td>\n",
              "    </tr>\n",
              "    <tr>\n",
              "      <th>4</th>\n",
              "      <td>2</td>\n",
              "      <td>1) $0 - $100</td>\n",
              "      <td>45.34</td>\n",
              "      <td>Urban</td>\n",
              "      <td>0</td>\n",
              "      <td>Web</td>\n",
              "      <td>Womens E-Mail</td>\n",
              "      <td>0</td>\n",
              "      <td>0</td>\n",
              "      <td>0.0</td>\n",
              "      <td>Men</td>\n",
              "    </tr>\n",
              "  </tbody>\n",
              "</table>\n",
              "</div>\n",
              "      <button class=\"colab-df-convert\" onclick=\"convertToInteractive('df-f796d026-d24f-42e6-81d5-ba723a4165a9')\"\n",
              "              title=\"Convert this dataframe to an interactive table.\"\n",
              "              style=\"display:none;\">\n",
              "        \n",
              "  <svg xmlns=\"http://www.w3.org/2000/svg\" height=\"24px\"viewBox=\"0 0 24 24\"\n",
              "       width=\"24px\">\n",
              "    <path d=\"M0 0h24v24H0V0z\" fill=\"none\"/>\n",
              "    <path d=\"M18.56 5.44l.94 2.06.94-2.06 2.06-.94-2.06-.94-.94-2.06-.94 2.06-2.06.94zm-11 1L8.5 8.5l.94-2.06 2.06-.94-2.06-.94L8.5 2.5l-.94 2.06-2.06.94zm10 10l.94 2.06.94-2.06 2.06-.94-2.06-.94-.94-2.06-.94 2.06-2.06.94z\"/><path d=\"M17.41 7.96l-1.37-1.37c-.4-.4-.92-.59-1.43-.59-.52 0-1.04.2-1.43.59L10.3 9.45l-7.72 7.72c-.78.78-.78 2.05 0 2.83L4 21.41c.39.39.9.59 1.41.59.51 0 1.02-.2 1.41-.59l7.78-7.78 2.81-2.81c.8-.78.8-2.07 0-2.86zM5.41 20L4 18.59l7.72-7.72 1.47 1.35L5.41 20z\"/>\n",
              "  </svg>\n",
              "      </button>\n",
              "      \n",
              "  <style>\n",
              "    .colab-df-container {\n",
              "      display:flex;\n",
              "      flex-wrap:wrap;\n",
              "      gap: 12px;\n",
              "    }\n",
              "\n",
              "    .colab-df-convert {\n",
              "      background-color: #E8F0FE;\n",
              "      border: none;\n",
              "      border-radius: 50%;\n",
              "      cursor: pointer;\n",
              "      display: none;\n",
              "      fill: #1967D2;\n",
              "      height: 32px;\n",
              "      padding: 0 0 0 0;\n",
              "      width: 32px;\n",
              "    }\n",
              "\n",
              "    .colab-df-convert:hover {\n",
              "      background-color: #E2EBFA;\n",
              "      box-shadow: 0px 1px 2px rgba(60, 64, 67, 0.3), 0px 1px 3px 1px rgba(60, 64, 67, 0.15);\n",
              "      fill: #174EA6;\n",
              "    }\n",
              "\n",
              "    [theme=dark] .colab-df-convert {\n",
              "      background-color: #3B4455;\n",
              "      fill: #D2E3FC;\n",
              "    }\n",
              "\n",
              "    [theme=dark] .colab-df-convert:hover {\n",
              "      background-color: #434B5C;\n",
              "      box-shadow: 0px 1px 3px 1px rgba(0, 0, 0, 0.15);\n",
              "      filter: drop-shadow(0px 1px 2px rgba(0, 0, 0, 0.3));\n",
              "      fill: #FFFFFF;\n",
              "    }\n",
              "  </style>\n",
              "\n",
              "      <script>\n",
              "        const buttonEl =\n",
              "          document.querySelector('#df-f796d026-d24f-42e6-81d5-ba723a4165a9 button.colab-df-convert');\n",
              "        buttonEl.style.display =\n",
              "          google.colab.kernel.accessAllowed ? 'block' : 'none';\n",
              "\n",
              "        async function convertToInteractive(key) {\n",
              "          const element = document.querySelector('#df-f796d026-d24f-42e6-81d5-ba723a4165a9');\n",
              "          const dataTable =\n",
              "            await google.colab.kernel.invokeFunction('convertToInteractive',\n",
              "                                                     [key], {});\n",
              "          if (!dataTable) return;\n",
              "\n",
              "          const docLinkHtml = 'Like what you see? Visit the ' +\n",
              "            '<a target=\"_blank\" href=https://colab.research.google.com/notebooks/data_table.ipynb>data table notebook</a>'\n",
              "            + ' to learn more about interactive tables.';\n",
              "          element.innerHTML = '';\n",
              "          dataTable['output_type'] = 'display_data';\n",
              "          await google.colab.output.renderOutput(dataTable, element);\n",
              "          const docLink = document.createElement('div');\n",
              "          docLink.innerHTML = docLinkHtml;\n",
              "          element.appendChild(docLink);\n",
              "        }\n",
              "      </script>\n",
              "    </div>\n",
              "  </div>\n",
              "  "
            ]
          },
          "metadata": {},
          "execution_count": 10
        }
      ]
    },
    {
      "source": [
        "#### Now I'll use visualizations to specify effect of different parameters on visits, spending\n",
        "\n",
        "#### But first overview of effect in different tables for different campaigns would be beneficiary to drive visualization in the right direction\n",
        "\n",
        "##### Note: All values calculated will be in percentages to give better understanding "
      ],
      "metadata": {
        "id": "72c5a312-7534-4d76-b0e4-3e68d4079651"
      },
      "id": "72c5a312-7534-4d76-b0e4-3e68d4079651",
      "cell_type": "markdown"
    },
    {
      "source": [
        "##### Effect of Recency on visits & Spending percentages"
      ],
      "metadata": {
        "id": "d2f98e66-40bf-43db-ac14-c86c7bf01da6"
      },
      "id": "d2f98e66-40bf-43db-ac14-c86c7bf01da6",
      "cell_type": "markdown"
    },
    {
      "source": [
        "df2 = df.groupby(['segment', 'recency'])[['visit', 'spend']].sum()\n",
        "df3 = df.groupby(['segment'])[['visit', 'spend']].sum()\n",
        "round(df2.div(df3, level='segment')*100,2)"
      ],
      "metadata": {
        "id": "c3dc6a21-378f-472b-8926-1c71995acb55",
        "outputId": "1993cb90-8463-4189-a019-b5eb61debd8b"
      },
      "id": "c3dc6a21-378f-472b-8926-1c71995acb55",
      "cell_type": "code",
      "execution_count": null,
      "outputs": [
        {
          "execution_count": 17,
          "output_type": "execute_result",
          "data": {
            "application/com.datacamp.data-table.v1+json": {
              "table": {
                "schema": {
                  "fields": [
                    {
                      "name": "segment",
                      "type": "string"
                    },
                    {
                      "name": "recency",
                      "type": "integer"
                    },
                    {
                      "name": "visit",
                      "type": "number"
                    },
                    {
                      "name": "spend",
                      "type": "number"
                    }
                  ],
                  "primaryKey": [
                    "segment",
                    "recency"
                  ],
                  "pandas_version": "0.20.0"
                },
                "data": [
                  {
                    "segment": "Mens E-Mail",
                    "recency": 1,
                    "visit": 17.75,
                    "spend": 18.3
                  },
                  {
                    "segment": "Mens E-Mail",
                    "recency": 2,
                    "visit": 14.46,
                    "spend": 15.97
                  },
                  {
                    "segment": "Mens E-Mail",
                    "recency": 3,
                    "visit": 10.53,
                    "spend": 14.79
                  },
                  {
                    "segment": "Mens E-Mail",
                    "recency": 4,
                    "visit": 8.42,
                    "spend": 5.25
                  },
                  {
                    "segment": "Mens E-Mail",
                    "recency": 5,
                    "visit": 6.34,
                    "spend": 4.94
                  },
                  {
                    "segment": "Mens E-Mail",
                    "recency": 6,
                    "visit": 6.99,
                    "spend": 5.34
                  },
                  {
                    "segment": "Mens E-Mail",
                    "recency": 7,
                    "visit": 5.29,
                    "spend": 7.35
                  },
                  {
                    "segment": "Mens E-Mail",
                    "recency": 8,
                    "visit": 4.65,
                    "spend": 2.59
                  },
                  {
                    "segment": "Mens E-Mail",
                    "recency": 9,
                    "visit": 8.4,
                    "spend": 8.33
                  },
                  {
                    "segment": "Mens E-Mail",
                    "recency": 10,
                    "visit": 9.68,
                    "spend": 11.54
                  },
                  {
                    "segment": "Mens E-Mail",
                    "recency": 11,
                    "visit": 4.31,
                    "spend": 1.33
                  },
                  {
                    "segment": "Mens E-Mail",
                    "recency": 12,
                    "visit": 3.18,
                    "spend": 4.27
                  },
                  {
                    "segment": "No E-Mail",
                    "recency": 1,
                    "visit": 19.5,
                    "spend": 18.05
                  },
                  {
                    "segment": "No E-Mail",
                    "recency": 2,
                    "visit": 15.03,
                    "spend": 20.04
                  },
                  {
                    "segment": "No E-Mail",
                    "recency": 3,
                    "visit": 10.79,
                    "spend": 12.36
                  },
                  {
                    "segment": "No E-Mail",
                    "recency": 4,
                    "visit": 8.49,
                    "spend": 5.33
                  },
                  {
                    "segment": "No E-Mail",
                    "recency": 5,
                    "visit": 7.38,
                    "spend": 4.18
                  },
                  {
                    "segment": "No E-Mail",
                    "recency": 6,
                    "visit": 6.41,
                    "spend": 8.27
                  },
                  {
                    "segment": "No E-Mail",
                    "recency": 7,
                    "visit": 6.23,
                    "spend": 3.87
                  },
                  {
                    "segment": "No E-Mail",
                    "recency": 8,
                    "visit": 4.64,
                    "spend": 10.87
                  },
                  {
                    "segment": "No E-Mail",
                    "recency": 9,
                    "visit": 6.15,
                    "spend": 4.72
                  },
                  {
                    "segment": "No E-Mail",
                    "recency": 10,
                    "visit": 8.4,
                    "spend": 6.74
                  },
                  {
                    "segment": "No E-Mail",
                    "recency": 11,
                    "visit": 4.51,
                    "spend": 2.48
                  },
                  {
                    "segment": "No E-Mail",
                    "recency": 12,
                    "visit": 2.48,
                    "spend": 3.07
                  },
                  {
                    "segment": "Womens E-Mail",
                    "recency": 1,
                    "visit": 18.41,
                    "spend": 21.77
                  },
                  {
                    "segment": "Womens E-Mail",
                    "recency": 2,
                    "visit": 13.5,
                    "spend": 13.83
                  },
                  {
                    "segment": "Womens E-Mail",
                    "recency": 3,
                    "visit": 10.13,
                    "spend": 6.71
                  },
                  {
                    "segment": "Womens E-Mail",
                    "recency": 4,
                    "visit": 7.29,
                    "spend": 13.24
                  },
                  {
                    "segment": "Womens E-Mail",
                    "recency": 5,
                    "visit": 7.04,
                    "spend": 5.24
                  },
                  {
                    "segment": "Womens E-Mail",
                    "recency": 6,
                    "visit": 7.13,
                    "spend": 5.97
                  },
                  {
                    "segment": "Womens E-Mail",
                    "recency": 7,
                    "visit": 6.15,
                    "spend": 1.94
                  },
                  {
                    "segment": "Womens E-Mail",
                    "recency": 8,
                    "visit": 4.97,
                    "spend": 7.84
                  },
                  {
                    "segment": "Womens E-Mail",
                    "recency": 9,
                    "visit": 8.28,
                    "spend": 7.8
                  },
                  {
                    "segment": "Womens E-Mail",
                    "recency": 10,
                    "visit": 8.8,
                    "spend": 9.08
                  },
                  {
                    "segment": "Womens E-Mail",
                    "recency": 11,
                    "visit": 4.73,
                    "spend": 3.34
                  },
                  {
                    "segment": "Womens E-Mail",
                    "recency": 12,
                    "visit": 3.58,
                    "spend": 3.24
                  }
                ]
              },
              "total_rows": 36,
              "truncation_type": null
            },
            "text/plain": "                       visit  spend\nsegment       recency              \nMens E-Mail   1        17.75  18.30\n              2        14.46  15.97\n              3        10.53  14.79\n              4         8.42   5.25\n              5         6.34   4.94\n              6         6.99   5.34\n              7         5.29   7.35\n              8         4.65   2.59\n              9         8.40   8.33\n              10        9.68  11.54\n              11        4.31   1.33\n              12        3.18   4.27\nNo E-Mail     1        19.50  18.05\n              2        15.03  20.04\n              3        10.79  12.36\n              4         8.49   5.33\n              5         7.38   4.18\n              6         6.41   8.27\n              7         6.23   3.87\n              8         4.64  10.87\n              9         6.15   4.72\n              10        8.40   6.74\n              11        4.51   2.48\n              12        2.48   3.07\nWomens E-Mail 1        18.41  21.77\n              2        13.50  13.83\n              3        10.13   6.71\n              4         7.29  13.24\n              5         7.04   5.24\n              6         7.13   5.97\n              7         6.15   1.94\n              8         4.97   7.84\n              9         8.28   7.80\n              10        8.80   9.08\n              11        4.73   3.34\n              12        3.58   3.24",
            "text/html": "<div>\n<style scoped>\n    .dataframe tbody tr th:only-of-type {\n        vertical-align: middle;\n    }\n\n    .dataframe tbody tr th {\n        vertical-align: top;\n    }\n\n    .dataframe thead th {\n        text-align: right;\n    }\n</style>\n<table border=\"1\" class=\"dataframe\">\n  <thead>\n    <tr style=\"text-align: right;\">\n      <th></th>\n      <th></th>\n      <th>visit</th>\n      <th>spend</th>\n    </tr>\n    <tr>\n      <th>segment</th>\n      <th>recency</th>\n      <th></th>\n      <th></th>\n    </tr>\n  </thead>\n  <tbody>\n    <tr>\n      <th rowspan=\"12\" valign=\"top\">Mens E-Mail</th>\n      <th>1</th>\n      <td>17.75</td>\n      <td>18.30</td>\n    </tr>\n    <tr>\n      <th>2</th>\n      <td>14.46</td>\n      <td>15.97</td>\n    </tr>\n    <tr>\n      <th>3</th>\n      <td>10.53</td>\n      <td>14.79</td>\n    </tr>\n    <tr>\n      <th>4</th>\n      <td>8.42</td>\n      <td>5.25</td>\n    </tr>\n    <tr>\n      <th>5</th>\n      <td>6.34</td>\n      <td>4.94</td>\n    </tr>\n    <tr>\n      <th>6</th>\n      <td>6.99</td>\n      <td>5.34</td>\n    </tr>\n    <tr>\n      <th>7</th>\n      <td>5.29</td>\n      <td>7.35</td>\n    </tr>\n    <tr>\n      <th>8</th>\n      <td>4.65</td>\n      <td>2.59</td>\n    </tr>\n    <tr>\n      <th>9</th>\n      <td>8.40</td>\n      <td>8.33</td>\n    </tr>\n    <tr>\n      <th>10</th>\n      <td>9.68</td>\n      <td>11.54</td>\n    </tr>\n    <tr>\n      <th>11</th>\n      <td>4.31</td>\n      <td>1.33</td>\n    </tr>\n    <tr>\n      <th>12</th>\n      <td>3.18</td>\n      <td>4.27</td>\n    </tr>\n    <tr>\n      <th rowspan=\"12\" valign=\"top\">No E-Mail</th>\n      <th>1</th>\n      <td>19.50</td>\n      <td>18.05</td>\n    </tr>\n    <tr>\n      <th>2</th>\n      <td>15.03</td>\n      <td>20.04</td>\n    </tr>\n    <tr>\n      <th>3</th>\n      <td>10.79</td>\n      <td>12.36</td>\n    </tr>\n    <tr>\n      <th>4</th>\n      <td>8.49</td>\n      <td>5.33</td>\n    </tr>\n    <tr>\n      <th>5</th>\n      <td>7.38</td>\n      <td>4.18</td>\n    </tr>\n    <tr>\n      <th>6</th>\n      <td>6.41</td>\n      <td>8.27</td>\n    </tr>\n    <tr>\n      <th>7</th>\n      <td>6.23</td>\n      <td>3.87</td>\n    </tr>\n    <tr>\n      <th>8</th>\n      <td>4.64</td>\n      <td>10.87</td>\n    </tr>\n    <tr>\n      <th>9</th>\n      <td>6.15</td>\n      <td>4.72</td>\n    </tr>\n    <tr>\n      <th>10</th>\n      <td>8.40</td>\n      <td>6.74</td>\n    </tr>\n    <tr>\n      <th>11</th>\n      <td>4.51</td>\n      <td>2.48</td>\n    </tr>\n    <tr>\n      <th>12</th>\n      <td>2.48</td>\n      <td>3.07</td>\n    </tr>\n    <tr>\n      <th rowspan=\"12\" valign=\"top\">Womens E-Mail</th>\n      <th>1</th>\n      <td>18.41</td>\n      <td>21.77</td>\n    </tr>\n    <tr>\n      <th>2</th>\n      <td>13.50</td>\n      <td>13.83</td>\n    </tr>\n    <tr>\n      <th>3</th>\n      <td>10.13</td>\n      <td>6.71</td>\n    </tr>\n    <tr>\n      <th>4</th>\n      <td>7.29</td>\n      <td>13.24</td>\n    </tr>\n    <tr>\n      <th>5</th>\n      <td>7.04</td>\n      <td>5.24</td>\n    </tr>\n    <tr>\n      <th>6</th>\n      <td>7.13</td>\n      <td>5.97</td>\n    </tr>\n    <tr>\n      <th>7</th>\n      <td>6.15</td>\n      <td>1.94</td>\n    </tr>\n    <tr>\n      <th>8</th>\n      <td>4.97</td>\n      <td>7.84</td>\n    </tr>\n    <tr>\n      <th>9</th>\n      <td>8.28</td>\n      <td>7.80</td>\n    </tr>\n    <tr>\n      <th>10</th>\n      <td>8.80</td>\n      <td>9.08</td>\n    </tr>\n    <tr>\n      <th>11</th>\n      <td>4.73</td>\n      <td>3.34</td>\n    </tr>\n    <tr>\n      <th>12</th>\n      <td>3.58</td>\n      <td>3.24</td>\n    </tr>\n  </tbody>\n</table>\n</div>"
          },
          "metadata": {}
        }
      ]
    },
    {
      "source": [
        "##### Effect of History Segment on visits & Spending percentages"
      ],
      "metadata": {
        "id": "c4d36a67-6e8d-4f63-a42b-ad8bcf65e082"
      },
      "id": "c4d36a67-6e8d-4f63-a42b-ad8bcf65e082",
      "cell_type": "markdown"
    },
    {
      "source": [
        "df2 = df.groupby(['segment', 'history_segment'])[['visit', 'spend']].sum()\n",
        "df3 = df.groupby(['segment'])[['visit', 'spend']].sum()\n",
        "round(df2.div(df3)*100,2)"
      ],
      "metadata": {
        "id": "5f1f88fb-778c-4093-8a52-78594dcdd5b5",
        "outputId": "a2bc9813-2895-45ef-e6e5-3e3181f79ea2"
      },
      "id": "5f1f88fb-778c-4093-8a52-78594dcdd5b5",
      "cell_type": "code",
      "execution_count": null,
      "outputs": [
        {
          "execution_count": 18,
          "output_type": "execute_result",
          "data": {
            "application/com.datacamp.data-table.v1+json": {
              "table": {
                "schema": {
                  "fields": [
                    {
                      "name": "segment",
                      "type": "string"
                    },
                    {
                      "name": "history_segment",
                      "type": "string"
                    },
                    {
                      "name": "visit",
                      "type": "number"
                    },
                    {
                      "name": "spend",
                      "type": "number"
                    }
                  ],
                  "primaryKey": [
                    "segment",
                    "history_segment"
                  ],
                  "pandas_version": "0.20.0"
                },
                "data": [
                  {
                    "segment": "Mens E-Mail",
                    "history_segment": "1) $0 - $100",
                    "visit": 30.43,
                    "spend": 26.89
                  },
                  {
                    "segment": "Mens E-Mail",
                    "history_segment": "2) $100 - $200",
                    "visit": 19.29,
                    "spend": 17.44
                  },
                  {
                    "segment": "Mens E-Mail",
                    "history_segment": "3) $200 - $350",
                    "visit": 22.14,
                    "spend": 19.83
                  },
                  {
                    "segment": "Mens E-Mail",
                    "history_segment": "4) $350 - $500",
                    "visit": 12.89,
                    "spend": 17.84
                  },
                  {
                    "segment": "Mens E-Mail",
                    "history_segment": "5) $500 - $750",
                    "visit": 8.55,
                    "spend": 8.65
                  },
                  {
                    "segment": "Mens E-Mail",
                    "history_segment": "6) $750 - $1,000",
                    "visit": 3.57,
                    "spend": 4
                  },
                  {
                    "segment": "Mens E-Mail",
                    "history_segment": "7) $1,000 +",
                    "visit": 3.13,
                    "spend": 5.35
                  },
                  {
                    "segment": "No E-Mail",
                    "history_segment": "1) $0 - $100",
                    "visit": 28.56,
                    "spend": 28.29
                  },
                  {
                    "segment": "No E-Mail",
                    "history_segment": "2) $100 - $200",
                    "visit": 19.45,
                    "spend": 14.7
                  },
                  {
                    "segment": "No E-Mail",
                    "history_segment": "3) $200 - $350",
                    "visit": 22.59,
                    "spend": 27.12
                  },
                  {
                    "segment": "No E-Mail",
                    "history_segment": "4) $350 - $500",
                    "visit": 14.1,
                    "spend": 15.43
                  },
                  {
                    "segment": "No E-Mail",
                    "history_segment": "5) $500 - $750",
                    "visit": 8,
                    "spend": 6.4
                  },
                  {
                    "segment": "No E-Mail",
                    "history_segment": "6) $750 - $1,000",
                    "visit": 4.24,
                    "spend": 1.56
                  },
                  {
                    "segment": "No E-Mail",
                    "history_segment": "7) $1,000 +",
                    "visit": 3.05,
                    "spend": 6.49
                  },
                  {
                    "segment": "Womens E-Mail",
                    "history_segment": "1) $0 - $100",
                    "visit": 31.04,
                    "spend": 37.87
                  },
                  {
                    "segment": "Womens E-Mail",
                    "history_segment": "2) $100 - $200",
                    "visit": 19.49,
                    "spend": 18.08
                  },
                  {
                    "segment": "Womens E-Mail",
                    "history_segment": "3) $200 - $350",
                    "visit": 20.85,
                    "spend": 11
                  },
                  {
                    "segment": "Womens E-Mail",
                    "history_segment": "4) $350 - $500",
                    "visit": 12.88,
                    "spend": 8.64
                  },
                  {
                    "segment": "Womens E-Mail",
                    "history_segment": "5) $500 - $750",
                    "visit": 9.02,
                    "spend": 13.16
                  },
                  {
                    "segment": "Womens E-Mail",
                    "history_segment": "6) $750 - $1,000",
                    "visit": 3.83,
                    "spend": 2.57
                  },
                  {
                    "segment": "Womens E-Mail",
                    "history_segment": "7) $1,000 +",
                    "visit": 2.9,
                    "spend": 8.69
                  }
                ]
              },
              "total_rows": 21,
              "truncation_type": null
            },
            "text/plain": "                                visit  spend\nsegment       history_segment               \nMens E-Mail   1) $0 - $100      30.43  26.89\n              2) $100 - $200    19.29  17.44\n              3) $200 - $350    22.14  19.83\n              4) $350 - $500    12.89  17.84\n              5) $500 - $750     8.55   8.65\n              6) $750 - $1,000   3.57   4.00\n              7) $1,000 +        3.13   5.35\nNo E-Mail     1) $0 - $100      28.56  28.29\n              2) $100 - $200    19.45  14.70\n              3) $200 - $350    22.59  27.12\n              4) $350 - $500    14.10  15.43\n              5) $500 - $750     8.00   6.40\n              6) $750 - $1,000   4.24   1.56\n              7) $1,000 +        3.05   6.49\nWomens E-Mail 1) $0 - $100      31.04  37.87\n              2) $100 - $200    19.49  18.08\n              3) $200 - $350    20.85  11.00\n              4) $350 - $500    12.88   8.64\n              5) $500 - $750     9.02  13.16\n              6) $750 - $1,000   3.83   2.57\n              7) $1,000 +        2.90   8.69",
            "text/html": "<div>\n<style scoped>\n    .dataframe tbody tr th:only-of-type {\n        vertical-align: middle;\n    }\n\n    .dataframe tbody tr th {\n        vertical-align: top;\n    }\n\n    .dataframe thead th {\n        text-align: right;\n    }\n</style>\n<table border=\"1\" class=\"dataframe\">\n  <thead>\n    <tr style=\"text-align: right;\">\n      <th></th>\n      <th></th>\n      <th>visit</th>\n      <th>spend</th>\n    </tr>\n    <tr>\n      <th>segment</th>\n      <th>history_segment</th>\n      <th></th>\n      <th></th>\n    </tr>\n  </thead>\n  <tbody>\n    <tr>\n      <th rowspan=\"7\" valign=\"top\">Mens E-Mail</th>\n      <th>1) $0 - $100</th>\n      <td>30.43</td>\n      <td>26.89</td>\n    </tr>\n    <tr>\n      <th>2) $100 - $200</th>\n      <td>19.29</td>\n      <td>17.44</td>\n    </tr>\n    <tr>\n      <th>3) $200 - $350</th>\n      <td>22.14</td>\n      <td>19.83</td>\n    </tr>\n    <tr>\n      <th>4) $350 - $500</th>\n      <td>12.89</td>\n      <td>17.84</td>\n    </tr>\n    <tr>\n      <th>5) $500 - $750</th>\n      <td>8.55</td>\n      <td>8.65</td>\n    </tr>\n    <tr>\n      <th>6) $750 - $1,000</th>\n      <td>3.57</td>\n      <td>4.00</td>\n    </tr>\n    <tr>\n      <th>7) $1,000 +</th>\n      <td>3.13</td>\n      <td>5.35</td>\n    </tr>\n    <tr>\n      <th rowspan=\"7\" valign=\"top\">No E-Mail</th>\n      <th>1) $0 - $100</th>\n      <td>28.56</td>\n      <td>28.29</td>\n    </tr>\n    <tr>\n      <th>2) $100 - $200</th>\n      <td>19.45</td>\n      <td>14.70</td>\n    </tr>\n    <tr>\n      <th>3) $200 - $350</th>\n      <td>22.59</td>\n      <td>27.12</td>\n    </tr>\n    <tr>\n      <th>4) $350 - $500</th>\n      <td>14.10</td>\n      <td>15.43</td>\n    </tr>\n    <tr>\n      <th>5) $500 - $750</th>\n      <td>8.00</td>\n      <td>6.40</td>\n    </tr>\n    <tr>\n      <th>6) $750 - $1,000</th>\n      <td>4.24</td>\n      <td>1.56</td>\n    </tr>\n    <tr>\n      <th>7) $1,000 +</th>\n      <td>3.05</td>\n      <td>6.49</td>\n    </tr>\n    <tr>\n      <th rowspan=\"7\" valign=\"top\">Womens E-Mail</th>\n      <th>1) $0 - $100</th>\n      <td>31.04</td>\n      <td>37.87</td>\n    </tr>\n    <tr>\n      <th>2) $100 - $200</th>\n      <td>19.49</td>\n      <td>18.08</td>\n    </tr>\n    <tr>\n      <th>3) $200 - $350</th>\n      <td>20.85</td>\n      <td>11.00</td>\n    </tr>\n    <tr>\n      <th>4) $350 - $500</th>\n      <td>12.88</td>\n      <td>8.64</td>\n    </tr>\n    <tr>\n      <th>5) $500 - $750</th>\n      <td>9.02</td>\n      <td>13.16</td>\n    </tr>\n    <tr>\n      <th>6) $750 - $1,000</th>\n      <td>3.83</td>\n      <td>2.57</td>\n    </tr>\n    <tr>\n      <th>7) $1,000 +</th>\n      <td>2.90</td>\n      <td>8.69</td>\n    </tr>\n  </tbody>\n</table>\n</div>"
          },
          "metadata": {}
        }
      ]
    },
    {
      "source": [
        "##### Effect of gender merchandise on visits & Spending percentages"
      ],
      "metadata": {
        "id": "58fa61f3-2e99-4ebd-bf1a-e60aaf642b7d"
      },
      "id": "58fa61f3-2e99-4ebd-bf1a-e60aaf642b7d",
      "cell_type": "markdown"
    },
    {
      "source": [
        "df2 = df.groupby(['segment', 'gender_merchandise'])[['visit', 'spend']].sum()\n",
        "df3 = df.groupby(['segment'])[['visit', 'spend']].sum()\n",
        "round(df2.div(df3)*100,2)"
      ],
      "metadata": {
        "id": "098f976f-6589-4602-8654-706245771631",
        "outputId": "87dfdb95-0960-423e-e83f-c84f6d7a46e0",
        "colab": {
          "base_uri": "https://localhost:8080/",
          "height": 363
        }
      },
      "id": "098f976f-6589-4602-8654-706245771631",
      "cell_type": "code",
      "execution_count": null,
      "outputs": [
        {
          "output_type": "execute_result",
          "data": {
            "text/plain": [
              "                                  visit  spend\n",
              "segment       gender_merchandise              \n",
              "Mens E-Mail   Both Genders        17.64  21.62\n",
              "              Men                 41.47  43.46\n",
              "              Women               40.88  34.92\n",
              "No E-Mail     Both Genders        17.15  18.23\n",
              "              Men                 42.53  48.19\n",
              "              Women               40.32  33.57\n",
              "Womens E-Mail Both Genders        16.46  12.34\n",
              "              Men                 32.95  40.67\n",
              "              Women               50.59  46.99"
            ],
            "text/html": [
              "\n",
              "  <div id=\"df-4c469e21-3088-4111-bd50-9a5067b35663\">\n",
              "    <div class=\"colab-df-container\">\n",
              "      <div>\n",
              "<style scoped>\n",
              "    .dataframe tbody tr th:only-of-type {\n",
              "        vertical-align: middle;\n",
              "    }\n",
              "\n",
              "    .dataframe tbody tr th {\n",
              "        vertical-align: top;\n",
              "    }\n",
              "\n",
              "    .dataframe thead th {\n",
              "        text-align: right;\n",
              "    }\n",
              "</style>\n",
              "<table border=\"1\" class=\"dataframe\">\n",
              "  <thead>\n",
              "    <tr style=\"text-align: right;\">\n",
              "      <th></th>\n",
              "      <th></th>\n",
              "      <th>visit</th>\n",
              "      <th>spend</th>\n",
              "    </tr>\n",
              "    <tr>\n",
              "      <th>segment</th>\n",
              "      <th>gender_merchandise</th>\n",
              "      <th></th>\n",
              "      <th></th>\n",
              "    </tr>\n",
              "  </thead>\n",
              "  <tbody>\n",
              "    <tr>\n",
              "      <th rowspan=\"3\" valign=\"top\">Mens E-Mail</th>\n",
              "      <th>Both Genders</th>\n",
              "      <td>17.64</td>\n",
              "      <td>21.62</td>\n",
              "    </tr>\n",
              "    <tr>\n",
              "      <th>Men</th>\n",
              "      <td>41.47</td>\n",
              "      <td>43.46</td>\n",
              "    </tr>\n",
              "    <tr>\n",
              "      <th>Women</th>\n",
              "      <td>40.88</td>\n",
              "      <td>34.92</td>\n",
              "    </tr>\n",
              "    <tr>\n",
              "      <th rowspan=\"3\" valign=\"top\">No E-Mail</th>\n",
              "      <th>Both Genders</th>\n",
              "      <td>17.15</td>\n",
              "      <td>18.23</td>\n",
              "    </tr>\n",
              "    <tr>\n",
              "      <th>Men</th>\n",
              "      <td>42.53</td>\n",
              "      <td>48.19</td>\n",
              "    </tr>\n",
              "    <tr>\n",
              "      <th>Women</th>\n",
              "      <td>40.32</td>\n",
              "      <td>33.57</td>\n",
              "    </tr>\n",
              "    <tr>\n",
              "      <th rowspan=\"3\" valign=\"top\">Womens E-Mail</th>\n",
              "      <th>Both Genders</th>\n",
              "      <td>16.46</td>\n",
              "      <td>12.34</td>\n",
              "    </tr>\n",
              "    <tr>\n",
              "      <th>Men</th>\n",
              "      <td>32.95</td>\n",
              "      <td>40.67</td>\n",
              "    </tr>\n",
              "    <tr>\n",
              "      <th>Women</th>\n",
              "      <td>50.59</td>\n",
              "      <td>46.99</td>\n",
              "    </tr>\n",
              "  </tbody>\n",
              "</table>\n",
              "</div>\n",
              "      <button class=\"colab-df-convert\" onclick=\"convertToInteractive('df-4c469e21-3088-4111-bd50-9a5067b35663')\"\n",
              "              title=\"Convert this dataframe to an interactive table.\"\n",
              "              style=\"display:none;\">\n",
              "        \n",
              "  <svg xmlns=\"http://www.w3.org/2000/svg\" height=\"24px\"viewBox=\"0 0 24 24\"\n",
              "       width=\"24px\">\n",
              "    <path d=\"M0 0h24v24H0V0z\" fill=\"none\"/>\n",
              "    <path d=\"M18.56 5.44l.94 2.06.94-2.06 2.06-.94-2.06-.94-.94-2.06-.94 2.06-2.06.94zm-11 1L8.5 8.5l.94-2.06 2.06-.94-2.06-.94L8.5 2.5l-.94 2.06-2.06.94zm10 10l.94 2.06.94-2.06 2.06-.94-2.06-.94-.94-2.06-.94 2.06-2.06.94z\"/><path d=\"M17.41 7.96l-1.37-1.37c-.4-.4-.92-.59-1.43-.59-.52 0-1.04.2-1.43.59L10.3 9.45l-7.72 7.72c-.78.78-.78 2.05 0 2.83L4 21.41c.39.39.9.59 1.41.59.51 0 1.02-.2 1.41-.59l7.78-7.78 2.81-2.81c.8-.78.8-2.07 0-2.86zM5.41 20L4 18.59l7.72-7.72 1.47 1.35L5.41 20z\"/>\n",
              "  </svg>\n",
              "      </button>\n",
              "      \n",
              "  <style>\n",
              "    .colab-df-container {\n",
              "      display:flex;\n",
              "      flex-wrap:wrap;\n",
              "      gap: 12px;\n",
              "    }\n",
              "\n",
              "    .colab-df-convert {\n",
              "      background-color: #E8F0FE;\n",
              "      border: none;\n",
              "      border-radius: 50%;\n",
              "      cursor: pointer;\n",
              "      display: none;\n",
              "      fill: #1967D2;\n",
              "      height: 32px;\n",
              "      padding: 0 0 0 0;\n",
              "      width: 32px;\n",
              "    }\n",
              "\n",
              "    .colab-df-convert:hover {\n",
              "      background-color: #E2EBFA;\n",
              "      box-shadow: 0px 1px 2px rgba(60, 64, 67, 0.3), 0px 1px 3px 1px rgba(60, 64, 67, 0.15);\n",
              "      fill: #174EA6;\n",
              "    }\n",
              "\n",
              "    [theme=dark] .colab-df-convert {\n",
              "      background-color: #3B4455;\n",
              "      fill: #D2E3FC;\n",
              "    }\n",
              "\n",
              "    [theme=dark] .colab-df-convert:hover {\n",
              "      background-color: #434B5C;\n",
              "      box-shadow: 0px 1px 3px 1px rgba(0, 0, 0, 0.15);\n",
              "      filter: drop-shadow(0px 1px 2px rgba(0, 0, 0, 0.3));\n",
              "      fill: #FFFFFF;\n",
              "    }\n",
              "  </style>\n",
              "\n",
              "      <script>\n",
              "        const buttonEl =\n",
              "          document.querySelector('#df-4c469e21-3088-4111-bd50-9a5067b35663 button.colab-df-convert');\n",
              "        buttonEl.style.display =\n",
              "          google.colab.kernel.accessAllowed ? 'block' : 'none';\n",
              "\n",
              "        async function convertToInteractive(key) {\n",
              "          const element = document.querySelector('#df-4c469e21-3088-4111-bd50-9a5067b35663');\n",
              "          const dataTable =\n",
              "            await google.colab.kernel.invokeFunction('convertToInteractive',\n",
              "                                                     [key], {});\n",
              "          if (!dataTable) return;\n",
              "\n",
              "          const docLinkHtml = 'Like what you see? Visit the ' +\n",
              "            '<a target=\"_blank\" href=https://colab.research.google.com/notebooks/data_table.ipynb>data table notebook</a>'\n",
              "            + ' to learn more about interactive tables.';\n",
              "          element.innerHTML = '';\n",
              "          dataTable['output_type'] = 'display_data';\n",
              "          await google.colab.output.renderOutput(dataTable, element);\n",
              "          const docLink = document.createElement('div');\n",
              "          docLink.innerHTML = docLinkHtml;\n",
              "          element.appendChild(docLink);\n",
              "        }\n",
              "      </script>\n",
              "    </div>\n",
              "  </div>\n",
              "  "
            ]
          },
          "metadata": {},
          "execution_count": 11
        }
      ]
    },
    {
      "source": [
        "##### Effect of zip code on visits & Spending percentages"
      ],
      "metadata": {
        "id": "8d235956-5736-44c6-b8c4-c01bf8a97a5c"
      },
      "id": "8d235956-5736-44c6-b8c4-c01bf8a97a5c",
      "cell_type": "markdown"
    },
    {
      "source": [
        "df2 = df.groupby(['segment', 'zip_code'])[['visit', 'spend']].sum()\n",
        "df3 = df.groupby(['segment'])[['visit', 'spend']].sum()\n",
        "round(df2.div(df3)*100,2)"
      ],
      "metadata": {
        "id": "1c138975-b535-4f91-9ae9-9c04c832a4df",
        "outputId": "55703e23-b388-4608-b3ca-7ccb3b49deab"
      },
      "id": "1c138975-b535-4f91-9ae9-9c04c832a4df",
      "cell_type": "code",
      "execution_count": null,
      "outputs": [
        {
          "execution_count": 20,
          "output_type": "execute_result",
          "data": {
            "application/com.datacamp.data-table.v1+json": {
              "table": {
                "schema": {
                  "fields": [
                    {
                      "name": "segment",
                      "type": "string"
                    },
                    {
                      "name": "zip_code",
                      "type": "string"
                    },
                    {
                      "name": "visit",
                      "type": "number"
                    },
                    {
                      "name": "spend",
                      "type": "number"
                    }
                  ],
                  "primaryKey": [
                    "segment",
                    "zip_code"
                  ],
                  "pandas_version": "0.20.0"
                },
                "data": [
                  {
                    "segment": "Mens E-Mail",
                    "zip_code": "Rural",
                    "visit": 18.9,
                    "spend": 16.29
                  },
                  {
                    "segment": "Mens E-Mail",
                    "zip_code": "Surburban",
                    "visit": 42.3,
                    "spend": 46.18
                  },
                  {
                    "segment": "Mens E-Mail",
                    "zip_code": "Urban",
                    "visit": 38.8,
                    "spend": 37.53
                  },
                  {
                    "segment": "No E-Mail",
                    "zip_code": "Rural",
                    "visit": 21.31,
                    "spend": 17.31
                  },
                  {
                    "segment": "No E-Mail",
                    "zip_code": "Surburban",
                    "visit": 42.13,
                    "spend": 46.33
                  },
                  {
                    "segment": "No E-Mail",
                    "zip_code": "Urban",
                    "visit": 36.56,
                    "spend": 36.36
                  },
                  {
                    "segment": "Womens E-Mail",
                    "zip_code": "Rural",
                    "visit": 17.94,
                    "spend": 17.7
                  },
                  {
                    "segment": "Womens E-Mail",
                    "zip_code": "Surburban",
                    "visit": 44.07,
                    "spend": 35.46
                  },
                  {
                    "segment": "Womens E-Mail",
                    "zip_code": "Urban",
                    "visit": 37.99,
                    "spend": 46.84
                  }
                ]
              },
              "total_rows": 9,
              "truncation_type": null
            },
            "text/plain": "                         visit  spend\nsegment       zip_code               \nMens E-Mail   Rural      18.90  16.29\n              Surburban  42.30  46.18\n              Urban      38.80  37.53\nNo E-Mail     Rural      21.31  17.31\n              Surburban  42.13  46.33\n              Urban      36.56  36.36\nWomens E-Mail Rural      17.94  17.70\n              Surburban  44.07  35.46\n              Urban      37.99  46.84",
            "text/html": "<div>\n<style scoped>\n    .dataframe tbody tr th:only-of-type {\n        vertical-align: middle;\n    }\n\n    .dataframe tbody tr th {\n        vertical-align: top;\n    }\n\n    .dataframe thead th {\n        text-align: right;\n    }\n</style>\n<table border=\"1\" class=\"dataframe\">\n  <thead>\n    <tr style=\"text-align: right;\">\n      <th></th>\n      <th></th>\n      <th>visit</th>\n      <th>spend</th>\n    </tr>\n    <tr>\n      <th>segment</th>\n      <th>zip_code</th>\n      <th></th>\n      <th></th>\n    </tr>\n  </thead>\n  <tbody>\n    <tr>\n      <th rowspan=\"3\" valign=\"top\">Mens E-Mail</th>\n      <th>Rural</th>\n      <td>18.90</td>\n      <td>16.29</td>\n    </tr>\n    <tr>\n      <th>Surburban</th>\n      <td>42.30</td>\n      <td>46.18</td>\n    </tr>\n    <tr>\n      <th>Urban</th>\n      <td>38.80</td>\n      <td>37.53</td>\n    </tr>\n    <tr>\n      <th rowspan=\"3\" valign=\"top\">No E-Mail</th>\n      <th>Rural</th>\n      <td>21.31</td>\n      <td>17.31</td>\n    </tr>\n    <tr>\n      <th>Surburban</th>\n      <td>42.13</td>\n      <td>46.33</td>\n    </tr>\n    <tr>\n      <th>Urban</th>\n      <td>36.56</td>\n      <td>36.36</td>\n    </tr>\n    <tr>\n      <th rowspan=\"3\" valign=\"top\">Womens E-Mail</th>\n      <th>Rural</th>\n      <td>17.94</td>\n      <td>17.70</td>\n    </tr>\n    <tr>\n      <th>Surburban</th>\n      <td>44.07</td>\n      <td>35.46</td>\n    </tr>\n    <tr>\n      <th>Urban</th>\n      <td>37.99</td>\n      <td>46.84</td>\n    </tr>\n  </tbody>\n</table>\n</div>"
          },
          "metadata": {}
        }
      ]
    },
    {
      "source": [
        "##### Effect of channel on visits & Spending percentages"
      ],
      "metadata": {
        "id": "be030294-515c-4a4d-ac90-6d030ba2c9e2"
      },
      "id": "be030294-515c-4a4d-ac90-6d030ba2c9e2",
      "cell_type": "markdown"
    },
    {
      "source": [
        "df2 = df.groupby(['segment', 'channel'])[['visit', 'spend']].sum()\n",
        "df3 = df.groupby(['segment'])[['visit', 'spend']].sum()\n",
        "round(df2.div(df3)*100,2)"
      ],
      "metadata": {
        "id": "1e305c25-55f9-4a40-9d4a-b927a2dab892",
        "outputId": "cc3af32c-ae81-480e-e1f9-7d13cc11afbe"
      },
      "id": "1e305c25-55f9-4a40-9d4a-b927a2dab892",
      "cell_type": "code",
      "execution_count": null,
      "outputs": [
        {
          "execution_count": 21,
          "output_type": "execute_result",
          "data": {
            "application/com.datacamp.data-table.v1+json": {
              "table": {
                "schema": {
                  "fields": [
                    {
                      "name": "segment",
                      "type": "string"
                    },
                    {
                      "name": "channel",
                      "type": "string"
                    },
                    {
                      "name": "visit",
                      "type": "number"
                    },
                    {
                      "name": "spend",
                      "type": "number"
                    }
                  ],
                  "primaryKey": [
                    "segment",
                    "channel"
                  ],
                  "pandas_version": "0.20.0"
                },
                "data": [
                  {
                    "segment": "Mens E-Mail",
                    "channel": "Multichannel",
                    "visit": 14,
                    "spend": 15.51
                  },
                  {
                    "segment": "Mens E-Mail",
                    "channel": "Phone",
                    "visit": 38.62,
                    "spend": 36.84
                  },
                  {
                    "segment": "Mens E-Mail",
                    "channel": "Web",
                    "visit": 47.38,
                    "spend": 47.65
                  },
                  {
                    "segment": "No E-Mail",
                    "channel": "Multichannel",
                    "visit": 14.81,
                    "spend": 11.54
                  },
                  {
                    "segment": "No E-Mail",
                    "channel": "Phone",
                    "visit": 35.94,
                    "spend": 43.22
                  },
                  {
                    "segment": "No E-Mail",
                    "channel": "Web",
                    "visit": 49.25,
                    "spend": 45.25
                  },
                  {
                    "segment": "Womens E-Mail",
                    "channel": "Multichannel",
                    "visit": 13.99,
                    "spend": 19.85
                  },
                  {
                    "segment": "Womens E-Mail",
                    "channel": "Phone",
                    "visit": 38.48,
                    "spend": 35.99
                  },
                  {
                    "segment": "Womens E-Mail",
                    "channel": "Web",
                    "visit": 47.53,
                    "spend": 44.16
                  }
                ]
              },
              "total_rows": 9,
              "truncation_type": null
            },
            "text/plain": "                            visit  spend\nsegment       channel                   \nMens E-Mail   Multichannel  14.00  15.51\n              Phone         38.62  36.84\n              Web           47.38  47.65\nNo E-Mail     Multichannel  14.81  11.54\n              Phone         35.94  43.22\n              Web           49.25  45.25\nWomens E-Mail Multichannel  13.99  19.85\n              Phone         38.48  35.99\n              Web           47.53  44.16",
            "text/html": "<div>\n<style scoped>\n    .dataframe tbody tr th:only-of-type {\n        vertical-align: middle;\n    }\n\n    .dataframe tbody tr th {\n        vertical-align: top;\n    }\n\n    .dataframe thead th {\n        text-align: right;\n    }\n</style>\n<table border=\"1\" class=\"dataframe\">\n  <thead>\n    <tr style=\"text-align: right;\">\n      <th></th>\n      <th></th>\n      <th>visit</th>\n      <th>spend</th>\n    </tr>\n    <tr>\n      <th>segment</th>\n      <th>channel</th>\n      <th></th>\n      <th></th>\n    </tr>\n  </thead>\n  <tbody>\n    <tr>\n      <th rowspan=\"3\" valign=\"top\">Mens E-Mail</th>\n      <th>Multichannel</th>\n      <td>14.00</td>\n      <td>15.51</td>\n    </tr>\n    <tr>\n      <th>Phone</th>\n      <td>38.62</td>\n      <td>36.84</td>\n    </tr>\n    <tr>\n      <th>Web</th>\n      <td>47.38</td>\n      <td>47.65</td>\n    </tr>\n    <tr>\n      <th rowspan=\"3\" valign=\"top\">No E-Mail</th>\n      <th>Multichannel</th>\n      <td>14.81</td>\n      <td>11.54</td>\n    </tr>\n    <tr>\n      <th>Phone</th>\n      <td>35.94</td>\n      <td>43.22</td>\n    </tr>\n    <tr>\n      <th>Web</th>\n      <td>49.25</td>\n      <td>45.25</td>\n    </tr>\n    <tr>\n      <th rowspan=\"3\" valign=\"top\">Womens E-Mail</th>\n      <th>Multichannel</th>\n      <td>13.99</td>\n      <td>19.85</td>\n    </tr>\n    <tr>\n      <th>Phone</th>\n      <td>38.48</td>\n      <td>35.99</td>\n    </tr>\n    <tr>\n      <th>Web</th>\n      <td>47.53</td>\n      <td>44.16</td>\n    </tr>\n  </tbody>\n</table>\n</div>"
          },
          "metadata": {}
        }
      ]
    },
    {
      "source": [
        "#### Before finalizing exploratory analysis, how about purchase history of our clients, what is the effect of different features on that history"
      ],
      "metadata": {
        "id": "33e49a8c-cb9c-40c0-8e1a-83300be4c2ca"
      },
      "id": "33e49a8c-cb9c-40c0-8e1a-83300be4c2ca",
      "cell_type": "markdown"
    },
    {
      "source": [
        "df.head()"
      ],
      "metadata": {
        "id": "2d249866-278e-486d-a9ec-2a51e9cbd0f3",
        "outputId": "eeb922ba-f3e9-4a5b-cdb8-91fe64169bdf"
      },
      "id": "2d249866-278e-486d-a9ec-2a51e9cbd0f3",
      "cell_type": "code",
      "execution_count": null,
      "outputs": [
        {
          "execution_count": 22,
          "output_type": "execute_result",
          "data": {
            "application/com.datacamp.data-table.v1+json": {
              "table": {
                "schema": {
                  "fields": [
                    {
                      "name": "index",
                      "type": "integer"
                    },
                    {
                      "name": "recency",
                      "type": "integer"
                    },
                    {
                      "name": "history_segment",
                      "type": "string"
                    },
                    {
                      "name": "history",
                      "type": "number"
                    },
                    {
                      "name": "zip_code",
                      "type": "string"
                    },
                    {
                      "name": "newbie",
                      "type": "integer"
                    },
                    {
                      "name": "channel",
                      "type": "string"
                    },
                    {
                      "name": "segment",
                      "type": "string"
                    },
                    {
                      "name": "visit",
                      "type": "integer"
                    },
                    {
                      "name": "conversion",
                      "type": "integer"
                    },
                    {
                      "name": "spend",
                      "type": "number"
                    },
                    {
                      "name": "gender_merchandise",
                      "type": "string"
                    }
                  ],
                  "primaryKey": [
                    "index"
                  ],
                  "pandas_version": "0.20.0"
                },
                "data": [
                  {
                    "index": 0,
                    "recency": 10,
                    "history_segment": "2) $100 - $200",
                    "history": 142.44,
                    "zip_code": "Surburban",
                    "newbie": 0,
                    "channel": "Phone",
                    "segment": "Womens E-Mail",
                    "visit": 0,
                    "conversion": 0,
                    "spend": 0,
                    "gender_merchandise": "Men"
                  },
                  {
                    "index": 1,
                    "recency": 6,
                    "history_segment": "3) $200 - $350",
                    "history": 329.08,
                    "zip_code": "Rural",
                    "newbie": 1,
                    "channel": "Web",
                    "segment": "No E-Mail",
                    "visit": 0,
                    "conversion": 0,
                    "spend": 0,
                    "gender_merchandise": "Both Genders"
                  },
                  {
                    "index": 2,
                    "recency": 7,
                    "history_segment": "2) $100 - $200",
                    "history": 180.65,
                    "zip_code": "Surburban",
                    "newbie": 1,
                    "channel": "Web",
                    "segment": "Womens E-Mail",
                    "visit": 0,
                    "conversion": 0,
                    "spend": 0,
                    "gender_merchandise": "Women"
                  },
                  {
                    "index": 3,
                    "recency": 9,
                    "history_segment": "5) $500 - $750",
                    "history": 675.83,
                    "zip_code": "Rural",
                    "newbie": 1,
                    "channel": "Web",
                    "segment": "Mens E-Mail",
                    "visit": 0,
                    "conversion": 0,
                    "spend": 0,
                    "gender_merchandise": "Men"
                  },
                  {
                    "index": 4,
                    "recency": 2,
                    "history_segment": "1) $0 - $100",
                    "history": 45.34,
                    "zip_code": "Urban",
                    "newbie": 0,
                    "channel": "Web",
                    "segment": "Womens E-Mail",
                    "visit": 0,
                    "conversion": 0,
                    "spend": 0,
                    "gender_merchandise": "Men"
                  }
                ]
              },
              "total_rows": 5,
              "truncation_type": null
            },
            "text/plain": "   recency history_segment  history   zip_code  newbie channel        segment  \\\n0       10  2) $100 - $200   142.44  Surburban       0   Phone  Womens E-Mail   \n1        6  3) $200 - $350   329.08      Rural       1     Web      No E-Mail   \n2        7  2) $100 - $200   180.65  Surburban       1     Web  Womens E-Mail   \n3        9  5) $500 - $750   675.83      Rural       1     Web    Mens E-Mail   \n4        2    1) $0 - $100    45.34      Urban       0     Web  Womens E-Mail   \n\n   visit  conversion  spend gender_merchandise  \n0      0           0    0.0                Men  \n1      0           0    0.0       Both Genders  \n2      0           0    0.0              Women  \n3      0           0    0.0                Men  \n4      0           0    0.0                Men  ",
            "text/html": "<div>\n<style scoped>\n    .dataframe tbody tr th:only-of-type {\n        vertical-align: middle;\n    }\n\n    .dataframe tbody tr th {\n        vertical-align: top;\n    }\n\n    .dataframe thead th {\n        text-align: right;\n    }\n</style>\n<table border=\"1\" class=\"dataframe\">\n  <thead>\n    <tr style=\"text-align: right;\">\n      <th></th>\n      <th>recency</th>\n      <th>history_segment</th>\n      <th>history</th>\n      <th>zip_code</th>\n      <th>newbie</th>\n      <th>channel</th>\n      <th>segment</th>\n      <th>visit</th>\n      <th>conversion</th>\n      <th>spend</th>\n      <th>gender_merchandise</th>\n    </tr>\n  </thead>\n  <tbody>\n    <tr>\n      <th>0</th>\n      <td>10</td>\n      <td>2) $100 - $200</td>\n      <td>142.44</td>\n      <td>Surburban</td>\n      <td>0</td>\n      <td>Phone</td>\n      <td>Womens E-Mail</td>\n      <td>0</td>\n      <td>0</td>\n      <td>0.0</td>\n      <td>Men</td>\n    </tr>\n    <tr>\n      <th>1</th>\n      <td>6</td>\n      <td>3) $200 - $350</td>\n      <td>329.08</td>\n      <td>Rural</td>\n      <td>1</td>\n      <td>Web</td>\n      <td>No E-Mail</td>\n      <td>0</td>\n      <td>0</td>\n      <td>0.0</td>\n      <td>Both Genders</td>\n    </tr>\n    <tr>\n      <th>2</th>\n      <td>7</td>\n      <td>2) $100 - $200</td>\n      <td>180.65</td>\n      <td>Surburban</td>\n      <td>1</td>\n      <td>Web</td>\n      <td>Womens E-Mail</td>\n      <td>0</td>\n      <td>0</td>\n      <td>0.0</td>\n      <td>Women</td>\n    </tr>\n    <tr>\n      <th>3</th>\n      <td>9</td>\n      <td>5) $500 - $750</td>\n      <td>675.83</td>\n      <td>Rural</td>\n      <td>1</td>\n      <td>Web</td>\n      <td>Mens E-Mail</td>\n      <td>0</td>\n      <td>0</td>\n      <td>0.0</td>\n      <td>Men</td>\n    </tr>\n    <tr>\n      <th>4</th>\n      <td>2</td>\n      <td>1) $0 - $100</td>\n      <td>45.34</td>\n      <td>Urban</td>\n      <td>0</td>\n      <td>Web</td>\n      <td>Womens E-Mail</td>\n      <td>0</td>\n      <td>0</td>\n      <td>0.0</td>\n      <td>Men</td>\n    </tr>\n  </tbody>\n</table>\n</div>"
          },
          "metadata": {}
        }
      ]
    },
    {
      "source": [
        "# Effect of zip_code on history \n",
        "fig, ax = plt.subplots(figsize=(16, 8))\n",
        "data = df.groupby(by = 'zip_code')['history'].sum().sort_values()\n",
        "ax = sns.barplot(y=data.values, x=data.index);"
      ],
      "metadata": {
        "id": "f2807edb-37bb-497a-9051-9e6edede3e6a",
        "outputId": "44a3c2d3-58ad-4a61-82ff-198936c7cd73"
      },
      "id": "f2807edb-37bb-497a-9051-9e6edede3e6a",
      "cell_type": "code",
      "execution_count": null,
      "outputs": [
        {
          "output_type": "display_data",
          "data": {
            "text/plain": "<Figure size 1152x576 with 1 Axes>",
            "image/png": "[encoded data removed]"
          },
          "metadata": {
            "needs_background": "light"
          }
        }
      ]
    },
    {
      "source": [
        "# Effect of zip_code on history \n",
        "fig, ax = plt.subplots(figsize=(16, 8))\n",
        "data = df.groupby(by = 'history_segment')['history'].sum().sort_values()\n",
        "ax = sns.barplot(y=data.values, x=data.index);"
      ],
      "metadata": {
        "id": "1272a7be-b878-4fb7-8f46-eb86477f6c3f",
        "outputId": "272ca7e9-0057-412d-e5a3-42915f04792c"
      },
      "cell_type": "code",
      "id": "1272a7be-b878-4fb7-8f46-eb86477f6c3f",
      "execution_count": null,
      "outputs": [
        {
          "output_type": "display_data",
          "data": {
            "text/plain": "<Figure size 1152x576 with 1 Axes>",
            "image/png": "[encoded data removed]"
          },
          "metadata": {
            "needs_background": "light"
          }
        }
      ]
    },
    {
      "source": [
        "# Effect of channel on history \n",
        "fig, ax = plt.subplots(figsize=(16, 8))\n",
        "data = df.groupby(by = 'channel')['history'].sum().sort_values()\n",
        "ax = sns.barplot(y=data.values, x=data.index);"
      ],
      "metadata": {
        "id": "4ad70442-66cb-4106-bbca-954a8602ba9e",
        "outputId": "bf4ea276-4e41-4a5f-ba9c-34fce81b5afd"
      },
      "id": "4ad70442-66cb-4106-bbca-954a8602ba9e",
      "cell_type": "code",
      "execution_count": null,
      "outputs": [
        {
          "output_type": "display_data",
          "data": {
            "text/plain": "<Figure size 1152x576 with 1 Axes>",
            "image/png": "[encoded data removed]"
          },
          "metadata": {
            "needs_background": "light"
          }
        }
      ]
    },
    {
      "source": [
        "# Effect of gender merchandise on history \n",
        "fig, ax = plt.subplots(figsize=(16, 8))\n",
        "data = df.groupby(by = 'gender_merchandise')['history'].sum().sort_values()\n",
        "ax = sns.barplot(y=data.values, x=data.index);"
      ],
      "metadata": {
        "id": "f402ddfe-3fc5-40dc-9d7f-69f0b4b40bf2",
        "outputId": "833c9dbe-9969-402a-b303-5015e7f5a3f4"
      },
      "id": "f402ddfe-3fc5-40dc-9d7f-69f0b4b40bf2",
      "cell_type": "code",
      "execution_count": null,
      "outputs": [
        {
          "output_type": "display_data",
          "data": {
            "text/plain": "<Figure size 1152x576 with 1 Axes>",
            "image/png": "[encoded data removed]"
          },
          "metadata": {
            "needs_background": "light"
          }
        }
      ]
    },
    {
      "source": [
        "# Effect of being newbie on history \n",
        "fig, ax = plt.subplots(figsize=(16, 8))\n",
        "data = df.groupby(by = 'newbie')['history'].sum().sort_values()\n",
        "ax = sns.barplot(y=data.values, x=data.index);"
      ],
      "metadata": {
        "id": "c8b4ce95-2a39-40e7-86fa-2afe75d4c300",
        "outputId": "558aabd2-4965-416b-a11a-ae5ffc20f264"
      },
      "id": "c8b4ce95-2a39-40e7-86fa-2afe75d4c300",
      "cell_type": "code",
      "execution_count": null,
      "outputs": [
        {
          "output_type": "display_data",
          "data": {
            "text/plain": "<Figure size 1152x576 with 1 Axes>",
            "image/png": "[encoded data removed]"
          },
          "metadata": {
            "needs_background": "light"
          }
        }
      ]
    },
    {
      "source": [
        "### 4. Predictive Analysis - Machine Learning Model"
      ],
      "metadata": {
        "id": "6e4bb286-03a3-43f1-88a6-4260ad81fa85"
      },
      "id": "6e4bb286-03a3-43f1-88a6-4260ad81fa85",
      "cell_type": "markdown"
    },
    {
      "source": [
        "For predictive model, we would be needing two ML models actually \n",
        "- First model (Classification) to predict probability of visits. \n",
        "- Second model (Regression) to predict amount of spending for campaign"
      ],
      "metadata": {
        "id": "467d3548-45a9-4171-bf9a-78f88866dc29"
      },
      "id": "467d3548-45a9-4171-bf9a-78f88866dc29",
      "cell_type": "markdown"
    },
    {
      "source": [
        "# Import libraries for data processing \n",
        "from sklearn.model_selection import train_test_split, GridSearchCV, RandomizedSearchCV\n",
        "# Import classification models \n",
        "from sklearn.linear_model import LogisticRegression\n",
        "from sklearn.neighbors import KNeighborsClassifier\n",
        "from sklearn.ensemble import RandomForestClassifier\n",
        "# Import regression models \n",
        "from sklearn.linear_model import LinearRegression, Ridge, Lasso\n",
        "from sklearn.ensemble import RandomForestRegressor\n",
        "# Import Evaluation metrics \n",
        "from sklearn.metrics import confusion_matrix, classification_report\n",
        "from sklearn.metrics import mean_squared_error, mean_absolute_error"
      ],
      "metadata": {
        "id": "2ed9844d-d658-43f1-af03-a65d74248375"
      },
      "id": "2ed9844d-d658-43f1-af03-a65d74248375",
      "cell_type": "code",
      "execution_count": null,
      "outputs": []
    },
    {
      "source": [
        "# split the data into training and testing sets \n",
        "np.random.seed(42)\n",
        "X = df_ml.drop(['visit', 'spend'], axis=1)\n",
        "y1 = df_ml['visit']\n",
        "y2 = df_ml['spend']\n",
        "x1_train, x1_test, y1_train, y1_test = train_test_split(X, y1, test_size=0.2, stratify=y1)\n",
        "x2_train, x2_test, y2_train, y2_test = train_test_split(X, y2, test_size=0.2)\n",
        "# create function for fit and score of ML models (classification)\n",
        "def fit_score_class(models, x_train, x_test, y_train, y_test):\n",
        "    for name, model in models.items() :\n",
        "        start = time.time()\n",
        "        print (f\"Fitting {name} model ....\")\n",
        "        model.fit(x_train, y_train)\n",
        "        end = time.time()\n",
        "        print (f\"{name} Model has took {(end-start):.2f} seconds to finish\")\n",
        "        print (f\"Classification Report for {name} Model \")\n",
        "        y_pred = model.predict(x_test)\n",
        "        print (classification_report(y_test, y_pred))\n",
        "        print ('--------------------------------------------')\n",
        "# Specify classification models and run ml function\n",
        "class_models = {\n",
        "    'Logistic_Regression':LogisticRegression(), \n",
        "    'KNeighbors':KNeighborsClassifier(),  \n",
        "    'Random_Forest':RandomForestClassifier()\n",
        "}\n",
        "fit_score_class(class_models, x1_train, x1_test, y1_train, y1_test)"
      ],
      "metadata": {
        "colab": {
          "base_uri": "https://localhost:8080/"
        },
        "id": "fc04b6b4-e07f-4c5b-a606-7670dacf9541",
        "outputId": "8af5e448-2492-4962-db30-e2a4338faa53"
      },
      "id": "fc04b6b4-e07f-4c5b-a606-7670dacf9541",
      "cell_type": "code",
      "execution_count": null,
      "outputs": [
        {
          "output_type": "stream",
          "name": "stdout",
          "text": [
            "Fitting Logistic_Regression model ....\n"
          ]
        },
        {
          "output_type": "stream",
          "name": "stderr",
          "text": [
            "/usr/local/lib/python3.7/dist-packages/sklearn/linear_model/_logistic.py:818: ConvergenceWarning: lbfgs failed to converge (status=1):\n",
            "STOP: TOTAL NO. of ITERATIONS REACHED LIMIT.\n",
            "\n",
            "Increase the number of iterations (max_iter) or scale the data as shown in:\n",
            "    https://scikit-learn.org/stable/modules/preprocessing.html\n",
            "Please also refer to the documentation for alternative solver options:\n",
            "    https://scikit-learn.org/stable/modules/linear_model.html#logistic-regression\n",
            "  extra_warning_msg=_LOGISTIC_SOLVER_CONVERGENCE_MSG,\n"
          ]
        },
        {
          "output_type": "stream",
          "name": "stdout",
          "text": [
            "Logistic_Regression Model has took 1.02 seconds to finish\n",
            "Classification Report for Logistic_Regression Model \n",
            "              precision    recall  f1-score   support\n",
            "\n",
            "           0       0.85      1.00      0.92     10921\n",
            "           1       1.00      0.00      0.00      1879\n",
            "\n",
            "    accuracy                           0.85     12800\n",
            "   macro avg       0.93      0.50      0.46     12800\n",
            "weighted avg       0.87      0.85      0.79     12800\n",
            "\n",
            "--------------------------------------------\n",
            "Fitting KNeighbors model ....\n",
            "KNeighbors Model has took 0.13 seconds to finish\n",
            "Classification Report for KNeighbors Model \n",
            "              precision    recall  f1-score   support\n",
            "\n",
            "           0       0.85      0.97      0.91     10921\n",
            "           1       0.19      0.04      0.07      1879\n",
            "\n",
            "    accuracy                           0.83     12800\n",
            "   macro avg       0.52      0.50      0.49     12800\n",
            "weighted avg       0.76      0.83      0.78     12800\n",
            "\n",
            "--------------------------------------------\n",
            "Fitting Random_Forest model ....\n",
            "Random_Forest Model has took 5.17 seconds to finish\n",
            "Classification Report for Random_Forest Model \n",
            "              precision    recall  f1-score   support\n",
            "\n",
            "           0       0.86      0.91      0.88     10921\n",
            "           1       0.18      0.12      0.14      1879\n",
            "\n",
            "    accuracy                           0.79     12800\n",
            "   macro avg       0.52      0.51      0.51     12800\n",
            "weighted avg       0.76      0.79      0.77     12800\n",
            "\n",
            "--------------------------------------------\n"
          ]
        }
      ]
    },
    {
      "source": [
        "#### From above main model of choice would be the Random Forest classifier. Model is chosen for the following : \n",
        "- For predicting potential customers, it's totally unacceptable to classify actual customers as not potential customers and hence losing market share. but we could afford marketing to actual non-potential customers as it has probability to reach a potential customer even by peer review. \n",
        "- From first point, we find that most valuable parameter for evaluating model is \"False Negative Rate\" as we need it as minimal as possible and since Recall = TP/TP+FN we are looking for highest \"Recall\" value for positive prediction. "
      ],
      "metadata": {
        "id": "28a8dc75-0c43-4b6e-9e7b-8cba17cf5dd8"
      },
      "id": "28a8dc75-0c43-4b6e-9e7b-8cba17cf5dd8",
      "cell_type": "markdown"
    },
    {
      "source": [
        "#### Now, let's work through hyper-parameter tuning "
      ],
      "metadata": {
        "id": "318ba347-4d9b-45eb-9758-0fc39d990dd3"
      },
      "id": "318ba347-4d9b-45eb-9758-0fc39d990dd3",
      "cell_type": "markdown"
    },
    {
      "source": [
        "# Tuning hyperparametrs for RandomForest model \n",
        "np.random.seed(42)\n",
        "rs_params = {\n",
        "    'n_estimators':np.arange(100,600,100),\n",
        "    'max_depth':np.arange(1,10),\n",
        "    'max_features':['sqrt','log2'],\n",
        "    'min_samples_split':np.arange(2,10)\n",
        "}\n",
        "model = RandomForestClassifier()\n",
        "rs_model = RandomizedSearchCV(model, param_distributions=rs_params, cv=5, n_iter=20, verbose=True, scoring='roc_auc')\n",
        "rs_model.fit(x1_train, y1_train)"
      ],
      "metadata": {
        "colab": {
          "base_uri": "https://localhost:8080/",
          "height": 363
        },
        "id": "4f791903-7039-4015-89fd-7a4a90838bc2",
        "outputId": "0815cebe-e56e-4aa9-e954-fc16b860483b"
      },
      "id": "4f791903-7039-4015-89fd-7a4a90838bc2",
      "cell_type": "code",
      "execution_count": null,
      "outputs": [
        {
          "output_type": "stream",
          "name": "stdout",
          "text": [
            "Fitting 5 folds for each of 20 candidates, totalling 100 fits\n"
          ]
        },
        {
          "output_type": "error",
          "ename": "KeyboardInterrupt",
          "evalue": "ignored",
          "traceback": [
            "\u001b[0;31m---------------------------------------------------------------------------\u001b[0m",
            "\u001b[0;31mKeyboardInterrupt\u001b[0m                         Traceback (most recent call last)",
            "\u001b[0;32m<ipython-input-19-fdab09323dff>\u001b[0m in \u001b[0;36m<module>\u001b[0;34m\u001b[0m\n\u001b[1;32m      9\u001b[0m \u001b[0mmodel\u001b[0m \u001b[0;34m=\u001b[0m \u001b[0mRandomForestClassifier\u001b[0m\u001b[0;34m(\u001b[0m\u001b[0;34m)\u001b[0m\u001b[0;34m\u001b[0m\u001b[0;34m\u001b[0m\u001b[0m\n\u001b[1;32m     10\u001b[0m \u001b[0mrs_model\u001b[0m \u001b[0;34m=\u001b[0m \u001b[0mRandomizedSearchCV\u001b[0m\u001b[0;34m(\u001b[0m\u001b[0mmodel\u001b[0m\u001b[0;34m,\u001b[0m \u001b[0mparam_distributions\u001b[0m\u001b[0;34m=\u001b[0m\u001b[0mrs_params\u001b[0m\u001b[0;34m,\u001b[0m \u001b[0mcv\u001b[0m\u001b[0;34m=\u001b[0m\u001b[0;36m5\u001b[0m\u001b[0;34m,\u001b[0m \u001b[0mn_iter\u001b[0m\u001b[0;34m=\u001b[0m\u001b[0;36m20\u001b[0m\u001b[0;34m,\u001b[0m \u001b[0mverbose\u001b[0m\u001b[0;34m=\u001b[0m\u001b[0;32mTrue\u001b[0m\u001b[0;34m,\u001b[0m \u001b[0mscoring\u001b[0m\u001b[0;34m=\u001b[0m\u001b[0;34m'roc_auc'\u001b[0m\u001b[0;34m)\u001b[0m\u001b[0;34m\u001b[0m\u001b[0;34m\u001b[0m\u001b[0m\n\u001b[0;32m---> 11\u001b[0;31m \u001b[0mrs_model\u001b[0m\u001b[0;34m.\u001b[0m\u001b[0mfit\u001b[0m\u001b[0;34m(\u001b[0m\u001b[0mx1_train\u001b[0m\u001b[0;34m,\u001b[0m \u001b[0my1_train\u001b[0m\u001b[0;34m)\u001b[0m\u001b[0;34m\u001b[0m\u001b[0;34m\u001b[0m\u001b[0m\n\u001b[0m",
            "\u001b[0;32m/usr/local/lib/python3.7/dist-packages/sklearn/model_selection/_search.py\u001b[0m in \u001b[0;36mfit\u001b[0;34m(self, X, y, groups, **fit_params)\u001b[0m\n\u001b[1;32m    889\u001b[0m                 \u001b[0;32mreturn\u001b[0m \u001b[0mresults\u001b[0m\u001b[0;34m\u001b[0m\u001b[0;34m\u001b[0m\u001b[0m\n\u001b[1;32m    890\u001b[0m \u001b[0;34m\u001b[0m\u001b[0m\n\u001b[0;32m--> 891\u001b[0;31m             \u001b[0mself\u001b[0m\u001b[0;34m.\u001b[0m\u001b[0m_run_search\u001b[0m\u001b[0;34m(\u001b[0m\u001b[0mevaluate_candidates\u001b[0m\u001b[0;34m)\u001b[0m\u001b[0;34m\u001b[0m\u001b[0;34m\u001b[0m\u001b[0m\n\u001b[0m\u001b[1;32m    892\u001b[0m \u001b[0;34m\u001b[0m\u001b[0m\n\u001b[1;32m    893\u001b[0m             \u001b[0;31m# multimetric is determined here because in the case of a callable\u001b[0m\u001b[0;34m\u001b[0m\u001b[0;34m\u001b[0m\u001b[0;34m\u001b[0m\u001b[0m\n",
            "\u001b[0;32m/usr/local/lib/python3.7/dist-packages/sklearn/model_selection/_search.py\u001b[0m in \u001b[0;36m_run_search\u001b[0;34m(self, evaluate_candidates)\u001b[0m\n\u001b[1;32m   1766\u001b[0m         evaluate_candidates(\n\u001b[1;32m   1767\u001b[0m             ParameterSampler(\n\u001b[0;32m-> 1768\u001b[0;31m                 \u001b[0mself\u001b[0m\u001b[0;34m.\u001b[0m\u001b[0mparam_distributions\u001b[0m\u001b[0;34m,\u001b[0m \u001b[0mself\u001b[0m\u001b[0;34m.\u001b[0m\u001b[0mn_iter\u001b[0m\u001b[0;34m,\u001b[0m \u001b[0mrandom_state\u001b[0m\u001b[0;34m=\u001b[0m\u001b[0mself\u001b[0m\u001b[0;34m.\u001b[0m\u001b[0mrandom_state\u001b[0m\u001b[0;34m\u001b[0m\u001b[0;34m\u001b[0m\u001b[0m\n\u001b[0m\u001b[1;32m   1769\u001b[0m             )\n\u001b[1;32m   1770\u001b[0m         )\n",
            "\u001b[0;32m/usr/local/lib/python3.7/dist-packages/sklearn/model_selection/_search.py\u001b[0m in \u001b[0;36mevaluate_candidates\u001b[0;34m(candidate_params, cv, more_results)\u001b[0m\n\u001b[1;32m    849\u001b[0m                     )\n\u001b[1;32m    850\u001b[0m                     for (cand_idx, parameters), (split_idx, (train, test)) in product(\n\u001b[0;32m--> 851\u001b[0;31m                         \u001b[0menumerate\u001b[0m\u001b[0;34m(\u001b[0m\u001b[0mcandidate_params\u001b[0m\u001b[0;34m)\u001b[0m\u001b[0;34m,\u001b[0m \u001b[0menumerate\u001b[0m\u001b[0;34m(\u001b[0m\u001b[0mcv\u001b[0m\u001b[0;34m.\u001b[0m\u001b[0msplit\u001b[0m\u001b[0;34m(\u001b[0m\u001b[0mX\u001b[0m\u001b[0;34m,\u001b[0m \u001b[0my\u001b[0m\u001b[0;34m,\u001b[0m \u001b[0mgroups\u001b[0m\u001b[0;34m)\u001b[0m\u001b[0;34m)\u001b[0m\u001b[0;34m\u001b[0m\u001b[0;34m\u001b[0m\u001b[0m\n\u001b[0m\u001b[1;32m    852\u001b[0m                     )\n\u001b[1;32m    853\u001b[0m                 )\n",
            "\u001b[0;32m/usr/local/lib/python3.7/dist-packages/joblib/parallel.py\u001b[0m in \u001b[0;36m__call__\u001b[0;34m(self, iterable)\u001b[0m\n\u001b[1;32m   1044\u001b[0m                 \u001b[0mself\u001b[0m\u001b[0;34m.\u001b[0m\u001b[0m_iterating\u001b[0m \u001b[0;34m=\u001b[0m \u001b[0mself\u001b[0m\u001b[0;34m.\u001b[0m\u001b[0m_original_iterator\u001b[0m \u001b[0;32mis\u001b[0m \u001b[0;32mnot\u001b[0m \u001b[0;32mNone\u001b[0m\u001b[0;34m\u001b[0m\u001b[0;34m\u001b[0m\u001b[0m\n\u001b[1;32m   1045\u001b[0m \u001b[0;34m\u001b[0m\u001b[0m\n\u001b[0;32m-> 1046\u001b[0;31m             \u001b[0;32mwhile\u001b[0m \u001b[0mself\u001b[0m\u001b[0;34m.\u001b[0m\u001b[0mdispatch_one_batch\u001b[0m\u001b[0;34m(\u001b[0m\u001b[0miterator\u001b[0m\u001b[0;34m)\u001b[0m\u001b[0;34m:\u001b[0m\u001b[0;34m\u001b[0m\u001b[0;34m\u001b[0m\u001b[0m\n\u001b[0m\u001b[1;32m   1047\u001b[0m                 \u001b[0;32mpass\u001b[0m\u001b[0;34m\u001b[0m\u001b[0;34m\u001b[0m\u001b[0m\n\u001b[1;32m   1048\u001b[0m \u001b[0;34m\u001b[0m\u001b[0m\n",
            "\u001b[0;32m/usr/local/lib/python3.7/dist-packages/joblib/parallel.py\u001b[0m in \u001b[0;36mdispatch_one_batch\u001b[0;34m(self, iterator)\u001b[0m\n\u001b[1;32m    859\u001b[0m                 \u001b[0;32mreturn\u001b[0m \u001b[0;32mFalse\u001b[0m\u001b[0;34m\u001b[0m\u001b[0;34m\u001b[0m\u001b[0m\n\u001b[1;32m    860\u001b[0m             \u001b[0;32melse\u001b[0m\u001b[0;34m:\u001b[0m\u001b[0;34m\u001b[0m\u001b[0;34m\u001b[0m\u001b[0m\n\u001b[0;32m--> 861\u001b[0;31m                 \u001b[0mself\u001b[0m\u001b[0;34m.\u001b[0m\u001b[0m_dispatch\u001b[0m\u001b[0;34m(\u001b[0m\u001b[0mtasks\u001b[0m\u001b[0;34m)\u001b[0m\u001b[0;34m\u001b[0m\u001b[0;34m\u001b[0m\u001b[0m\n\u001b[0m\u001b[1;32m    862\u001b[0m                 \u001b[0;32mreturn\u001b[0m \u001b[0;32mTrue\u001b[0m\u001b[0;34m\u001b[0m\u001b[0;34m\u001b[0m\u001b[0m\n\u001b[1;32m    863\u001b[0m \u001b[0;34m\u001b[0m\u001b[0m\n",
            "\u001b[0;32m/usr/local/lib/python3.7/dist-packages/joblib/parallel.py\u001b[0m in \u001b[0;36m_dispatch\u001b[0;34m(self, batch)\u001b[0m\n\u001b[1;32m    777\u001b[0m         \u001b[0;32mwith\u001b[0m \u001b[0mself\u001b[0m\u001b[0;34m.\u001b[0m\u001b[0m_lock\u001b[0m\u001b[0;34m:\u001b[0m\u001b[0;34m\u001b[0m\u001b[0;34m\u001b[0m\u001b[0m\n\u001b[1;32m    778\u001b[0m             \u001b[0mjob_idx\u001b[0m \u001b[0;34m=\u001b[0m \u001b[0mlen\u001b[0m\u001b[0;34m(\u001b[0m\u001b[0mself\u001b[0m\u001b[0;34m.\u001b[0m\u001b[0m_jobs\u001b[0m\u001b[0;34m)\u001b[0m\u001b[0;34m\u001b[0m\u001b[0;34m\u001b[0m\u001b[0m\n\u001b[0;32m--> 779\u001b[0;31m             \u001b[0mjob\u001b[0m \u001b[0;34m=\u001b[0m \u001b[0mself\u001b[0m\u001b[0;34m.\u001b[0m\u001b[0m_backend\u001b[0m\u001b[0;34m.\u001b[0m\u001b[0mapply_async\u001b[0m\u001b[0;34m(\u001b[0m\u001b[0mbatch\u001b[0m\u001b[0;34m,\u001b[0m \u001b[0mcallback\u001b[0m\u001b[0;34m=\u001b[0m\u001b[0mcb\u001b[0m\u001b[0;34m)\u001b[0m\u001b[0;34m\u001b[0m\u001b[0;34m\u001b[0m\u001b[0m\n\u001b[0m\u001b[1;32m    780\u001b[0m             \u001b[0;31m# A job can complete so quickly than its callback is\u001b[0m\u001b[0;34m\u001b[0m\u001b[0;34m\u001b[0m\u001b[0;34m\u001b[0m\u001b[0m\n\u001b[1;32m    781\u001b[0m             \u001b[0;31m# called before we get here, causing self._jobs to\u001b[0m\u001b[0;34m\u001b[0m\u001b[0;34m\u001b[0m\u001b[0;34m\u001b[0m\u001b[0m\n",
            "\u001b[0;32m/usr/local/lib/python3.7/dist-packages/joblib/_parallel_backends.py\u001b[0m in \u001b[0;36mapply_async\u001b[0;34m(self, func, callback)\u001b[0m\n\u001b[1;32m    206\u001b[0m     \u001b[0;32mdef\u001b[0m \u001b[0mapply_async\u001b[0m\u001b[0;34m(\u001b[0m\u001b[0mself\u001b[0m\u001b[0;34m,\u001b[0m \u001b[0mfunc\u001b[0m\u001b[0;34m,\u001b[0m \u001b[0mcallback\u001b[0m\u001b[0;34m=\u001b[0m\u001b[0;32mNone\u001b[0m\u001b[0;34m)\u001b[0m\u001b[0;34m:\u001b[0m\u001b[0;34m\u001b[0m\u001b[0;34m\u001b[0m\u001b[0m\n\u001b[1;32m    207\u001b[0m         \u001b[0;34m\"\"\"Schedule a func to be run\"\"\"\u001b[0m\u001b[0;34m\u001b[0m\u001b[0;34m\u001b[0m\u001b[0m\n\u001b[0;32m--> 208\u001b[0;31m         \u001b[0mresult\u001b[0m \u001b[0;34m=\u001b[0m \u001b[0mImmediateResult\u001b[0m\u001b[0;34m(\u001b[0m\u001b[0mfunc\u001b[0m\u001b[0;34m)\u001b[0m\u001b[0;34m\u001b[0m\u001b[0;34m\u001b[0m\u001b[0m\n\u001b[0m\u001b[1;32m    209\u001b[0m         \u001b[0;32mif\u001b[0m \u001b[0mcallback\u001b[0m\u001b[0;34m:\u001b[0m\u001b[0;34m\u001b[0m\u001b[0;34m\u001b[0m\u001b[0m\n\u001b[1;32m    210\u001b[0m             \u001b[0mcallback\u001b[0m\u001b[0;34m(\u001b[0m\u001b[0mresult\u001b[0m\u001b[0;34m)\u001b[0m\u001b[0;34m\u001b[0m\u001b[0;34m\u001b[0m\u001b[0m\n",
            "\u001b[0;32m/usr/local/lib/python3.7/dist-packages/joblib/_parallel_backends.py\u001b[0m in \u001b[0;36m__init__\u001b[0;34m(self, batch)\u001b[0m\n\u001b[1;32m    570\u001b[0m         \u001b[0;31m# Don't delay the application, to avoid keeping the input\u001b[0m\u001b[0;34m\u001b[0m\u001b[0;34m\u001b[0m\u001b[0;34m\u001b[0m\u001b[0m\n\u001b[1;32m    571\u001b[0m         \u001b[0;31m# arguments in memory\u001b[0m\u001b[0;34m\u001b[0m\u001b[0;34m\u001b[0m\u001b[0;34m\u001b[0m\u001b[0m\n\u001b[0;32m--> 572\u001b[0;31m         \u001b[0mself\u001b[0m\u001b[0;34m.\u001b[0m\u001b[0mresults\u001b[0m \u001b[0;34m=\u001b[0m \u001b[0mbatch\u001b[0m\u001b[0;34m(\u001b[0m\u001b[0;34m)\u001b[0m\u001b[0;34m\u001b[0m\u001b[0;34m\u001b[0m\u001b[0m\n\u001b[0m\u001b[1;32m    573\u001b[0m \u001b[0;34m\u001b[0m\u001b[0m\n\u001b[1;32m    574\u001b[0m     \u001b[0;32mdef\u001b[0m \u001b[0mget\u001b[0m\u001b[0;34m(\u001b[0m\u001b[0mself\u001b[0m\u001b[0;34m)\u001b[0m\u001b[0;34m:\u001b[0m\u001b[0;34m\u001b[0m\u001b[0;34m\u001b[0m\u001b[0m\n",
            "\u001b[0;32m/usr/local/lib/python3.7/dist-packages/joblib/parallel.py\u001b[0m in \u001b[0;36m__call__\u001b[0;34m(self)\u001b[0m\n\u001b[1;32m    261\u001b[0m         \u001b[0;32mwith\u001b[0m \u001b[0mparallel_backend\u001b[0m\u001b[0;34m(\u001b[0m\u001b[0mself\u001b[0m\u001b[0;34m.\u001b[0m\u001b[0m_backend\u001b[0m\u001b[0;34m,\u001b[0m \u001b[0mn_jobs\u001b[0m\u001b[0;34m=\u001b[0m\u001b[0mself\u001b[0m\u001b[0;34m.\u001b[0m\u001b[0m_n_jobs\u001b[0m\u001b[0;34m)\u001b[0m\u001b[0;34m:\u001b[0m\u001b[0;34m\u001b[0m\u001b[0;34m\u001b[0m\u001b[0m\n\u001b[1;32m    262\u001b[0m             return [func(*args, **kwargs)\n\u001b[0;32m--> 263\u001b[0;31m                     for func, args, kwargs in self.items]\n\u001b[0m\u001b[1;32m    264\u001b[0m \u001b[0;34m\u001b[0m\u001b[0m\n\u001b[1;32m    265\u001b[0m     \u001b[0;32mdef\u001b[0m \u001b[0m__reduce__\u001b[0m\u001b[0;34m(\u001b[0m\u001b[0mself\u001b[0m\u001b[0;34m)\u001b[0m\u001b[0;34m:\u001b[0m\u001b[0;34m\u001b[0m\u001b[0;34m\u001b[0m\u001b[0m\n",
            "\u001b[0;32m/usr/local/lib/python3.7/dist-packages/joblib/parallel.py\u001b[0m in \u001b[0;36m<listcomp>\u001b[0;34m(.0)\u001b[0m\n\u001b[1;32m    261\u001b[0m         \u001b[0;32mwith\u001b[0m \u001b[0mparallel_backend\u001b[0m\u001b[0;34m(\u001b[0m\u001b[0mself\u001b[0m\u001b[0;34m.\u001b[0m\u001b[0m_backend\u001b[0m\u001b[0;34m,\u001b[0m \u001b[0mn_jobs\u001b[0m\u001b[0;34m=\u001b[0m\u001b[0mself\u001b[0m\u001b[0;34m.\u001b[0m\u001b[0m_n_jobs\u001b[0m\u001b[0;34m)\u001b[0m\u001b[0;34m:\u001b[0m\u001b[0;34m\u001b[0m\u001b[0;34m\u001b[0m\u001b[0m\n\u001b[1;32m    262\u001b[0m             return [func(*args, **kwargs)\n\u001b[0;32m--> 263\u001b[0;31m                     for func, args, kwargs in self.items]\n\u001b[0m\u001b[1;32m    264\u001b[0m \u001b[0;34m\u001b[0m\u001b[0m\n\u001b[1;32m    265\u001b[0m     \u001b[0;32mdef\u001b[0m \u001b[0m__reduce__\u001b[0m\u001b[0;34m(\u001b[0m\u001b[0mself\u001b[0m\u001b[0;34m)\u001b[0m\u001b[0;34m:\u001b[0m\u001b[0;34m\u001b[0m\u001b[0;34m\u001b[0m\u001b[0m\n",
            "\u001b[0;32m/usr/local/lib/python3.7/dist-packages/sklearn/utils/fixes.py\u001b[0m in \u001b[0;36m__call__\u001b[0;34m(self, *args, **kwargs)\u001b[0m\n\u001b[1;32m    214\u001b[0m     \u001b[0;32mdef\u001b[0m \u001b[0m__call__\u001b[0m\u001b[0;34m(\u001b[0m\u001b[0mself\u001b[0m\u001b[0;34m,\u001b[0m \u001b[0;34m*\u001b[0m\u001b[0margs\u001b[0m\u001b[0;34m,\u001b[0m \u001b[0;34m**\u001b[0m\u001b[0mkwargs\u001b[0m\u001b[0;34m)\u001b[0m\u001b[0;34m:\u001b[0m\u001b[0;34m\u001b[0m\u001b[0;34m\u001b[0m\u001b[0m\n\u001b[1;32m    215\u001b[0m         \u001b[0;32mwith\u001b[0m \u001b[0mconfig_context\u001b[0m\u001b[0;34m(\u001b[0m\u001b[0;34m**\u001b[0m\u001b[0mself\u001b[0m\u001b[0;34m.\u001b[0m\u001b[0mconfig\u001b[0m\u001b[0;34m)\u001b[0m\u001b[0;34m:\u001b[0m\u001b[0;34m\u001b[0m\u001b[0;34m\u001b[0m\u001b[0m\n\u001b[0;32m--> 216\u001b[0;31m             \u001b[0;32mreturn\u001b[0m \u001b[0mself\u001b[0m\u001b[0;34m.\u001b[0m\u001b[0mfunction\u001b[0m\u001b[0;34m(\u001b[0m\u001b[0;34m*\u001b[0m\u001b[0margs\u001b[0m\u001b[0;34m,\u001b[0m \u001b[0;34m**\u001b[0m\u001b[0mkwargs\u001b[0m\u001b[0;34m)\u001b[0m\u001b[0;34m\u001b[0m\u001b[0;34m\u001b[0m\u001b[0m\n\u001b[0m\u001b[1;32m    217\u001b[0m \u001b[0;34m\u001b[0m\u001b[0m\n\u001b[1;32m    218\u001b[0m \u001b[0;34m\u001b[0m\u001b[0m\n",
            "\u001b[0;32m/usr/local/lib/python3.7/dist-packages/sklearn/model_selection/_validation.py\u001b[0m in \u001b[0;36m_fit_and_score\u001b[0;34m(estimator, X, y, scorer, train, test, verbose, parameters, fit_params, return_train_score, return_parameters, return_n_test_samples, return_times, return_estimator, split_progress, candidate_progress, error_score)\u001b[0m\n\u001b[1;32m    678\u001b[0m             \u001b[0mestimator\u001b[0m\u001b[0;34m.\u001b[0m\u001b[0mfit\u001b[0m\u001b[0;34m(\u001b[0m\u001b[0mX_train\u001b[0m\u001b[0;34m,\u001b[0m \u001b[0;34m**\u001b[0m\u001b[0mfit_params\u001b[0m\u001b[0;34m)\u001b[0m\u001b[0;34m\u001b[0m\u001b[0;34m\u001b[0m\u001b[0m\n\u001b[1;32m    679\u001b[0m         \u001b[0;32melse\u001b[0m\u001b[0;34m:\u001b[0m\u001b[0;34m\u001b[0m\u001b[0;34m\u001b[0m\u001b[0m\n\u001b[0;32m--> 680\u001b[0;31m             \u001b[0mestimator\u001b[0m\u001b[0;34m.\u001b[0m\u001b[0mfit\u001b[0m\u001b[0;34m(\u001b[0m\u001b[0mX_train\u001b[0m\u001b[0;34m,\u001b[0m \u001b[0my_train\u001b[0m\u001b[0;34m,\u001b[0m \u001b[0;34m**\u001b[0m\u001b[0mfit_params\u001b[0m\u001b[0;34m)\u001b[0m\u001b[0;34m\u001b[0m\u001b[0;34m\u001b[0m\u001b[0m\n\u001b[0m\u001b[1;32m    681\u001b[0m \u001b[0;34m\u001b[0m\u001b[0m\n\u001b[1;32m    682\u001b[0m     \u001b[0;32mexcept\u001b[0m \u001b[0mException\u001b[0m\u001b[0;34m:\u001b[0m\u001b[0;34m\u001b[0m\u001b[0;34m\u001b[0m\u001b[0m\n",
            "\u001b[0;32m/usr/local/lib/python3.7/dist-packages/sklearn/ensemble/_forest.py\u001b[0m in \u001b[0;36mfit\u001b[0;34m(self, X, y, sample_weight)\u001b[0m\n\u001b[1;32m    465\u001b[0m                     \u001b[0mn_samples_bootstrap\u001b[0m\u001b[0;34m=\u001b[0m\u001b[0mn_samples_bootstrap\u001b[0m\u001b[0;34m,\u001b[0m\u001b[0;34m\u001b[0m\u001b[0;34m\u001b[0m\u001b[0m\n\u001b[1;32m    466\u001b[0m                 )\n\u001b[0;32m--> 467\u001b[0;31m                 \u001b[0;32mfor\u001b[0m \u001b[0mi\u001b[0m\u001b[0;34m,\u001b[0m \u001b[0mt\u001b[0m \u001b[0;32min\u001b[0m \u001b[0menumerate\u001b[0m\u001b[0;34m(\u001b[0m\u001b[0mtrees\u001b[0m\u001b[0;34m)\u001b[0m\u001b[0;34m\u001b[0m\u001b[0;34m\u001b[0m\u001b[0m\n\u001b[0m\u001b[1;32m    468\u001b[0m             )\n\u001b[1;32m    469\u001b[0m \u001b[0;34m\u001b[0m\u001b[0m\n",
            "\u001b[0;32m/usr/local/lib/python3.7/dist-packages/joblib/parallel.py\u001b[0m in \u001b[0;36m__call__\u001b[0;34m(self, iterable)\u001b[0m\n\u001b[1;32m   1044\u001b[0m                 \u001b[0mself\u001b[0m\u001b[0;34m.\u001b[0m\u001b[0m_iterating\u001b[0m \u001b[0;34m=\u001b[0m \u001b[0mself\u001b[0m\u001b[0;34m.\u001b[0m\u001b[0m_original_iterator\u001b[0m \u001b[0;32mis\u001b[0m \u001b[0;32mnot\u001b[0m \u001b[0;32mNone\u001b[0m\u001b[0;34m\u001b[0m\u001b[0;34m\u001b[0m\u001b[0m\n\u001b[1;32m   1045\u001b[0m \u001b[0;34m\u001b[0m\u001b[0m\n\u001b[0;32m-> 1046\u001b[0;31m             \u001b[0;32mwhile\u001b[0m \u001b[0mself\u001b[0m\u001b[0;34m.\u001b[0m\u001b[0mdispatch_one_batch\u001b[0m\u001b[0;34m(\u001b[0m\u001b[0miterator\u001b[0m\u001b[0;34m)\u001b[0m\u001b[0;34m:\u001b[0m\u001b[0;34m\u001b[0m\u001b[0;34m\u001b[0m\u001b[0m\n\u001b[0m\u001b[1;32m   1047\u001b[0m                 \u001b[0;32mpass\u001b[0m\u001b[0;34m\u001b[0m\u001b[0;34m\u001b[0m\u001b[0m\n\u001b[1;32m   1048\u001b[0m \u001b[0;34m\u001b[0m\u001b[0m\n",
            "\u001b[0;32m/usr/local/lib/python3.7/dist-packages/joblib/parallel.py\u001b[0m in \u001b[0;36mdispatch_one_batch\u001b[0;34m(self, iterator)\u001b[0m\n\u001b[1;32m    859\u001b[0m                 \u001b[0;32mreturn\u001b[0m \u001b[0;32mFalse\u001b[0m\u001b[0;34m\u001b[0m\u001b[0;34m\u001b[0m\u001b[0m\n\u001b[1;32m    860\u001b[0m             \u001b[0;32melse\u001b[0m\u001b[0;34m:\u001b[0m\u001b[0;34m\u001b[0m\u001b[0;34m\u001b[0m\u001b[0m\n\u001b[0;32m--> 861\u001b[0;31m                 \u001b[0mself\u001b[0m\u001b[0;34m.\u001b[0m\u001b[0m_dispatch\u001b[0m\u001b[0;34m(\u001b[0m\u001b[0mtasks\u001b[0m\u001b[0;34m)\u001b[0m\u001b[0;34m\u001b[0m\u001b[0;34m\u001b[0m\u001b[0m\n\u001b[0m\u001b[1;32m    862\u001b[0m                 \u001b[0;32mreturn\u001b[0m \u001b[0;32mTrue\u001b[0m\u001b[0;34m\u001b[0m\u001b[0;34m\u001b[0m\u001b[0m\n\u001b[1;32m    863\u001b[0m \u001b[0;34m\u001b[0m\u001b[0m\n",
            "\u001b[0;32m/usr/local/lib/python3.7/dist-packages/joblib/parallel.py\u001b[0m in \u001b[0;36m_dispatch\u001b[0;34m(self, batch)\u001b[0m\n\u001b[1;32m    777\u001b[0m         \u001b[0;32mwith\u001b[0m \u001b[0mself\u001b[0m\u001b[0;34m.\u001b[0m\u001b[0m_lock\u001b[0m\u001b[0;34m:\u001b[0m\u001b[0;34m\u001b[0m\u001b[0;34m\u001b[0m\u001b[0m\n\u001b[1;32m    778\u001b[0m             \u001b[0mjob_idx\u001b[0m \u001b[0;34m=\u001b[0m \u001b[0mlen\u001b[0m\u001b[0;34m(\u001b[0m\u001b[0mself\u001b[0m\u001b[0;34m.\u001b[0m\u001b[0m_jobs\u001b[0m\u001b[0;34m)\u001b[0m\u001b[0;34m\u001b[0m\u001b[0;34m\u001b[0m\u001b[0m\n\u001b[0;32m--> 779\u001b[0;31m             \u001b[0mjob\u001b[0m \u001b[0;34m=\u001b[0m \u001b[0mself\u001b[0m\u001b[0;34m.\u001b[0m\u001b[0m_backend\u001b[0m\u001b[0;34m.\u001b[0m\u001b[0mapply_async\u001b[0m\u001b[0;34m(\u001b[0m\u001b[0mbatch\u001b[0m\u001b[0;34m,\u001b[0m \u001b[0mcallback\u001b[0m\u001b[0;34m=\u001b[0m\u001b[0mcb\u001b[0m\u001b[0;34m)\u001b[0m\u001b[0;34m\u001b[0m\u001b[0;34m\u001b[0m\u001b[0m\n\u001b[0m\u001b[1;32m    780\u001b[0m             \u001b[0;31m# A job can complete so quickly than its callback is\u001b[0m\u001b[0;34m\u001b[0m\u001b[0;34m\u001b[0m\u001b[0;34m\u001b[0m\u001b[0m\n\u001b[1;32m    781\u001b[0m             \u001b[0;31m# called before we get here, causing self._jobs to\u001b[0m\u001b[0;34m\u001b[0m\u001b[0;34m\u001b[0m\u001b[0;34m\u001b[0m\u001b[0m\n",
            "\u001b[0;32m/usr/local/lib/python3.7/dist-packages/joblib/_parallel_backends.py\u001b[0m in \u001b[0;36mapply_async\u001b[0;34m(self, func, callback)\u001b[0m\n\u001b[1;32m    206\u001b[0m     \u001b[0;32mdef\u001b[0m \u001b[0mapply_async\u001b[0m\u001b[0;34m(\u001b[0m\u001b[0mself\u001b[0m\u001b[0;34m,\u001b[0m \u001b[0mfunc\u001b[0m\u001b[0;34m,\u001b[0m \u001b[0mcallback\u001b[0m\u001b[0;34m=\u001b[0m\u001b[0;32mNone\u001b[0m\u001b[0;34m)\u001b[0m\u001b[0;34m:\u001b[0m\u001b[0;34m\u001b[0m\u001b[0;34m\u001b[0m\u001b[0m\n\u001b[1;32m    207\u001b[0m         \u001b[0;34m\"\"\"Schedule a func to be run\"\"\"\u001b[0m\u001b[0;34m\u001b[0m\u001b[0;34m\u001b[0m\u001b[0m\n\u001b[0;32m--> 208\u001b[0;31m         \u001b[0mresult\u001b[0m \u001b[0;34m=\u001b[0m \u001b[0mImmediateResult\u001b[0m\u001b[0;34m(\u001b[0m\u001b[0mfunc\u001b[0m\u001b[0;34m)\u001b[0m\u001b[0;34m\u001b[0m\u001b[0;34m\u001b[0m\u001b[0m\n\u001b[0m\u001b[1;32m    209\u001b[0m         \u001b[0;32mif\u001b[0m \u001b[0mcallback\u001b[0m\u001b[0;34m:\u001b[0m\u001b[0;34m\u001b[0m\u001b[0;34m\u001b[0m\u001b[0m\n\u001b[1;32m    210\u001b[0m             \u001b[0mcallback\u001b[0m\u001b[0;34m(\u001b[0m\u001b[0mresult\u001b[0m\u001b[0;34m)\u001b[0m\u001b[0;34m\u001b[0m\u001b[0;34m\u001b[0m\u001b[0m\n",
            "\u001b[0;32m/usr/local/lib/python3.7/dist-packages/joblib/_parallel_backends.py\u001b[0m in \u001b[0;36m__init__\u001b[0;34m(self, batch)\u001b[0m\n\u001b[1;32m    570\u001b[0m         \u001b[0;31m# Don't delay the application, to avoid keeping the input\u001b[0m\u001b[0;34m\u001b[0m\u001b[0;34m\u001b[0m\u001b[0;34m\u001b[0m\u001b[0m\n\u001b[1;32m    571\u001b[0m         \u001b[0;31m# arguments in memory\u001b[0m\u001b[0;34m\u001b[0m\u001b[0;34m\u001b[0m\u001b[0;34m\u001b[0m\u001b[0m\n\u001b[0;32m--> 572\u001b[0;31m         \u001b[0mself\u001b[0m\u001b[0;34m.\u001b[0m\u001b[0mresults\u001b[0m \u001b[0;34m=\u001b[0m \u001b[0mbatch\u001b[0m\u001b[0;34m(\u001b[0m\u001b[0;34m)\u001b[0m\u001b[0;34m\u001b[0m\u001b[0;34m\u001b[0m\u001b[0m\n\u001b[0m\u001b[1;32m    573\u001b[0m \u001b[0;34m\u001b[0m\u001b[0m\n\u001b[1;32m    574\u001b[0m     \u001b[0;32mdef\u001b[0m \u001b[0mget\u001b[0m\u001b[0;34m(\u001b[0m\u001b[0mself\u001b[0m\u001b[0;34m)\u001b[0m\u001b[0;34m:\u001b[0m\u001b[0;34m\u001b[0m\u001b[0;34m\u001b[0m\u001b[0m\n",
            "\u001b[0;32m/usr/local/lib/python3.7/dist-packages/joblib/parallel.py\u001b[0m in \u001b[0;36m__call__\u001b[0;34m(self)\u001b[0m\n\u001b[1;32m    261\u001b[0m         \u001b[0;32mwith\u001b[0m \u001b[0mparallel_backend\u001b[0m\u001b[0;34m(\u001b[0m\u001b[0mself\u001b[0m\u001b[0;34m.\u001b[0m\u001b[0m_backend\u001b[0m\u001b[0;34m,\u001b[0m \u001b[0mn_jobs\u001b[0m\u001b[0;34m=\u001b[0m\u001b[0mself\u001b[0m\u001b[0;34m.\u001b[0m\u001b[0m_n_jobs\u001b[0m\u001b[0;34m)\u001b[0m\u001b[0;34m:\u001b[0m\u001b[0;34m\u001b[0m\u001b[0;34m\u001b[0m\u001b[0m\n\u001b[1;32m    262\u001b[0m             return [func(*args, **kwargs)\n\u001b[0;32m--> 263\u001b[0;31m                     for func, args, kwargs in self.items]\n\u001b[0m\u001b[1;32m    264\u001b[0m \u001b[0;34m\u001b[0m\u001b[0m\n\u001b[1;32m    265\u001b[0m     \u001b[0;32mdef\u001b[0m \u001b[0m__reduce__\u001b[0m\u001b[0;34m(\u001b[0m\u001b[0mself\u001b[0m\u001b[0;34m)\u001b[0m\u001b[0;34m:\u001b[0m\u001b[0;34m\u001b[0m\u001b[0;34m\u001b[0m\u001b[0m\n",
            "\u001b[0;32m/usr/local/lib/python3.7/dist-packages/joblib/parallel.py\u001b[0m in \u001b[0;36m<listcomp>\u001b[0;34m(.0)\u001b[0m\n\u001b[1;32m    261\u001b[0m         \u001b[0;32mwith\u001b[0m \u001b[0mparallel_backend\u001b[0m\u001b[0;34m(\u001b[0m\u001b[0mself\u001b[0m\u001b[0;34m.\u001b[0m\u001b[0m_backend\u001b[0m\u001b[0;34m,\u001b[0m \u001b[0mn_jobs\u001b[0m\u001b[0;34m=\u001b[0m\u001b[0mself\u001b[0m\u001b[0;34m.\u001b[0m\u001b[0m_n_jobs\u001b[0m\u001b[0;34m)\u001b[0m\u001b[0;34m:\u001b[0m\u001b[0;34m\u001b[0m\u001b[0;34m\u001b[0m\u001b[0m\n\u001b[1;32m    262\u001b[0m             return [func(*args, **kwargs)\n\u001b[0;32m--> 263\u001b[0;31m                     for func, args, kwargs in self.items]\n\u001b[0m\u001b[1;32m    264\u001b[0m \u001b[0;34m\u001b[0m\u001b[0m\n\u001b[1;32m    265\u001b[0m     \u001b[0;32mdef\u001b[0m \u001b[0m__reduce__\u001b[0m\u001b[0;34m(\u001b[0m\u001b[0mself\u001b[0m\u001b[0;34m)\u001b[0m\u001b[0;34m:\u001b[0m\u001b[0;34m\u001b[0m\u001b[0;34m\u001b[0m\u001b[0m\n",
            "\u001b[0;32m/usr/local/lib/python3.7/dist-packages/sklearn/utils/fixes.py\u001b[0m in \u001b[0;36m__call__\u001b[0;34m(self, *args, **kwargs)\u001b[0m\n\u001b[1;32m    214\u001b[0m     \u001b[0;32mdef\u001b[0m \u001b[0m__call__\u001b[0m\u001b[0;34m(\u001b[0m\u001b[0mself\u001b[0m\u001b[0;34m,\u001b[0m \u001b[0;34m*\u001b[0m\u001b[0margs\u001b[0m\u001b[0;34m,\u001b[0m \u001b[0;34m**\u001b[0m\u001b[0mkwargs\u001b[0m\u001b[0;34m)\u001b[0m\u001b[0;34m:\u001b[0m\u001b[0;34m\u001b[0m\u001b[0;34m\u001b[0m\u001b[0m\n\u001b[1;32m    215\u001b[0m         \u001b[0;32mwith\u001b[0m \u001b[0mconfig_context\u001b[0m\u001b[0;34m(\u001b[0m\u001b[0;34m**\u001b[0m\u001b[0mself\u001b[0m\u001b[0;34m.\u001b[0m\u001b[0mconfig\u001b[0m\u001b[0;34m)\u001b[0m\u001b[0;34m:\u001b[0m\u001b[0;34m\u001b[0m\u001b[0;34m\u001b[0m\u001b[0m\n\u001b[0;32m--> 216\u001b[0;31m             \u001b[0;32mreturn\u001b[0m \u001b[0mself\u001b[0m\u001b[0;34m.\u001b[0m\u001b[0mfunction\u001b[0m\u001b[0;34m(\u001b[0m\u001b[0;34m*\u001b[0m\u001b[0margs\u001b[0m\u001b[0;34m,\u001b[0m \u001b[0;34m**\u001b[0m\u001b[0mkwargs\u001b[0m\u001b[0;34m)\u001b[0m\u001b[0;34m\u001b[0m\u001b[0;34m\u001b[0m\u001b[0m\n\u001b[0m\u001b[1;32m    217\u001b[0m \u001b[0;34m\u001b[0m\u001b[0m\n\u001b[1;32m    218\u001b[0m \u001b[0;34m\u001b[0m\u001b[0m\n",
            "\u001b[0;32m/usr/local/lib/python3.7/dist-packages/sklearn/ensemble/_forest.py\u001b[0m in \u001b[0;36m_parallel_build_trees\u001b[0;34m(tree, forest, X, y, sample_weight, tree_idx, n_trees, verbose, class_weight, n_samples_bootstrap)\u001b[0m\n\u001b[1;32m    183\u001b[0m             \u001b[0mcurr_sample_weight\u001b[0m \u001b[0;34m*=\u001b[0m \u001b[0mcompute_sample_weight\u001b[0m\u001b[0;34m(\u001b[0m\u001b[0;34m\"balanced\"\u001b[0m\u001b[0;34m,\u001b[0m \u001b[0my\u001b[0m\u001b[0;34m,\u001b[0m \u001b[0mindices\u001b[0m\u001b[0;34m=\u001b[0m\u001b[0mindices\u001b[0m\u001b[0;34m)\u001b[0m\u001b[0;34m\u001b[0m\u001b[0;34m\u001b[0m\u001b[0m\n\u001b[1;32m    184\u001b[0m \u001b[0;34m\u001b[0m\u001b[0m\n\u001b[0;32m--> 185\u001b[0;31m         \u001b[0mtree\u001b[0m\u001b[0;34m.\u001b[0m\u001b[0mfit\u001b[0m\u001b[0;34m(\u001b[0m\u001b[0mX\u001b[0m\u001b[0;34m,\u001b[0m \u001b[0my\u001b[0m\u001b[0;34m,\u001b[0m \u001b[0msample_weight\u001b[0m\u001b[0;34m=\u001b[0m\u001b[0mcurr_sample_weight\u001b[0m\u001b[0;34m,\u001b[0m \u001b[0mcheck_input\u001b[0m\u001b[0;34m=\u001b[0m\u001b[0;32mFalse\u001b[0m\u001b[0;34m)\u001b[0m\u001b[0;34m\u001b[0m\u001b[0;34m\u001b[0m\u001b[0m\n\u001b[0m\u001b[1;32m    186\u001b[0m     \u001b[0;32melse\u001b[0m\u001b[0;34m:\u001b[0m\u001b[0;34m\u001b[0m\u001b[0;34m\u001b[0m\u001b[0m\n\u001b[1;32m    187\u001b[0m         \u001b[0mtree\u001b[0m\u001b[0;34m.\u001b[0m\u001b[0mfit\u001b[0m\u001b[0;34m(\u001b[0m\u001b[0mX\u001b[0m\u001b[0;34m,\u001b[0m \u001b[0my\u001b[0m\u001b[0;34m,\u001b[0m \u001b[0msample_weight\u001b[0m\u001b[0;34m=\u001b[0m\u001b[0msample_weight\u001b[0m\u001b[0;34m,\u001b[0m \u001b[0mcheck_input\u001b[0m\u001b[0;34m=\u001b[0m\u001b[0;32mFalse\u001b[0m\u001b[0;34m)\u001b[0m\u001b[0;34m\u001b[0m\u001b[0;34m\u001b[0m\u001b[0m\n",
            "\u001b[0;32m/usr/local/lib/python3.7/dist-packages/sklearn/tree/_classes.py\u001b[0m in \u001b[0;36mfit\u001b[0;34m(self, X, y, sample_weight, check_input, X_idx_sorted)\u001b[0m\n\u001b[1;32m    940\u001b[0m             \u001b[0msample_weight\u001b[0m\u001b[0;34m=\u001b[0m\u001b[0msample_weight\u001b[0m\u001b[0;34m,\u001b[0m\u001b[0;34m\u001b[0m\u001b[0;34m\u001b[0m\u001b[0m\n\u001b[1;32m    941\u001b[0m             \u001b[0mcheck_input\u001b[0m\u001b[0;34m=\u001b[0m\u001b[0mcheck_input\u001b[0m\u001b[0;34m,\u001b[0m\u001b[0;34m\u001b[0m\u001b[0;34m\u001b[0m\u001b[0m\n\u001b[0;32m--> 942\u001b[0;31m             \u001b[0mX_idx_sorted\u001b[0m\u001b[0;34m=\u001b[0m\u001b[0mX_idx_sorted\u001b[0m\u001b[0;34m,\u001b[0m\u001b[0;34m\u001b[0m\u001b[0;34m\u001b[0m\u001b[0m\n\u001b[0m\u001b[1;32m    943\u001b[0m         )\n\u001b[1;32m    944\u001b[0m         \u001b[0;32mreturn\u001b[0m \u001b[0mself\u001b[0m\u001b[0;34m\u001b[0m\u001b[0;34m\u001b[0m\u001b[0m\n",
            "\u001b[0;32m/usr/local/lib/python3.7/dist-packages/sklearn/tree/_classes.py\u001b[0m in \u001b[0;36mfit\u001b[0;34m(self, X, y, sample_weight, check_input, X_idx_sorted)\u001b[0m\n\u001b[1;32m    418\u001b[0m             )\n\u001b[1;32m    419\u001b[0m \u001b[0;34m\u001b[0m\u001b[0m\n\u001b[0;32m--> 420\u001b[0;31m         \u001b[0mbuilder\u001b[0m\u001b[0;34m.\u001b[0m\u001b[0mbuild\u001b[0m\u001b[0;34m(\u001b[0m\u001b[0mself\u001b[0m\u001b[0;34m.\u001b[0m\u001b[0mtree_\u001b[0m\u001b[0;34m,\u001b[0m \u001b[0mX\u001b[0m\u001b[0;34m,\u001b[0m \u001b[0my\u001b[0m\u001b[0;34m,\u001b[0m \u001b[0msample_weight\u001b[0m\u001b[0;34m)\u001b[0m\u001b[0;34m\u001b[0m\u001b[0;34m\u001b[0m\u001b[0m\n\u001b[0m\u001b[1;32m    421\u001b[0m \u001b[0;34m\u001b[0m\u001b[0m\n\u001b[1;32m    422\u001b[0m         \u001b[0;32mif\u001b[0m \u001b[0mself\u001b[0m\u001b[0;34m.\u001b[0m\u001b[0mn_outputs_\u001b[0m \u001b[0;34m==\u001b[0m \u001b[0;36m1\u001b[0m \u001b[0;32mand\u001b[0m \u001b[0mis_classifier\u001b[0m\u001b[0;34m(\u001b[0m\u001b[0mself\u001b[0m\u001b[0;34m)\u001b[0m\u001b[0;34m:\u001b[0m\u001b[0;34m\u001b[0m\u001b[0;34m\u001b[0m\u001b[0m\n",
            "\u001b[0;31mKeyboardInterrupt\u001b[0m: "
          ]
        }
      ]
    },
    {
      "source": [
        "best_model = rs_model.best_estimator_\n",
        "best_model.fit(x1_train, y1_train)\n",
        "y_pred = best_model.predict(x1_test)\n",
        "print (classification_report(y1_test, y_pred))"
      ],
      "metadata": {
        "id": "25bfc177-0a95-40c1-bea9-79556b03907a"
      },
      "id": "25bfc177-0a95-40c1-bea9-79556b03907a",
      "cell_type": "code",
      "execution_count": null,
      "outputs": []
    },
    {
      "source": [
        "#### It seems that tuning random forest isn't giving the best needed result so I'll have to go along with normal Random Forest"
      ],
      "metadata": {
        "id": "9ea505f1-53c6-49c9-a5d5-31abd4a2f736"
      },
      "id": "9ea505f1-53c6-49c9-a5d5-31abd4a2f736",
      "cell_type": "markdown"
    },
    {
      "source": [
        "model = RandomForestClassifier()\n",
        "model.fit(x1_train, y1_train)\n",
        "y_pred = model.predict(x1_test)\n",
        "print (classification_report(y1_test, y_pred))"
      ],
      "metadata": {
        "colab": {
          "base_uri": "https://localhost:8080/"
        },
        "id": "8d8944b3-246d-42e8-975d-820689a87747",
        "outputId": "af0fdc9b-0dfb-422c-8c1f-0199a4a2c910"
      },
      "id": "8d8944b3-246d-42e8-975d-820689a87747",
      "cell_type": "code",
      "execution_count": null,
      "outputs": [
        {
          "output_type": "stream",
          "name": "stdout",
          "text": [
            "              precision    recall  f1-score   support\n",
            "\n",
            "           0       0.86      0.91      0.88     10921\n",
            "           1       0.19      0.12      0.15      1879\n",
            "\n",
            "    accuracy                           0.80     12800\n",
            "   macro avg       0.52      0.52      0.51     12800\n",
            "weighted avg       0.76      0.80      0.78     12800\n",
            "\n"
          ]
        }
      ]
    },
    {
      "source": [
        "best_class_pickled = pickle.dump(model, open('class_model.pkl', 'wb'))"
      ],
      "metadata": {
        "id": "426442f8-f5f1-46db-9ec3-2ac66d59a860"
      },
      "id": "426442f8-f5f1-46db-9ec3-2ac66d59a860",
      "cell_type": "code",
      "execution_count": null,
      "outputs": []
    },
    {
      "source": [
        "#### Now we will start working on regression model to predict spending "
      ],
      "metadata": {
        "id": "3c09151d-92c3-46ec-9c94-bc2daa673230"
      },
      "id": "3c09151d-92c3-46ec-9c94-bc2daa673230",
      "cell_type": "markdown"
    },
    {
      "source": [
        "# create function for fit and score of ML models (Regression)\n",
        "def fit_score_reg(models, x_train, x_test, y_train, y_test):\n",
        "    for name, model in models.items() :\n",
        "        start = time.time()\n",
        "        print (f\"Fitting {name} model ....\")\n",
        "        model.fit(x_train, y_train)\n",
        "        end = time.time()\n",
        "        print (f\"{name} Model has took {(end-start):.2f} seconds to finish\")\n",
        "        y_pred = model.predict(x_test)\n",
        "        print (f\"MAE for {name} model is {mean_absolute_error(y_test, y_pred):.2f}\")\n",
        "        print (f\"MSE for {name} model is {mean_squared_error(y_test, y_pred):.2f}\")\n",
        "        print (f\"RMSE for {name} model is {np.sqrt(mean_squared_error(y_test, y_pred)):.2f}\")\n",
        "        print ('--------------------------------------------')\n",
        "# Specify regression models and run ml function\n",
        "reg_models = {\n",
        "    'Linear_Regression':LinearRegression(),\n",
        "    'Ridge':Ridge(),\n",
        "    'Lasso':Lasso(),\n",
        "    'Random_Forest':RandomForestRegressor()\n",
        "}\n",
        "fit_score_reg(reg_models, x2_train, x2_test, y2_train, y2_test)"
      ],
      "metadata": {
        "colab": {
          "base_uri": "https://localhost:8080/"
        },
        "id": "6c0bec95-ef85-480e-ab68-846239ffac78",
        "outputId": "bb5b1533-b98a-4921-9882-8e42e5c4c41d"
      },
      "id": "6c0bec95-ef85-480e-ab68-846239ffac78",
      "cell_type": "code",
      "execution_count": null,
      "outputs": [
        {
          "output_type": "stream",
          "name": "stdout",
          "text": [
            "Fitting Linear_Regression model ....\n",
            "Linear_Regression Model has took 0.04 seconds to finish\n",
            "MAE for Linear_Regression model is 1.97\n",
            "MSE for Linear_Regression model is 174.69\n",
            "RMSE for Linear_Regression model is 13.22\n",
            "--------------------------------------------\n",
            "Fitting Ridge model ....\n",
            "Ridge Model has took 0.01 seconds to finish\n",
            "MAE for Ridge model is 1.97\n",
            "MSE for Ridge model is 174.69\n",
            "RMSE for Ridge model is 13.22\n",
            "--------------------------------------------\n",
            "Fitting Lasso model ....\n",
            "Lasso Model has took 0.01 seconds to finish\n",
            "MAE for Lasso model is 1.97\n",
            "MSE for Lasso model is 174.67\n",
            "RMSE for Lasso model is 13.22\n",
            "--------------------------------------------\n",
            "Fitting Random_Forest model ....\n",
            "Random_Forest Model has took 8.61 seconds to finish\n",
            "MAE for Random_Forest model is 2.13\n",
            "MSE for Random_Forest model is 211.67\n",
            "RMSE for Random_Forest model is 14.55\n",
            "--------------------------------------------\n"
          ]
        }
      ]
    },
    {
      "source": [
        "model = LinearRegression()\n",
        "model.fit(x2_train, y2_train)\n",
        "reg_model_pickled = pickle.dump(model, open('reg_model.pkl', 'wb'))"
      ],
      "metadata": {
        "id": "69e965b5-948e-4cdb-bd45-cbe6f4ba67eb"
      },
      "id": "69e965b5-948e-4cdb-bd45-cbe6f4ba67eb",
      "cell_type": "code",
      "execution_count": null,
      "outputs": []
    },
    {
      "source": [
        "#### 5. Final Report & Findings \n",
        "##### Regarding final findings, we will try to answer main questions with visualizations and present findings from data"
      ],
      "metadata": {
        "id": "dae1b5d8-112b-453a-bcaa-53e50213e083"
      },
      "id": "dae1b5d8-112b-453a-bcaa-53e50213e083",
      "cell_type": "markdown"
    },
    {
      "source": [
        "df.head()"
      ],
      "metadata": {
        "colab": {
          "base_uri": "https://localhost:8080/",
          "height": 206
        },
        "id": "17c3b352-e4b6-4886-b1da-1114d5856e8e",
        "outputId": "58708630-efa4-4198-fab4-a525e06060ed"
      },
      "id": "17c3b352-e4b6-4886-b1da-1114d5856e8e",
      "cell_type": "code",
      "execution_count": null,
      "outputs": [
        {
          "output_type": "execute_result",
          "data": {
            "text/plain": [
              "   recency history_segment  history  mens  womens   zip_code  newbie channel  \\\n",
              "0       10  2) $100 - $200   142.44     1       0  Surburban       0   Phone   \n",
              "1        6  3) $200 - $350   329.08     1       1      Rural       1     Web   \n",
              "2        7  2) $100 - $200   180.65     0       1  Surburban       1     Web   \n",
              "3        9  5) $500 - $750   675.83     1       0      Rural       1     Web   \n",
              "4        2    1) $0 - $100    45.34     1       0      Urban       0     Web   \n",
              "\n",
              "         segment  visit  conversion  spend  \n",
              "0  Womens E-Mail      0           0    0.0  \n",
              "1      No E-Mail      0           0    0.0  \n",
              "2  Womens E-Mail      0           0    0.0  \n",
              "3    Mens E-Mail      0           0    0.0  \n",
              "4  Womens E-Mail      0           0    0.0  "
            ],
            "text/html": [
              "\n",
              "  <div id=\"df-7684f7a2-b9c3-4293-b1c6-40764f188a65\">\n",
              "    <div class=\"colab-df-container\">\n",
              "      <div>\n",
              "<style scoped>\n",
              "    .dataframe tbody tr th:only-of-type {\n",
              "        vertical-align: middle;\n",
              "    }\n",
              "\n",
              "    .dataframe tbody tr th {\n",
              "        vertical-align: top;\n",
              "    }\n",
              "\n",
              "    .dataframe thead th {\n",
              "        text-align: right;\n",
              "    }\n",
              "</style>\n",
              "<table border=\"1\" class=\"dataframe\">\n",
              "  <thead>\n",
              "    <tr style=\"text-align: right;\">\n",
              "      <th></th>\n",
              "      <th>recency</th>\n",
              "      <th>history_segment</th>\n",
              "      <th>history</th>\n",
              "      <th>mens</th>\n",
              "      <th>womens</th>\n",
              "      <th>zip_code</th>\n",
              "      <th>newbie</th>\n",
              "      <th>channel</th>\n",
              "      <th>segment</th>\n",
              "      <th>visit</th>\n",
              "      <th>conversion</th>\n",
              "      <th>spend</th>\n",
              "    </tr>\n",
              "  </thead>\n",
              "  <tbody>\n",
              "    <tr>\n",
              "      <th>0</th>\n",
              "      <td>10</td>\n",
              "      <td>2) $100 - $200</td>\n",
              "      <td>142.44</td>\n",
              "      <td>1</td>\n",
              "      <td>0</td>\n",
              "      <td>Surburban</td>\n",
              "      <td>0</td>\n",
              "      <td>Phone</td>\n",
              "      <td>Womens E-Mail</td>\n",
              "      <td>0</td>\n",
              "      <td>0</td>\n",
              "      <td>0.0</td>\n",
              "    </tr>\n",
              "    <tr>\n",
              "      <th>1</th>\n",
              "      <td>6</td>\n",
              "      <td>3) $200 - $350</td>\n",
              "      <td>329.08</td>\n",
              "      <td>1</td>\n",
              "      <td>1</td>\n",
              "      <td>Rural</td>\n",
              "      <td>1</td>\n",
              "      <td>Web</td>\n",
              "      <td>No E-Mail</td>\n",
              "      <td>0</td>\n",
              "      <td>0</td>\n",
              "      <td>0.0</td>\n",
              "    </tr>\n",
              "    <tr>\n",
              "      <th>2</th>\n",
              "      <td>7</td>\n",
              "      <td>2) $100 - $200</td>\n",
              "      <td>180.65</td>\n",
              "      <td>0</td>\n",
              "      <td>1</td>\n",
              "      <td>Surburban</td>\n",
              "      <td>1</td>\n",
              "      <td>Web</td>\n",
              "      <td>Womens E-Mail</td>\n",
              "      <td>0</td>\n",
              "      <td>0</td>\n",
              "      <td>0.0</td>\n",
              "    </tr>\n",
              "    <tr>\n",
              "      <th>3</th>\n",
              "      <td>9</td>\n",
              "      <td>5) $500 - $750</td>\n",
              "      <td>675.83</td>\n",
              "      <td>1</td>\n",
              "      <td>0</td>\n",
              "      <td>Rural</td>\n",
              "      <td>1</td>\n",
              "      <td>Web</td>\n",
              "      <td>Mens E-Mail</td>\n",
              "      <td>0</td>\n",
              "      <td>0</td>\n",
              "      <td>0.0</td>\n",
              "    </tr>\n",
              "    <tr>\n",
              "      <th>4</th>\n",
              "      <td>2</td>\n",
              "      <td>1) $0 - $100</td>\n",
              "      <td>45.34</td>\n",
              "      <td>1</td>\n",
              "      <td>0</td>\n",
              "      <td>Urban</td>\n",
              "      <td>0</td>\n",
              "      <td>Web</td>\n",
              "      <td>Womens E-Mail</td>\n",
              "      <td>0</td>\n",
              "      <td>0</td>\n",
              "      <td>0.0</td>\n",
              "    </tr>\n",
              "  </tbody>\n",
              "</table>\n",
              "</div>\n",
              "      <button class=\"colab-df-convert\" onclick=\"convertToInteractive('df-7684f7a2-b9c3-4293-b1c6-40764f188a65')\"\n",
              "              title=\"Convert this dataframe to an interactive table.\"\n",
              "              style=\"display:none;\">\n",
              "        \n",
              "  <svg xmlns=\"http://www.w3.org/2000/svg\" height=\"24px\"viewBox=\"0 0 24 24\"\n",
              "       width=\"24px\">\n",
              "    <path d=\"M0 0h24v24H0V0z\" fill=\"none\"/>\n",
              "    <path d=\"M18.56 5.44l.94 2.06.94-2.06 2.06-.94-2.06-.94-.94-2.06-.94 2.06-2.06.94zm-11 1L8.5 8.5l.94-2.06 2.06-.94-2.06-.94L8.5 2.5l-.94 2.06-2.06.94zm10 10l.94 2.06.94-2.06 2.06-.94-2.06-.94-.94-2.06-.94 2.06-2.06.94z\"/><path d=\"M17.41 7.96l-1.37-1.37c-.4-.4-.92-.59-1.43-.59-.52 0-1.04.2-1.43.59L10.3 9.45l-7.72 7.72c-.78.78-.78 2.05 0 2.83L4 21.41c.39.39.9.59 1.41.59.51 0 1.02-.2 1.41-.59l7.78-7.78 2.81-2.81c.8-.78.8-2.07 0-2.86zM5.41 20L4 18.59l7.72-7.72 1.47 1.35L5.41 20z\"/>\n",
              "  </svg>\n",
              "      </button>\n",
              "      \n",
              "  <style>\n",
              "    .colab-df-container {\n",
              "      display:flex;\n",
              "      flex-wrap:wrap;\n",
              "      gap: 12px;\n",
              "    }\n",
              "\n",
              "    .colab-df-convert {\n",
              "      background-color: #E8F0FE;\n",
              "      border: none;\n",
              "      border-radius: 50%;\n",
              "      cursor: pointer;\n",
              "      display: none;\n",
              "      fill: #1967D2;\n",
              "      height: 32px;\n",
              "      padding: 0 0 0 0;\n",
              "      width: 32px;\n",
              "    }\n",
              "\n",
              "    .colab-df-convert:hover {\n",
              "      background-color: #E2EBFA;\n",
              "      box-shadow: 0px 1px 2px rgba(60, 64, 67, 0.3), 0px 1px 3px 1px rgba(60, 64, 67, 0.15);\n",
              "      fill: #174EA6;\n",
              "    }\n",
              "\n",
              "    [theme=dark] .colab-df-convert {\n",
              "      background-color: #3B4455;\n",
              "      fill: #D2E3FC;\n",
              "    }\n",
              "\n",
              "    [theme=dark] .colab-df-convert:hover {\n",
              "      background-color: #434B5C;\n",
              "      box-shadow: 0px 1px 3px 1px rgba(0, 0, 0, 0.15);\n",
              "      filter: drop-shadow(0px 1px 2px rgba(0, 0, 0, 0.3));\n",
              "      fill: #FFFFFF;\n",
              "    }\n",
              "  </style>\n",
              "\n",
              "      <script>\n",
              "        const buttonEl =\n",
              "          document.querySelector('#df-7684f7a2-b9c3-4293-b1c6-40764f188a65 button.colab-df-convert');\n",
              "        buttonEl.style.display =\n",
              "          google.colab.kernel.accessAllowed ? 'block' : 'none';\n",
              "\n",
              "        async function convertToInteractive(key) {\n",
              "          const element = document.querySelector('#df-7684f7a2-b9c3-4293-b1c6-40764f188a65');\n",
              "          const dataTable =\n",
              "            await google.colab.kernel.invokeFunction('convertToInteractive',\n",
              "                                                     [key], {});\n",
              "          if (!dataTable) return;\n",
              "\n",
              "          const docLinkHtml = 'Like what you see? Visit the ' +\n",
              "            '<a target=\"_blank\" href=https://colab.research.google.com/notebooks/data_table.ipynb>data table notebook</a>'\n",
              "            + ' to learn more about interactive tables.';\n",
              "          element.innerHTML = '';\n",
              "          dataTable['output_type'] = 'display_data';\n",
              "          await google.colab.output.renderOutput(dataTable, element);\n",
              "          const docLink = document.createElement('div');\n",
              "          docLink.innerHTML = docLinkHtml;\n",
              "          element.appendChild(docLink);\n",
              "        }\n",
              "      </script>\n",
              "    </div>\n",
              "  </div>\n",
              "  "
            ]
          },
          "metadata": {},
          "execution_count": 24
        }
      ]
    },
    {
      "source": [
        "##### 5.1 Which Email Campaign Performs the Best ? "
      ],
      "metadata": {
        "id": "a0a1a848-b534-411d-9914-082742e3b8d6"
      },
      "id": "a0a1a848-b534-411d-9914-082742e3b8d6",
      "cell_type": "markdown"
    },
    {
      "source": [
        "data = df.groupby(by='segment').agg({'visit':np.mean, 'conversion':np.mean})\n",
        "data['visit'] = round(100 * data['visit'],2)\n",
        "data['conversion'] = round(100 * data['conversion'],2)\n",
        "data = data.reset_index().sort_values(by='visit', ascending=False)\n",
        "data.plot(kind='bar', x='segment', figsize=(20, 10))\n",
        "plt.title('Visits & Conversion Percentages for Different Campaigns in Last Two Weeks', fontsize=20)\n",
        "plt.legend(['Visit %', 'Conversion %'], fontsize=14)\n",
        "plt.xticks(fontsize=16, rotation=45)\n",
        "plt.yticks(fontsize=12)\n",
        "plt.xlabel('Campaign', fontsize=16)\n",
        "plt.ylabel('Percentage %', fontsize=16);"
      ],
      "metadata": {
        "colab": {
          "base_uri": "https://localhost:8080/",
          "height": 705
        },
        "id": "a8580cd4-92d7-47e9-9ae1-b79aa3828c1d",
        "outputId": "dca2dfa9-e4f8-4d78-e833-7c8c309bab8d"
      },
      "id": "a8580cd4-92d7-47e9-9ae1-b79aa3828c1d",
      "cell_type": "code",
      "execution_count": null,
      "outputs": [
        {
          "output_type": "display_data",
          "data": {
            "text/plain": [
              "<Figure size 1440x720 with 1 Axes>"
            ],
            "image/png": "[encoded data removed]"
          },
          "metadata": {
            "needs_background": "light"
          }
        }
      ]
    },
    {
      "source": [
        "data = df.groupby(by='segment').agg({'spend':np.sum})\n",
        "data = data.reset_index().sort_values(by='spend', ascending=False)\n",
        "data.plot(kind='bar', x='segment', figsize=(20, 10))\n",
        "plt.title('Revenue from Different Campaigns in Last Two Weeks', fontsize=20)\n",
        "plt.legend(\"\")\n",
        "plt.xticks(fontsize=16, rotation=45)\n",
        "plt.yticks(fontsize=12)\n",
        "plt.xlabel('Campaign', fontsize=16)\n",
        "plt.ylabel('Revenue ($)', fontsize=16);"
      ],
      "metadata": {
        "id": "52f2c080-1011-4eca-96ae-f0590d788760",
        "outputId": "cd500368-c724-43a9-aca1-daa877ec0955"
      },
      "cell_type": "code",
      "id": "52f2c080-1011-4eca-96ae-f0590d788760",
      "execution_count": null,
      "outputs": [
        {
          "output_type": "display_data",
          "data": {
            "text/plain": "<Figure size 1440x720 with 1 Axes>",
            "image/png": "[encoded data removed]"
          },
          "metadata": {
            "needs_background": "light"
          }
        }
      ]
    },
    {
      "source": [
        "##### 5.2 From ML Model and Exploratory Analysis, who would and who wouldn't be main target in future ? "
      ],
      "metadata": {
        "id": "b1b17c75-bbbb-493f-9f48-63b1b0bfddfd"
      },
      "id": "b1b17c75-bbbb-493f-9f48-63b1b0bfddfd",
      "cell_type": "markdown"
    },
    {
      "source": [
        "# Effect of Recency on Actual Spending\n",
        "data = df.groupby(['segment', 'recency'])['history'].sum().reset_index()\n",
        "fig, ax = plt.subplots(figsize=(20, 10))\n",
        "ax = sns.lineplot(data=data, x='recency', y='history', hue='segment')\n",
        "plt.title(\"Effect of History on Spending for Different Campaigns\", fontsize=20)\n",
        "plt.legend(fontsize=14)\n",
        "plt.xticks(fontsize=12)\n",
        "plt.yticks(fontsize=12)\n",
        "plt.xlabel('Recency', fontsize=16)\n",
        "plt.ylabel('Revenue ($)', fontsize=16);"
      ],
      "metadata": {
        "id": "ea9bf24c-ce6a-492f-9a0a-fca3f3cbf4e4",
        "outputId": "394c05c2-5344-4c24-f109-a920adb48e34",
        "colab": {
          "base_uri": "https://localhost:8080/",
          "height": 635
        }
      },
      "id": "ea9bf24c-ce6a-492f-9a0a-fca3f3cbf4e4",
      "cell_type": "code",
      "execution_count": null,
      "outputs": [
        {
          "output_type": "display_data",
          "data": {
            "text/plain": [
              "<Figure size 1440x720 with 1 Axes>"
            ],
            "image/png": "[encoded data removed]"
          },
          "metadata": {
            "needs_background": "light"
          }
        }
      ]
    },
    {
      "source": [
        "# Effect of History Segment on Actual Spending\n",
        "data = df.groupby(['segment', 'history_segment'])['spend'].sum().reset_index().sort_values(by='spend')\n",
        "fig, ax = plt.subplots(figsize=(20, 10))\n",
        "ax = sns.lineplot(data=data, x='history_segment', y='spend', hue='segment')\n",
        "plt.title(\"Effect of History Segment on Spending for Different Campaigns\", fontsize=20)\n",
        "plt.legend(fontsize=14)\n",
        "plt.xticks(fontsize=12)\n",
        "plt.yticks(fontsize=12)\n",
        "plt.xlabel('History Segment', fontsize=16)\n",
        "plt.ylabel('Spending ($)', fontsize=16);"
      ],
      "metadata": {
        "id": "2950683e-5bf8-4058-9a12-d049b1c45e73",
        "outputId": "8c3a60d3-ac45-40fa-8ccb-41aae77a062d"
      },
      "cell_type": "code",
      "id": "2950683e-5bf8-4058-9a12-d049b1c45e73",
      "execution_count": null,
      "outputs": [
        {
          "output_type": "display_data",
          "data": {
            "text/plain": "<Figure size 1440x720 with 1 Axes>",
            "image/png": "[encoded data removed]"
          },
          "metadata": {
            "needs_background": "light"
          }
        }
      ]
    },
    {
      "source": [
        "# Effect of Gender Merchandise on Actual Spending\n",
        "data = df.groupby(['segment', 'gender_merchandise'])['history'].sum().reset_index().sort_values(by='history')\n",
        "fig, ax = plt.subplots(figsize=(20, 10))\n",
        "ax = sns.barplot(data=data, x='gender_merchandise', y='history', hue='segment')\n",
        "plt.title(\"Effect of Gender Merchandise on History for Different Campaigns\", fontsize=20)\n",
        "plt.legend(fontsize=14)\n",
        "plt.xticks(fontsize=12)\n",
        "plt.yticks(fontsize=12)\n",
        "plt.xlabel('Gender Merchandise', fontsize=16)\n",
        "plt.ylabel('Revenue($)', fontsize=16);"
      ],
      "metadata": {
        "id": "3288fcfc-085f-4dad-8f51-9180a7c4d924",
        "outputId": "822f0bc4-9d40-4086-e4f6-a056578f5d10",
        "colab": {
          "base_uri": "https://localhost:8080/",
          "height": 635
        }
      },
      "cell_type": "code",
      "id": "3288fcfc-085f-4dad-8f51-9180a7c4d924",
      "execution_count": null,
      "outputs": [
        {
          "output_type": "display_data",
          "data": {
            "text/plain": [
              "<Figure size 1440x720 with 1 Axes>"
            ],
            "image/png": "[encoded data removed]"
          },
          "metadata": {
            "needs_background": "light"
          }
        }
      ]
    },
    {
      "source": [
        "# Effect of zip_code on Actual Spending\n",
        "data = df.groupby(['segment', 'zip_code'])['history'].sum().reset_index().sort_values(by='history')\n",
        "fig, ax = plt.subplots(figsize=(20, 10))\n",
        "ax = sns.barplot(data=data, x='zip_code', y='history', hue='segment')\n",
        "plt.title(\"Effect of Location on History for Different Campaigns\", fontsize=20)\n",
        "plt.legend(fontsize=14)\n",
        "plt.xticks(fontsize=12)\n",
        "plt.yticks(fontsize=12)\n",
        "plt.xlabel('Zip Code', fontsize=16)\n",
        "plt.ylabel('Revenue($)', fontsize=16);"
      ],
      "metadata": {
        "id": "b7fff418-66f9-4cca-afb1-bb3e3c7fcd97",
        "outputId": "626dad43-c22b-4b44-dc1c-e3e81aaf774a",
        "colab": {
          "base_uri": "https://localhost:8080/",
          "height": 635
        }
      },
      "cell_type": "code",
      "id": "b7fff418-66f9-4cca-afb1-bb3e3c7fcd97",
      "execution_count": null,
      "outputs": [
        {
          "output_type": "display_data",
          "data": {
            "text/plain": [
              "<Figure size 1440x720 with 1 Axes>"
            ],
            "image/png": "[encoded data removed]"
          },
          "metadata": {
            "needs_background": "light"
          }
        }
      ]
    },
    {
      "source": [
        "# Effect of Channel on Actual Spending\n",
        "data = df.groupby(['segment', 'channel'])['history'].sum().reset_index().sort_values(by='history')\n",
        "fig, ax = plt.subplots(figsize=(20, 10))\n",
        "ax = sns.barplot(data=data, x='channel', y='history', hue='segment')\n",
        "plt.title(\"Effect of View Channel on history for Different Campaigns\", fontsize=20)\n",
        "plt.legend(fontsize=14)\n",
        "plt.xticks(fontsize=12)\n",
        "plt.yticks(fontsize=12)\n",
        "plt.xlabel('Channel', fontsize=16)\n",
        "plt.ylabel('Revenue ($)', fontsize=16);"
      ],
      "metadata": {
        "id": "8a33fcaa-28bc-49fc-925e-b836561f8885",
        "outputId": "76005a4c-545e-43b0-cc94-f9ea7afa01a3",
        "colab": {
          "base_uri": "https://localhost:8080/",
          "height": 635
        }
      },
      "id": "8a33fcaa-28bc-49fc-925e-b836561f8885",
      "cell_type": "code",
      "execution_count": null,
      "outputs": [
        {
          "output_type": "display_data",
          "data": {
            "text/plain": [
              "<Figure size 1440x720 with 1 Axes>"
            ],
            "image/png": "[encoded data removed]"
          },
          "metadata": {
            "needs_background": "light"
          }
        }
      ]
    },
    {
      "source": [
        "##### 5.3 How many targets would we go after in future ? "
      ],
      "metadata": {
        "id": "4569bf40-e5f6-4dbf-9a11-b6ed47b47d4e"
      },
      "id": "4569bf40-e5f6-4dbf-9a11-b6ed47b47d4e",
      "cell_type": "markdown"
    },
    {
      "source": [
        "##### We would need to go after customers that who didn't respond to our campaign either by buying or even visiting our product"
      ],
      "metadata": {
        "id": "baebcfc5-a35d-4e81-ab1c-ee9293d7bd05"
      },
      "cell_type": "markdown",
      "id": "baebcfc5-a35d-4e81-ab1c-ee9293d7bd05"
    },
    {
      "source": [
        "non_visit_conv = df[(df['visit']==0) & (df['conversion']==0)]\n",
        "print (f\"Around {len(non_visit_conv)} person haven't responded to our campign making percentage of {100 * len(non_visit_conv)/len(df):.1f} % of total customers\")"
      ],
      "metadata": {
        "id": "af14fb06-79b6-4520-aeb1-b58b0a66315f",
        "outputId": "854e510b-5666-4afd-fe95-8a1e93ff2893"
      },
      "cell_type": "code",
      "id": "af14fb06-79b6-4520-aeb1-b58b0a66315f",
      "execution_count": null,
      "outputs": [
        {
          "name": "stdout",
          "text": "Around 54606 person haven't responded to our campign making percentage of 85.3 % of total customers\n",
          "output_type": "stream"
        }
      ]
    },
    {
      "source": [
        "##### 5.4 Main Findings in Data from Exploratory Analysis\n",
        "* For Three Segments (Men Campaign, Women Campaign, No Campaign), it appears that Men Campaign was the most successful as Men campaign achieved more than 1.3 revenue than women campaign and more than 2 times that of no campaign at all. Results are nearly the same for visits percentage. \n",
        "* Customers with low recency are more likely to respond to campaigns and make purchase. Actually from 40-50 % of campaign revenue was from customers with less than 4 months recency.\n",
        "* Customers from low purchase history segments (<350$) are much more likely to respond. Actually these segments are the vast majority of our customers making more than 60% of campaign revenue making them very potential customer. \n",
        "* Our main customers are in Suburban & urban regions making revenue more than 2-3 times that of rural regions. \n",
        "* Web & Phone channels users are more likely to respond than multichannel users. They were 3 times more responsive to campaign than multichannel users. In General These 2 channel achieve 1.5 more revenue than multichannel. "
      ],
      "metadata": {
        "id": "82fb6e39-61c4-44df-8b24-27c656d11ebc"
      },
      "id": "82fb6e39-61c4-44df-8b24-27c656d11ebc",
      "cell_type": "markdown"
    },
    {
      "source": [
        "##### 5.5 Key Insights and Recommendations \n",
        "* For Evaluation Purposes, Men Campaign was the best. Also, for evaluation both campaigns were not very successful as 85.3% of all previous customers didn't respond at all. More work on next campaign is needed. \n",
        "* Customers with low recency are more likely to discover new platforms but actually people with history segment from 200-750 $ are very stable segments to rely on. Next Campaign need to attract new customers as they would be very stable source of revenue if they got attached. \n",
        "* With rise of technology, more focus is needed on web, phone platforms as they present most of revenue and are much more usable. \n",
        "* Rural regions due to lifestyle may not very interested in our product. Lifestyle of customer (Urban, Suburban) is very important in determining and maintaining potential customers. "
      ],
      "metadata": {
        "id": "6cc3784d-9b4b-4aa4-bb64-cb963ffc2925"
      },
      "id": "6cc3784d-9b4b-4aa4-bb64-cb963ffc2925",
      "cell_type": "markdown"
    },
    {
      "source": [],
      "metadata": {
        "id": "a95dfd77-3d3f-4b0c-9c9f-936769205c32"
      },
      "cell_type": "code",
      "id": "a95dfd77-3d3f-4b0c-9c9f-936769205c32",
      "execution_count": null,
      "outputs": []
    }
  ],
  "metadata": {
    "colab": {
      "provenance": [],
      "collapsed_sections": [
        "324bd21f-20b4-4340-aab7-a0a8949061a6",
        "28a8dc75-0c43-4b6e-9e7b-8cba17cf5dd8"
      ],
      "include_colab_link": true
    },
    "kernelspec": {
      "display_name": "Python 3 (ipykernel)",
      "language": "python",
      "name": "python3"
    },
    "language_info": {
      "codemirror_mode": {
        "name": "ipython",
        "version": 3
      },
      "file_extension": ".py",
      "mimetype": "text/x-python",
      "name": "python",
      "nbconvert_exporter": "python",
      "pygments_lexer": "ipython3",
      "version": "3.8.10"
    }
  },
  "nbformat": 4,
  "nbformat_minor": 5
}